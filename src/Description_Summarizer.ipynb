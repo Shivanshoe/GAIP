{
 "cells": [
  {
   "cell_type": "code",
   "execution_count": 1,
   "metadata": {},
   "outputs": [
    {
     "name": "stdout",
     "output_type": "stream",
     "text": [
      "Wed Jul 20 01:19:05 2022       \n",
      "+-----------------------------------------------------------------------------+\n",
      "| NVIDIA-SMI 516.40       Driver Version: 516.40       CUDA Version: 11.7     |\n",
      "|-------------------------------+----------------------+----------------------+\n",
      "| GPU  Name            TCC/WDDM | Bus-Id        Disp.A | Volatile Uncorr. ECC |\n",
      "| Fan  Temp  Perf  Pwr:Usage/Cap|         Memory-Usage | GPU-Util  Compute M. |\n",
      "|                               |                      |               MIG M. |\n",
      "|===============================+======================+======================|\n",
      "|   0  NVIDIA GeForce ... WDDM  | 00000000:01:00.0 Off |                  N/A |\n",
      "| N/A   57C    P8    11W /  N/A |    982MiB /  8192MiB |      0%      Default |\n",
      "|                               |                      |                  N/A |\n",
      "+-------------------------------+----------------------+----------------------+\n",
      "                                                                               \n",
      "+-----------------------------------------------------------------------------+\n",
      "| Processes:                                                                  |\n",
      "|  GPU   GI   CI        PID   Type   Process name                  GPU Memory |\n",
      "|        ID   ID                                                   Usage      |\n",
      "|=============================================================================|\n",
      "|    0   N/A  N/A      8096      C   ...ython\\Python39\\python.exe    N/A      |\n",
      "|    0   N/A  N/A     10584      C   ...ython\\Python39\\python.exe    N/A      |\n",
      "|    0   N/A  N/A     21196    C+G   ...LORANT-Win64-Shipping.exe    N/A      |\n",
      "+-----------------------------------------------------------------------------+\n"
     ]
    }
   ],
   "source": [
    "!nvidia-smi"
   ]
  },
  {
   "cell_type": "code",
   "execution_count": 2,
   "metadata": {},
   "outputs": [],
   "source": [
    "import re\n",
    "import os\n",
    "import time\n",
    "import numpy as np\n",
    "import sklearn\n",
    "import pandas as pd \n",
    "import unicodedata\n",
    "import tensorflow as tf\n",
    "import tensorflow.keras as krs\n",
    "from tensorflow.keras.layers import Embedding\n",
    "from tensorflow.keras.optimizers import Adam\n",
    "from tensorflow.keras.losses import SparseCategoricalCrossentropy, CategoricalCrossentropy\n",
    "from tensorflow.keras.preprocessing.text import Tokenizer \n",
    "from tensorflow.keras.optimizers.schedules import LearningRateSchedule\n",
    "import csv\n",
    "\n",
    "BUFFER_SIZE = 20000\n",
    "BATCH_SIZE = 32\n",
    "embedding_dim = 50 # first it was 200"
   ]
  },
  {
   "cell_type": "code",
   "execution_count": 3,
   "metadata": {},
   "outputs": [
    {
     "name": "stderr",
     "output_type": "stream",
     "text": [
      "\u001b[34m\u001b[1mwandb\u001b[0m: Currently logged in as: \u001b[33mchirag1\u001b[0m. Use \u001b[1m`wandb login --relogin`\u001b[0m to force relogin\n"
     ]
    },
    {
     "data": {
      "text/html": [
       "Tracking run with wandb version 0.12.21"
      ],
      "text/plain": [
       "<IPython.core.display.HTML object>"
      ]
     },
     "metadata": {},
     "output_type": "display_data"
    },
    {
     "data": {
      "text/html": [
       "Run data is saved locally in <code>C:\\Users\\shiva\\Downloads\\wandb_summarizer\\wandb\\run-20220720_011917-1wuxmq1t</code>"
      ],
      "text/plain": [
       "<IPython.core.display.HTML object>"
      ]
     },
     "metadata": {},
     "output_type": "display_data"
    },
    {
     "data": {
      "text/html": [
       "Syncing run <strong><a href=\"https://wandb.ai/chirag1/gaip-15/runs/1wuxmq1t\" target=\"_blank\">elated-spaceship-7</a></strong> to <a href=\"https://wandb.ai/chirag1/gaip-15\" target=\"_blank\">Weights & Biases</a> (<a href=\"https://wandb.me/run\" target=\"_blank\">docs</a>)<br/>"
      ],
      "text/plain": [
       "<IPython.core.display.HTML object>"
      ]
     },
     "metadata": {},
     "output_type": "display_data"
    },
    {
     "data": {
      "text/html": [
       "<button onClick=\"this.nextSibling.style.display='block';this.style.display='none';\">Display W&B run</button><iframe src=\"https://wandb.ai/chirag1/gaip-15/runs/1wuxmq1t?jupyter=true\" style=\"border:none;width:100%;height:420px;display:none;\"></iframe>"
      ],
      "text/plain": [
       "<wandb.sdk.wandb_run.Run at 0x1e2a3178f70>"
      ]
     },
     "execution_count": 3,
     "metadata": {},
     "output_type": "execute_result"
    }
   ],
   "source": [
    "import wandb\n",
    "wandb.login()\n",
    "wandb.init(project=\"gaip-15\", entity=\"chirag1\")\n"
   ]
  },
  {
   "cell_type": "code",
   "execution_count": 4,
   "metadata": {},
   "outputs": [
    {
     "data": {
      "text/html": [
       "<div>\n",
       "<style scoped>\n",
       "    .dataframe tbody tr th:only-of-type {\n",
       "        vertical-align: middle;\n",
       "    }\n",
       "\n",
       "    .dataframe tbody tr th {\n",
       "        vertical-align: top;\n",
       "    }\n",
       "\n",
       "    .dataframe thead th {\n",
       "        text-align: right;\n",
       "    }\n",
       "</style>\n",
       "<table border=\"1\" class=\"dataframe\">\n",
       "  <thead>\n",
       "    <tr style=\"text-align: right;\">\n",
       "      <th></th>\n",
       "      <th>Unnamed: 0</th>\n",
       "      <th>id</th>\n",
       "      <th>url</th>\n",
       "      <th>title</th>\n",
       "      <th>summary</th>\n",
       "      <th>text</th>\n",
       "    </tr>\n",
       "  </thead>\n",
       "  <tbody>\n",
       "    <tr>\n",
       "      <th>0</th>\n",
       "      <td>0</td>\n",
       "      <td>uk-wales-56321577</td>\n",
       "      <td>https://www.bbc.com/news/uk-wales-56321577</td>\n",
       "      <td>Weather alert issued for gale force winds in W...</td>\n",
       "      <td>Winds could reach gale force in Wales with sto...</td>\n",
       "      <td>The Met Office has issued a yellow weather war...</td>\n",
       "    </tr>\n",
       "    <tr>\n",
       "      <th>1</th>\n",
       "      <td>1</td>\n",
       "      <td>uk-scotland-highlands-islands-11069985</td>\n",
       "      <td>https://www.bbc.com/news/uk-scotland-highlands...</td>\n",
       "      <td>Huge tidal turbine installed at Orkney test site</td>\n",
       "      <td>The massive tidal turbine AK1000 has been inst...</td>\n",
       "      <td>Atlantis Resources unveiled the marine energy ...</td>\n",
       "    </tr>\n",
       "    <tr>\n",
       "      <th>2</th>\n",
       "      <td>2</td>\n",
       "      <td>uk-england-leeds-45776523</td>\n",
       "      <td>https://www.bbc.com/news/uk-england-leeds-4577...</td>\n",
       "      <td>Leeds stabbing: Man attacked outside betting shop</td>\n",
       "      <td>A man has been stabbed in broad daylight outsi...</td>\n",
       "      <td>Police were called to the scene outside the Co...</td>\n",
       "    </tr>\n",
       "    <tr>\n",
       "      <th>3</th>\n",
       "      <td>3</td>\n",
       "      <td>world-us-canada-51010441</td>\n",
       "      <td>https://www.bbc.com/news/world-us-canada-51010441</td>\n",
       "      <td>Could killing of Iranian general help Trump ge...</td>\n",
       "      <td>It was inevitable that the fallout from the US...</td>\n",
       "      <td>Anthony ZurcherNorth America reporter@awzurche...</td>\n",
       "    </tr>\n",
       "    <tr>\n",
       "      <th>4</th>\n",
       "      <td>4</td>\n",
       "      <td>uk-scotland-glasgow-west-52274685</td>\n",
       "      <td>https://www.bbc.com/news/uk-scotland-glasgow-w...</td>\n",
       "      <td>Coronavirus: 'I've moved out to protect my fam...</td>\n",
       "      <td>Week four of social distancing is starting to ...</td>\n",
       "      <td>By Debbie JacksonBBC Scotland But while most o...</td>\n",
       "    </tr>\n",
       "  </tbody>\n",
       "</table>\n",
       "</div>"
      ],
      "text/plain": [
       "   Unnamed: 0                                      id  \\\n",
       "0           0                       uk-wales-56321577   \n",
       "1           1  uk-scotland-highlands-islands-11069985   \n",
       "2           2               uk-england-leeds-45776523   \n",
       "3           3                world-us-canada-51010441   \n",
       "4           4       uk-scotland-glasgow-west-52274685   \n",
       "\n",
       "                                                 url  \\\n",
       "0         https://www.bbc.com/news/uk-wales-56321577   \n",
       "1  https://www.bbc.com/news/uk-scotland-highlands...   \n",
       "2  https://www.bbc.com/news/uk-england-leeds-4577...   \n",
       "3  https://www.bbc.com/news/world-us-canada-51010441   \n",
       "4  https://www.bbc.com/news/uk-scotland-glasgow-w...   \n",
       "\n",
       "                                               title  \\\n",
       "0  Weather alert issued for gale force winds in W...   \n",
       "1   Huge tidal turbine installed at Orkney test site   \n",
       "2  Leeds stabbing: Man attacked outside betting shop   \n",
       "3  Could killing of Iranian general help Trump ge...   \n",
       "4  Coronavirus: 'I've moved out to protect my fam...   \n",
       "\n",
       "                                             summary  \\\n",
       "0  Winds could reach gale force in Wales with sto...   \n",
       "1  The massive tidal turbine AK1000 has been inst...   \n",
       "2  A man has been stabbed in broad daylight outsi...   \n",
       "3  It was inevitable that the fallout from the US...   \n",
       "4  Week four of social distancing is starting to ...   \n",
       "\n",
       "                                                text  \n",
       "0  The Met Office has issued a yellow weather war...  \n",
       "1  Atlantis Resources unveiled the marine energy ...  \n",
       "2  Police were called to the scene outside the Co...  \n",
       "3  Anthony ZurcherNorth America reporter@awzurche...  \n",
       "4  By Debbie JacksonBBC Scotland But while most o...  "
      ]
     },
     "execution_count": 4,
     "metadata": {},
     "output_type": "execute_result"
    }
   ],
   "source": [
    "data_unprocessed_news = pd.read_csv('XLSUM/english_train.csv')\n",
    "data_unprocessed_news.head()"
   ]
  },
  {
   "cell_type": "code",
   "execution_count": 5,
   "metadata": {},
   "outputs": [
    {
     "data": {
      "text/html": [
       "<div>\n",
       "<style scoped>\n",
       "    .dataframe tbody tr th:only-of-type {\n",
       "        vertical-align: middle;\n",
       "    }\n",
       "\n",
       "    .dataframe tbody tr th {\n",
       "        vertical-align: top;\n",
       "    }\n",
       "\n",
       "    .dataframe thead th {\n",
       "        text-align: right;\n",
       "    }\n",
       "</style>\n",
       "<table border=\"1\" class=\"dataframe\">\n",
       "  <thead>\n",
       "    <tr style=\"text-align: right;\">\n",
       "      <th></th>\n",
       "      <th>Unnamed: 0</th>\n",
       "      <th>id</th>\n",
       "      <th>url</th>\n",
       "      <th>title</th>\n",
       "      <th>summary</th>\n",
       "      <th>text</th>\n",
       "    </tr>\n",
       "  </thead>\n",
       "  <tbody>\n",
       "    <tr>\n",
       "      <th>86396</th>\n",
       "      <td>86396</td>\n",
       "      <td>world-europe-guernsey-56418965</td>\n",
       "      <td>https://www.bbc.com/news/world-europe-guernsey...</td>\n",
       "      <td>Covid-19: Guernsey tourism businesses eligible...</td>\n",
       "      <td>Some Guernsey tourism businesses hit by the co...</td>\n",
       "      <td>The States said it would help hotels, taxis an...</td>\n",
       "    </tr>\n",
       "    <tr>\n",
       "      <th>268756</th>\n",
       "      <td>268756</td>\n",
       "      <td>technology-51400135</td>\n",
       "      <td>https://www.bbc.com/news/technology-51400135</td>\n",
       "      <td>Xbox says Nintendo and Sony no longer main rivals</td>\n",
       "      <td>Microsoft no longer sees PlayStation-maker Son...</td>\n",
       "      <td>Phil Spencer, Microsoft's head of gaming, said...</td>\n",
       "    </tr>\n",
       "    <tr>\n",
       "      <th>16181</th>\n",
       "      <td>16181</td>\n",
       "      <td>uk-scotland-north-east-orkney-shetland-37275924</td>\n",
       "      <td>https://www.bbc.com/news/uk-scotland-north-eas...</td>\n",
       "      <td>Talking Brexit, politics and cake</td>\n",
       "      <td>In the EU referendum vote, Moray narrowly favo...</td>\n",
       "      <td>By David AllisonBBC Scotland News In a coffee ...</td>\n",
       "    </tr>\n",
       "    <tr>\n",
       "      <th>242506</th>\n",
       "      <td>242506</td>\n",
       "      <td>education-49785130</td>\n",
       "      <td>https://www.bbc.com/news/education-49785130</td>\n",
       "      <td>Labour would replace 'unfit for purpose' Ofsted</td>\n",
       "      <td>Labour says it would scrap England's education...</td>\n",
       "      <td>Sean CoughlanEducation correspondent@seanjcoug...</td>\n",
       "    </tr>\n",
       "    <tr>\n",
       "      <th>202231</th>\n",
       "      <td>202231</td>\n",
       "      <td>world-africa-23788313</td>\n",
       "      <td>https://www.bbc.com/news/world-africa-23788313</td>\n",
       "      <td>Mugabe inauguration: New era or back to old days?</td>\n",
       "      <td>Hotels in Zimbabwe's capital, Harare, are fill...</td>\n",
       "      <td>By Brian HungweBBC News, Harare About 40 heads...</td>\n",
       "    </tr>\n",
       "  </tbody>\n",
       "</table>\n",
       "</div>"
      ],
      "text/plain": [
       "        Unnamed: 0                                               id  \\\n",
       "86396        86396                   world-europe-guernsey-56418965   \n",
       "268756      268756                              technology-51400135   \n",
       "16181        16181  uk-scotland-north-east-orkney-shetland-37275924   \n",
       "242506      242506                               education-49785130   \n",
       "202231      202231                            world-africa-23788313   \n",
       "\n",
       "                                                      url  \\\n",
       "86396   https://www.bbc.com/news/world-europe-guernsey...   \n",
       "268756       https://www.bbc.com/news/technology-51400135   \n",
       "16181   https://www.bbc.com/news/uk-scotland-north-eas...   \n",
       "242506        https://www.bbc.com/news/education-49785130   \n",
       "202231     https://www.bbc.com/news/world-africa-23788313   \n",
       "\n",
       "                                                    title  \\\n",
       "86396   Covid-19: Guernsey tourism businesses eligible...   \n",
       "268756  Xbox says Nintendo and Sony no longer main rivals   \n",
       "16181                   Talking Brexit, politics and cake   \n",
       "242506    Labour would replace 'unfit for purpose' Ofsted   \n",
       "202231  Mugabe inauguration: New era or back to old days?   \n",
       "\n",
       "                                                  summary  \\\n",
       "86396   Some Guernsey tourism businesses hit by the co...   \n",
       "268756  Microsoft no longer sees PlayStation-maker Son...   \n",
       "16181   In the EU referendum vote, Moray narrowly favo...   \n",
       "242506  Labour says it would scrap England's education...   \n",
       "202231  Hotels in Zimbabwe's capital, Harare, are fill...   \n",
       "\n",
       "                                                     text  \n",
       "86396   The States said it would help hotels, taxis an...  \n",
       "268756  Phil Spencer, Microsoft's head of gaming, said...  \n",
       "16181   By David AllisonBBC Scotland News In a coffee ...  \n",
       "242506  Sean CoughlanEducation correspondent@seanjcoug...  \n",
       "202231  By Brian HungweBBC News, Harare About 40 heads...  "
      ]
     },
     "execution_count": 5,
     "metadata": {},
     "output_type": "execute_result"
    }
   ],
   "source": [
    "from sklearn.utils import shuffle\n",
    "# shuffling the data \n",
    "data_unprocessed_news = shuffle(data_unprocessed_news)\n",
    "data_unprocessed_news.head()"
   ]
  },
  {
   "cell_type": "code",
   "execution_count": 6,
   "metadata": {},
   "outputs": [
    {
     "data": {
      "text/plain": [
       "((306522, 1), (306522, 1))"
      ]
     },
     "execution_count": 6,
     "metadata": {},
     "output_type": "execute_result"
    }
   ],
   "source": [
    "summaries, longreview = pd.DataFrame(), pd.DataFrame()\n",
    "summaries['summary'] = data_unprocessed_news['summary']#[:data_to_use]\n",
    "longreview['text'] = data_unprocessed_news['text']#[:data_to_use]\n",
    "(summaries.shape,longreview.shape)"
   ]
  },
  {
   "cell_type": "code",
   "execution_count": 7,
   "metadata": {},
   "outputs": [],
   "source": [
    "# replacing many abbreviations and lower casing the words\n",
    "def clean_words(sentence):\n",
    "    sentence = str(sentence).lower()\n",
    "    sentence = unicodedata.normalize('NFKD', sentence).encode('ascii', 'ignore').decode('utf-8', 'ignore') # for converting é to e and other accented chars\n",
    "    sentence = re.sub(r\"http\\S+\",\"\",sentence)\n",
    "    sentence = re.sub(r\"there's\", \"there is\", sentence)\n",
    "    sentence = re.sub(r\"i'm\", \"i am\", sentence)\n",
    "    sentence = re.sub(r\"he's\", \"he is\", sentence)\n",
    "    sentence = re.sub(r\"she's\", \"she is\", sentence)\n",
    "    sentence = re.sub(r\"it's\", \"it is\", sentence)\n",
    "    sentence = re.sub(r\"that's\", \"that is\", sentence)\n",
    "    sentence = re.sub(r\"what's\", \"that is\", sentence)\n",
    "    sentence = re.sub(r\"where's\", \"where is\", sentence)\n",
    "    sentence = re.sub(r\"how's\", \"how is\", sentence)\n",
    "    sentence = re.sub(r\"\\'ll\", \" will\", sentence)\n",
    "    sentence = re.sub(r\"\\'ve\", \" have\", sentence)\n",
    "    sentence = re.sub(r\"\\'re\", \" are\", sentence)\n",
    "    sentence = re.sub(r\"\\'d\", \" would\", sentence)\n",
    "    sentence = re.sub(r\"\\'re\", \" are\", sentence)\n",
    "    sentence = re.sub(r\"won't\", \"will not\", sentence)\n",
    "    sentence = re.sub(r\"can't\", \"cannot\", sentence)\n",
    "    sentence = re.sub(r\"n't\", \" not\", sentence)\n",
    "    sentence = re.sub(r\"n'\", \"ng\", sentence)\n",
    "    sentence = re.sub(r\"'bout\", \"about\", sentence)\n",
    "    sentence = re.sub(r\"'til\", \"until\", sentence)\n",
    "    sentence = re.sub(r\"\\\"\", \"\", sentence)\n",
    "    sentence = re.sub(r\"\\'\", \"\", sentence)\n",
    "    sentence = re.sub(r' s ', \"\",sentence)\n",
    "    sentence = re.sub(r\"&39\", \"\", sentence) # the inshorts data has this in it\n",
    "    sentence = re.sub(r\"&34\", \"\", sentence) # the inshorts data has this in it\n",
    "    sentence = re.sub(r\"[\\[\\]\\\\0-9()\\\"$#%/@;:<>{}`+=~|.!?,-]\", \"\", sentence)\n",
    "    sentence = re.sub(r\"&\", \"\", sentence)\n",
    "    sentence = re.sub(r\"\\\\n\", \"\", sentence)\n",
    "    sentence = sentence.strip()\n",
    "    return sentence"
   ]
  },
  {
   "cell_type": "code",
   "execution_count": 8,
   "metadata": {},
   "outputs": [],
   "source": [
    "summaries['summary'] = summaries['summary'].apply(lambda x: clean_words(x))\n",
    "longreview['text'] = longreview['text'].apply(lambda x: clean_words(x))"
   ]
  },
  {
   "cell_type": "code",
   "execution_count": 9,
   "metadata": {},
   "outputs": [
    {
     "data": {
      "text/html": [
       "<div>\n",
       "<style scoped>\n",
       "    .dataframe tbody tr th:only-of-type {\n",
       "        vertical-align: middle;\n",
       "    }\n",
       "\n",
       "    .dataframe tbody tr th {\n",
       "        vertical-align: top;\n",
       "    }\n",
       "\n",
       "    .dataframe thead th {\n",
       "        text-align: right;\n",
       "    }\n",
       "</style>\n",
       "<table border=\"1\" class=\"dataframe\">\n",
       "  <thead>\n",
       "    <tr style=\"text-align: right;\">\n",
       "      <th></th>\n",
       "      <th>text</th>\n",
       "    </tr>\n",
       "  </thead>\n",
       "  <tbody>\n",
       "    <tr>\n",
       "      <th>86396</th>\n",
       "      <td>the states said it would help hotels taxis and...</td>\n",
       "    </tr>\n",
       "    <tr>\n",
       "      <th>268756</th>\n",
       "      <td>phil spencer microsofts head of gaming said he...</td>\n",
       "    </tr>\n",
       "    <tr>\n",
       "      <th>16181</th>\n",
       "      <td>by david allisonbbc scotland news in a coffee ...</td>\n",
       "    </tr>\n",
       "    <tr>\n",
       "      <th>242506</th>\n",
       "      <td>sean coughlaneducation correspondentseanjcough...</td>\n",
       "    </tr>\n",
       "    <tr>\n",
       "      <th>202231</th>\n",
       "      <td>by brian hungwebbc news harare about  heads of...</td>\n",
       "    </tr>\n",
       "  </tbody>\n",
       "</table>\n",
       "</div>"
      ],
      "text/plain": [
       "                                                     text\n",
       "86396   the states said it would help hotels taxis and...\n",
       "268756  phil spencer microsofts head of gaming said he...\n",
       "16181   by david allisonbbc scotland news in a coffee ...\n",
       "242506  sean coughlaneducation correspondentseanjcough...\n",
       "202231  by brian hungwebbc news harare about  heads of..."
      ]
     },
     "execution_count": 9,
     "metadata": {},
     "output_type": "execute_result"
    }
   ],
   "source": [
    "longreview.head()"
   ]
  },
  {
   "cell_type": "code",
   "execution_count": 10,
   "metadata": {},
   "outputs": [
    {
     "data": {
      "text/html": [
       "<div>\n",
       "<style scoped>\n",
       "    .dataframe tbody tr th:only-of-type {\n",
       "        vertical-align: middle;\n",
       "    }\n",
       "\n",
       "    .dataframe tbody tr th {\n",
       "        vertical-align: top;\n",
       "    }\n",
       "\n",
       "    .dataframe thead th {\n",
       "        text-align: right;\n",
       "    }\n",
       "</style>\n",
       "<table border=\"1\" class=\"dataframe\">\n",
       "  <thead>\n",
       "    <tr style=\"text-align: right;\">\n",
       "      <th></th>\n",
       "      <th>summary</th>\n",
       "    </tr>\n",
       "  </thead>\n",
       "  <tbody>\n",
       "    <tr>\n",
       "      <th>86396</th>\n",
       "      <td>&lt;startseq&gt; some guernsey tourism businesses hi...</td>\n",
       "    </tr>\n",
       "    <tr>\n",
       "      <th>268756</th>\n",
       "      <td>&lt;startseq&gt; microsoft no longer sees playstatio...</td>\n",
       "    </tr>\n",
       "    <tr>\n",
       "      <th>16181</th>\n",
       "      <td>&lt;startseq&gt; in the eu referendum vote moray nar...</td>\n",
       "    </tr>\n",
       "    <tr>\n",
       "      <th>242506</th>\n",
       "      <td>&lt;startseq&gt; labour says it would scrap englands...</td>\n",
       "    </tr>\n",
       "    <tr>\n",
       "      <th>202231</th>\n",
       "      <td>&lt;startseq&gt; hotels in zimbabwes capital harare ...</td>\n",
       "    </tr>\n",
       "  </tbody>\n",
       "</table>\n",
       "</div>"
      ],
      "text/plain": [
       "                                                  summary\n",
       "86396   <startseq> some guernsey tourism businesses hi...\n",
       "268756  <startseq> microsoft no longer sees playstatio...\n",
       "16181   <startseq> in the eu referendum vote moray nar...\n",
       "242506  <startseq> labour says it would scrap englands...\n",
       "202231  <startseq> hotels in zimbabwes capital harare ..."
      ]
     },
     "execution_count": 10,
     "metadata": {},
     "output_type": "execute_result"
    }
   ],
   "source": [
    "# adding start and end token to the senteces of label \n",
    "start_token, end_token = '<startseq>' , '<endseq>'\n",
    "summaries = summaries.apply(lambda x: start_token + ' ' + x + ' ' + end_token)\n",
    "summaries.head()"
   ]
  },
  {
   "cell_type": "code",
   "execution_count": 11,
   "metadata": {},
   "outputs": [
    {
     "data": {
      "text/plain": [
       "(15326, 291196)"
      ]
     },
     "execution_count": 11,
     "metadata": {},
     "output_type": "execute_result"
    }
   ],
   "source": [
    "val_split = 0.05\n",
    "# train validation split\n",
    "summaries_train = summaries[int(len(summaries)*val_split):]\n",
    "summaries_val = summaries[:int(len(summaries)*val_split)]\n",
    "longreview_train = longreview[int(len(summaries)*val_split):]\n",
    "longreview_val = longreview[:int(len(summaries)*val_split)]\n",
    "\n",
    "len(longreview_val),len(longreview_train)"
   ]
  },
  {
   "cell_type": "code",
   "execution_count": 12,
   "metadata": {},
   "outputs": [
    {
     "data": {
      "text/plain": [
       "(text    members of the rmt tssa and unite unions have ...\n",
       " Name: 124417, dtype: object,\n",
       " summary    <startseq> the threat of a uk national rail st...\n",
       " Name: 124417, dtype: object)"
      ]
     },
     "execution_count": 12,
     "metadata": {},
     "output_type": "execute_result"
    }
   ],
   "source": [
    "longreview_train.iloc[0], summaries_train.iloc[0]"
   ]
  },
  {
   "cell_type": "code",
   "execution_count": 13,
   "metadata": {},
   "outputs": [
    {
     "name": "stdout",
     "output_type": "stream",
     "text": [
      "percentile 90 of length of news: 872.0\n",
      "longest sentence:  38985\n",
      "\n",
      "percentile 90 of length of summaries: 31.0\n",
      "longest sentence:  171\n",
      "\n",
      "max-length longreview chosen for training:  872\n",
      "max-length summaries chosen for training:  31\n"
     ]
    }
   ],
   "source": [
    "# because there are senteces with unusually long lengths, \n",
    "# we caculate the max length that 95% of sentences are shorter than that\n",
    "def max_length(summary, text, prct):\n",
    "    # Create a list of all the captions\n",
    "    \n",
    "    length_longs = list(len(d.split()) for d in text)\n",
    "    length_shorts = list(len(d.split()) for d in summary)\n",
    "\n",
    "    print('percentile {} of length of news: {}'.format(prct,np.percentile(length_longs, prct)))\n",
    "    print('longest sentence: ', max(length_longs))\n",
    "    print()\n",
    "    print('percentile {} of length of summaries: {}'.format(prct,np.percentile(length_shorts, prct)))\n",
    "    print('longest sentence: ', max(length_shorts))\n",
    "    print()\n",
    "    return int(np.percentile(length_longs, prct)),int(np.percentile(length_shorts, prct))\n",
    "\n",
    "# selecting sentence length based on the percentile of data that fits in the length\n",
    "max_len_news, max_len_summary= max_length(summaries_train['summary'].to_list(), longreview_train['text'].to_list(), 90)\n",
    "\n",
    "\n",
    "print('max-length longreview chosen for training: ', max_len_news)\n",
    "print('max-length summaries chosen for training: ', max_len_summary)"
   ]
  },
  {
   "cell_type": "code",
   "execution_count": 14,
   "metadata": {},
   "outputs": [],
   "source": [
    "# making a vocabulary of the words \n",
    "def create_vocab(summaries, texts = None, minimum_repeat = 3):\n",
    "\n",
    "    # Create a list of all the captions\n",
    "    all_captions = []\n",
    "    for s in summaries:\n",
    "        all_captions.append(s)\n",
    "\n",
    "    # Consider only words which occur at least minimum_occurrence times in the corpus\n",
    "    word_counts = {}\n",
    "    nsents = 0\n",
    "    for sent in all_captions:\n",
    "        nsents += 1\n",
    "        for w in sent.split(' '):\n",
    "            word_counts[w] = word_counts.get(w, 0) + 1\n",
    "\n",
    "    vocab = [w for w in word_counts if word_counts[w] >= minimum_repeat]\n",
    "    \n",
    "    vocab = list(set(vocab))\n",
    "    return vocab"
   ]
  },
  {
   "cell_type": "code",
   "execution_count": 15,
   "metadata": {},
   "outputs": [
    {
     "data": {
      "text/plain": [
       "['<endseq>',\n",
       " '<startseq>',\n",
       " 'a',\n",
       " 'a*',\n",
       " 'a*c',\n",
       " 'aa',\n",
       " 'aaa',\n",
       " 'aaib',\n",
       " 'aamer',\n",
       " 'aamir']"
      ]
     },
     "execution_count": 15,
     "metadata": {},
     "output_type": "execute_result"
    }
   ],
   "source": [
    "# each word in the vocabulary must be used in the data atleast minimum_repeat times\n",
    "vocab_dec = create_vocab(summaries_train['summary'].to_list(), minimum_repeat=5) # here we just use the words in vocabulary of summaries\n",
    "# removing one character words from vocab except for 'a'\n",
    "for v in vocab_dec:\n",
    "    if len(v) == 1 and v!='a' and v!='i':\n",
    "        vocab_dec.remove(v) \n",
    "        \n",
    "vocab_dec = sorted(vocab_dec)[1:] # [1:] is for the '' \n",
    "vocab_dec[:10]"
   ]
  },
  {
   "cell_type": "code",
   "execution_count": 16,
   "metadata": {},
   "outputs": [
    {
     "data": {
      "text/plain": [
       "['**',\n",
       " '***',\n",
       " '****',\n",
       " '*****',\n",
       " '******',\n",
       " '*******',\n",
       " '**applicant',\n",
       " '**warning',\n",
       " '*additional',\n",
       " '*all']"
      ]
     },
     "execution_count": 16,
     "metadata": {},
     "output_type": "execute_result"
    }
   ],
   "source": [
    "# each word in the vocabulary must be used in the data atleast minimum_repeat times\n",
    "vocab_enc = create_vocab(longreview_train['text'].to_list(), minimum_repeat=3) # here we just use the words in vocabulary of summaries\n",
    "# removing one character words from vocab except for 'a'\n",
    "for v in vocab_enc:\n",
    "    if len(v) == 1 and v!='a' and v!='i':\n",
    "        vocab_enc.remove(v) \n",
    "        \n",
    "vocab_enc = sorted(vocab_enc)[1:] # [1:] is for the '' \n",
    "vocab_enc[:10]"
   ]
  },
  {
   "cell_type": "code",
   "execution_count": 17,
   "metadata": {},
   "outputs": [
    {
     "data": {
      "text/plain": [
       "(197638, 29159)"
      ]
     },
     "execution_count": 17,
     "metadata": {},
     "output_type": "execute_result"
    }
   ],
   "source": [
    "oov_token = '<UNK>'\n",
    "filters = '!\"#$%&()*+,-./:;=?@[\\\\]^_`{|}~\\t\\n' # making sure all the last non digit non alphabet chars are removed\n",
    "document_tokenizer = krs.preprocessing.text.Tokenizer(filters = filters,oov_token=oov_token)\n",
    "summary_tokenizer = krs.preprocessing.text.Tokenizer(filters = filters,oov_token=oov_token)\n",
    "document_tokenizer.fit_on_texts(vocab_enc)\n",
    "summary_tokenizer.fit_on_texts(vocab_dec)#summaries_train['short'])\n",
    "\n",
    "# caculating number of words in vocabulary of encoder and decoder\n",
    "# they are important for positional encoding\n",
    "encoder_vocab_size = len(document_tokenizer.word_index) + 1 \n",
    "decoder_vocab_size = len(summary_tokenizer.word_index) + 1\n",
    "\n",
    "# vocab_size\n",
    "encoder_vocab_size, decoder_vocab_size"
   ]
  },
  {
   "cell_type": "code",
   "execution_count": 18,
   "metadata": {},
   "outputs": [],
   "source": [
    "ixtoword_enc = {} # index to word dic\n",
    "ixtoword_dec = {} # index to word dic\n",
    "\n",
    "wordtoix_enc = document_tokenizer.word_index # word to index dic\n",
    "ixtoword_enc[0] = '<PAD0>' # no word in vocab has index 0. but padding is indicated with 0\n",
    "ixtoword_dec[0] = '<PAD0>' # no word in vocab has index 0. but padding is indicated with 0\n",
    "\n",
    "for w in document_tokenizer.word_index:\n",
    "    ixtoword_enc[document_tokenizer.word_index[w]] = w\n",
    "################################################\n",
    "wordtoix_dec = summary_tokenizer.word_index # word to index dic\n",
    "\n",
    "for w in summary_tokenizer.word_index:\n",
    "    ixtoword_dec[summary_tokenizer.word_index[w]] = w"
   ]
  },
  {
   "cell_type": "code",
   "execution_count": 19,
   "metadata": {},
   "outputs": [],
   "source": [
    "# assign a number to each word inorder to find it in word embeddings\n",
    "inputs = document_tokenizer.texts_to_sequences(longreview_train['text'])\n",
    "targets = summary_tokenizer.texts_to_sequences(summaries_train['summary'])\n",
    "inputs_val = document_tokenizer.texts_to_sequences(longreview_val['text'])\n",
    "targets_val = summary_tokenizer.texts_to_sequences(summaries_val['summary'])"
   ]
  },
  {
   "cell_type": "code",
   "execution_count": 20,
   "metadata": {},
   "outputs": [],
   "source": [
    "inputs = krs.preprocessing.sequence.pad_sequences(inputs, maxlen=max_len_news, padding='post', truncating='post')\n",
    "targets = krs.preprocessing.sequence.pad_sequences(targets, maxlen=max_len_summary, padding='post', truncating='post')\n",
    "inputs_val = krs.preprocessing.sequence.pad_sequences(inputs_val, maxlen=max_len_news, padding='post', truncating='post')\n",
    "targets_val = krs.preprocessing.sequence.pad_sequences(targets_val, maxlen=max_len_summary, padding='post', truncating='post')"
   ]
  },
  {
   "cell_type": "code",
   "execution_count": 21,
   "metadata": {},
   "outputs": [],
   "source": [
    "# validate train split\n",
    "dataset = tf.data.Dataset.from_tensor_slices((inputs,targets)).shuffle(BUFFER_SIZE).batch(BATCH_SIZE)\n",
    "dataset_val = tf.data.Dataset.from_tensor_slices((inputs_val,targets_val)).shuffle(BUFFER_SIZE).batch(BATCH_SIZE)"
   ]
  },
  {
   "cell_type": "code",
   "execution_count": 22,
   "metadata": {},
   "outputs": [],
   "source": [
    "longreview_val.reset_index(inplace=True, drop=True)\n",
    "summaries_val.reset_index(inplace=True, drop=True)\n",
    "longreview_train.reset_index(inplace=True, drop=True)\n",
    "summaries_train.reset_index(inplace=True, drop=True)"
   ]
  },
  {
   "cell_type": "code",
   "execution_count": 23,
   "metadata": {},
   "outputs": [],
   "source": [
    "import matplotlib.pyplot as plt\n",
    "\n",
    "def hist(history):\n",
    "    plt.title('Loss')\n",
    "\n",
    "    x= [i[0] for i in history['val']]\n",
    "    y=[i[1] for i in history['val']]\n",
    "    plt.plot(x,y,'x-')\n",
    "    \n",
    "    x= [i[0] for i in history['train']]\n",
    "    y=[i[1] for i in history['train']]    \n",
    "    plt.plot(x,y,'o-')\n",
    "\n",
    "    plt.legend(['validation','train'])\n",
    "    plt.show()\n",
    "    print('smallest val loss:', sorted(history['val'],key=lambda x: x[1])[0])"
   ]
  },
  {
   "cell_type": "code",
   "execution_count": 24,
   "metadata": {},
   "outputs": [],
   "source": [
    "# the job of this function is to calculate the above equation\n",
    "def scaled_dot_product_attention(q, k, v, mask):\n",
    "    matmul_qk = tf.matmul(q, k, transpose_b=True)\n",
    "\n",
    "    dk = tf.cast(tf.shape(k)[-1], tf.float32)\n",
    "    scaled_attention_logits = matmul_qk / tf.math.sqrt(dk)\n",
    "\n",
    "    if mask is not None:\n",
    "        scaled_attention_logits += (mask * -1e9)  \n",
    "\n",
    "    attention_weights = tf.nn.softmax(scaled_attention_logits, axis=-1)\n",
    "\n",
    "    output = tf.matmul(attention_weights, v)\n",
    "    return output, attention_weights"
   ]
  },
  {
   "cell_type": "code",
   "execution_count": 25,
   "metadata": {},
   "outputs": [],
   "source": [
    "class MultiHeadAttention(krs.layers.Layer):\n",
    "    def __init__(self, d_model, num_heads):\n",
    "        super(MultiHeadAttention, self).__init__()\n",
    "        self.num_heads = num_heads\n",
    "        self.d_model = d_model\n",
    "\n",
    "        assert d_model % self.num_heads == 0\n",
    "\n",
    "        self.depth = d_model // self.num_heads # The dimensions of Q, K, V are called depth\n",
    "\n",
    "        # the input of these 3 layers are the same: X\n",
    "        self.wq = krs.layers.Dense(d_model,kernel_regularizer=krs.regularizers.l2(l=lmbda_l2))\n",
    "        self.wk = krs.layers.Dense(d_model,kernel_regularizer=krs.regularizers.l2(l=lmbda_l2))\n",
    "        self.wv = krs.layers.Dense(d_model,kernel_regularizer=krs.regularizers.l2(l=lmbda_l2))\n",
    "\n",
    "        self.dense = tf.keras.layers.Dense(d_model,kernel_regularizer=krs.regularizers.l2(l=lmbda_l2))\n",
    "    \n",
    "    # reshape the Q,K,V \n",
    "    def split_heads(self, x, batch_size):\n",
    "        x = tf.reshape(x, (batch_size, -1, self.num_heads, self.depth))\n",
    "        return tf.transpose(x, perm=[0, 2, 1, 3])\n",
    "    \n",
    "    def call(self, v, k, q, mask):\n",
    "        batch_size = tf.shape(q)[0]\n",
    "        \n",
    "        # learn the Q,K,V matrices (the layers' weightes)\n",
    "        q = self.wq(q)\n",
    "        k = self.wk(k)\n",
    "        v = self.wv(v)\n",
    "        \n",
    "        # reshape them\n",
    "        q = self.split_heads(q, batch_size)\n",
    "        k = self.split_heads(k, batch_size)\n",
    "        v = self.split_heads(v, batch_size)\n",
    "\n",
    "        scaled_attention, attention_weights = scaled_dot_product_attention(\n",
    "            q, k, v, mask)\n",
    "\n",
    "        scaled_attention = tf.transpose(scaled_attention, perm=[0, 2, 1, 3])\n",
    "        \n",
    "        # the last dens layer expect one vector so we use concat\n",
    "        concat_attention = tf.reshape(scaled_attention, (batch_size, -1, self.d_model))\n",
    "        output = self.dense(concat_attention)\n",
    "            \n",
    "        return output, attention_weights"
   ]
  },
  {
   "cell_type": "code",
   "execution_count": 26,
   "metadata": {},
   "outputs": [],
   "source": [
    "def get_angles(position, i, d_model):\n",
    "    angle_rates = 1 / np.power(10000, (2 * (i // 2)) / np.float32(d_model))\n",
    "    return position * angle_rates\n",
    "\n",
    "# The dimension of positional encodings is the same as\n",
    "# the embeddings (d_model) for facilitating the summation of both.\n",
    "def positional_encoding(position, d_model):\n",
    "    angle_rads = get_angles(\n",
    "        np.arange(position)[:, np.newaxis],\n",
    "        np.arange(d_model)[np.newaxis, :],\n",
    "        d_model\n",
    "    )\n",
    "\n",
    "    # apply sin to even indices in the array; 2i\n",
    "    angle_rads[:, 0::2] = np.sin(angle_rads[:, 0::2])\n",
    "\n",
    "    # apply cos to odd indices in the array; 2i+1\n",
    "    angle_rads[:, 1::2] = np.cos(angle_rads[:, 1::2])\n",
    "\n",
    "    pos_encoding = angle_rads[np.newaxis, ...]\n",
    "\n",
    "    return tf.cast(pos_encoding, dtype=tf.float32)"
   ]
  },
  {
   "cell_type": "code",
   "execution_count": 27,
   "metadata": {},
   "outputs": [
    {
     "name": "stdout",
     "output_type": "stream",
     "text": [
      "Loading glove...\n",
      "GloVe  50  loaded!\n",
      "Loading glove...\n",
      "GloVe  50  loaded!\n"
     ]
    }
   ],
   "source": [
    " # Making the embedding mtrix\n",
    "def make_embedding_layer(vocab_len, wordtoix, embedding_dim=200, glove=True, glove_path= ''):\n",
    "    if glove == False:\n",
    "        print('Just a zero matrix loaded')\n",
    "        embedding_matrix = np.zeros((vocab_len, embedding_dim)) # just a zero matrix \n",
    "    else:\n",
    "        print('Loading glove...')\n",
    "        glove_dir = glove_path\n",
    "        embeddings_index = {} \n",
    "        f = open(os.path.join(glove_dir, 'glove.6B.'+str(embedding_dim)+'d.txt'), encoding=\"utf-8\")\n",
    "        for line in f:\n",
    "            values = line.split()\n",
    "            word = values[0]\n",
    "            coefs = np.asarray(values[1:], dtype='float32')\n",
    "            embeddings_index[word] = coefs\n",
    "        f.close()\n",
    "        # Get n-dim dense vector for each of the vocab_rocc\n",
    "        embedding_matrix = np.zeros((vocab_len, embedding_dim)) # to import as weights for Keras Embedding layer\n",
    "        for word, i in wordtoix.items():\n",
    "            embedding_vector = embeddings_index.get(word)\n",
    "            if embedding_vector is not None:\n",
    "                # Words not found in the embedding index will be all zeros\n",
    "                embedding_matrix[i] = embedding_vector\n",
    "        \n",
    "        print(\"GloVe \",embedding_dim, ' loaded!')\n",
    "\n",
    "    embedding_layer = Embedding(vocab_len, embedding_dim, mask_zero=True, trainable=False) # we have a limited vocab so we \n",
    "                                                                                           # do not train the embedding layer\n",
    "                                                                                           # we use 0 as padding so => mask_zero=True\n",
    "    embedding_layer.build((None,))\n",
    "    embedding_layer.set_weights([embedding_matrix])\n",
    "    return embedding_layer\n",
    "\n",
    "embeddings_encoder = make_embedding_layer(encoder_vocab_size, wordtoix_enc, embedding_dim=embedding_dim, glove=True)\n",
    "embeddings_decoder = make_embedding_layer(decoder_vocab_size, wordtoix_dec, embedding_dim=embedding_dim, glove=True)"
   ]
  },
  {
   "cell_type": "code",
   "execution_count": 28,
   "metadata": {},
   "outputs": [],
   "source": [
    "# hyper-params\n",
    "init_lr = 1e-3\n",
    "lmbda_l2 = 0.1\n",
    "d_out_rate = 0.1 # tested 0.4, 0.3, 0.1 values this 0.1 seems to be the best\n",
    "num_layers = 4 # chaged from 4 to 5 to learn better\n",
    "d_model = embedding_dim # d_model is the representation dimension or embedding dimension of a word (usually in the range 128–512)\n",
    "dff = 512 # number of neurons in feed forward network\n",
    "num_heads = 5 # first it was 8 i chenged it to 10 to use embd =300d"
   ]
  },
  {
   "cell_type": "code",
   "execution_count": 29,
   "metadata": {},
   "outputs": [],
   "source": [
    "# The Point-wise feed-forward network block is essentially a \n",
    "# two-layer linear transformation which is used identically throughout the model\n",
    "def point_wise_feed_forward_network(d_model, dff):\n",
    "    return krs.Sequential([\n",
    "        krs.layers.Dense(dff, activation='relu',kernel_regularizer=krs.regularizers.l2(l=lmbda_l2)),\n",
    "        krs.layers.Dense(d_model,kernel_regularizer=krs.regularizers.l2(l=lmbda_l2))\n",
    "    ])"
   ]
  },
  {
   "cell_type": "code",
   "execution_count": 30,
   "metadata": {},
   "outputs": [],
   "source": [
    "class EncoderLayer(krs.layers.Layer):\n",
    "    def __init__(self, d_model, num_heads, dff, rate=d_out_rate):\n",
    "        super(EncoderLayer, self).__init__()\n",
    "\n",
    "        self.mha = MultiHeadAttention(d_model, num_heads)\n",
    "        self.ffn = point_wise_feed_forward_network(d_model, dff)\n",
    "\n",
    "        self.layernorm1 = krs.layers.LayerNormalization(epsilon=1e-6)\n",
    "        self.layernorm2 = krs.layers.LayerNormalization(epsilon=1e-6)\n",
    "\n",
    "        self.dropout1 = krs.layers.Dropout(rate)\n",
    "        self.dropout2 = krs.layers.Dropout(rate)\n",
    "   \n",
    "    # it has 1 layer of multi-headed attention\n",
    "    def call(self, x, training, mask):\n",
    "        attn_output, _ = self.mha(x, x, x, mask)\n",
    "        attn_output = self.dropout1(attn_output, training=training)\n",
    "        out1 = self.layernorm1(x + attn_output)\n",
    "\n",
    "        ffn_output = self.ffn(out1)\n",
    "        ffn_output = self.dropout2(ffn_output, training=training)\n",
    "        out2 = self.layernorm2(out1 + ffn_output)\n",
    "\n",
    "        return out2"
   ]
  },
  {
   "cell_type": "code",
   "execution_count": 31,
   "metadata": {},
   "outputs": [],
   "source": [
    "class DecoderLayer(krs.layers.Layer):\n",
    "    def __init__(self, d_model, num_heads, dff, rate=d_out_rate):\n",
    "        super(DecoderLayer, self).__init__()\n",
    "\n",
    "        self.mha1 = MultiHeadAttention(d_model, num_heads)\n",
    "        self.mha2 = MultiHeadAttention(d_model, num_heads)\n",
    "\n",
    "        self.ffn = point_wise_feed_forward_network(d_model, dff)\n",
    "\n",
    "        self.layernorm1 = krs.layers.LayerNormalization(epsilon=1e-6)\n",
    "        self.layernorm2 = krs.layers.LayerNormalization(epsilon=1e-6)\n",
    "        self.layernorm3 = krs.layers.LayerNormalization(epsilon=1e-6)\n",
    "\n",
    "        self.dropout1 = krs.layers.Dropout(rate)\n",
    "        self.dropout2 = krs.layers.Dropout(rate)\n",
    "        self.dropout3 = krs.layers.Dropout(rate)\n",
    "    \n",
    "    # it has 2 layers of multi-headed attention\n",
    "    def call(self, x, enc_output, training, look_ahead_mask, padding_mask):\n",
    "        attn1, attn_weights_block1 = self.mha1(x, x, x, look_ahead_mask)\n",
    "        attn1 = self.dropout1(attn1, training=training)\n",
    "        out1 = self.layernorm1(attn1 + x)\n",
    "\n",
    "        attn2, attn_weights_block2 = self.mha2(enc_output, enc_output, out1, padding_mask)\n",
    "        attn2 = self.dropout2(attn2, training=training)\n",
    "        out2 = self.layernorm2(attn2 + out1)\n",
    "\n",
    "        ffn_output = self.ffn(out2)\n",
    "        ffn_output = self.dropout3(ffn_output, training=training)\n",
    "        out3 = self.layernorm3(ffn_output + out2)\n",
    "\n",
    "        return out3, attn_weights_block1, attn_weights_block2"
   ]
  },
  {
   "cell_type": "code",
   "execution_count": 32,
   "metadata": {},
   "outputs": [],
   "source": [
    "class Encoder(krs.layers.Layer):\n",
    "    def __init__(self, num_layers, d_model, num_heads, dff, input_vocab_size, maximum_position_encoding, rate=d_out_rate):\n",
    "        super(Encoder, self).__init__()\n",
    "\n",
    "        self.d_model = d_model\n",
    "        self.num_layers = num_layers\n",
    "\n",
    "        self.embedding = embeddings_encoder\n",
    "        self.pos_encoding = positional_encoding(maximum_position_encoding, self.d_model)\n",
    "\n",
    "        self.enc_layers = [EncoderLayer(d_model, num_heads, dff, rate) for _ in range(num_layers)]\n",
    "\n",
    "        self.dropout = krs.layers.Dropout(rate)\n",
    "        self.dropout_embd = krs.layers.Dropout(rate)\n",
    "        \n",
    "    def call(self, x, training, mask):\n",
    "        seq_len = tf.shape(x)[1]\n",
    "\n",
    "        x = self.embedding(x)\n",
    "        x = self.dropout_embd(x, training=training) # dropout added to encoder input changed from nothing to this\n",
    "        x *= tf.math.sqrt(tf.cast(self.d_model, tf.float32))\n",
    "        x += self.pos_encoding[:, :seq_len, :]\n",
    "\n",
    "        x = self.dropout(x, training=training)\n",
    "    \n",
    "        for i in range(self.num_layers):\n",
    "            x = self.enc_layers[i](x, training, mask)\n",
    "    \n",
    "        return x"
   ]
  },
  {
   "cell_type": "code",
   "execution_count": 33,
   "metadata": {},
   "outputs": [],
   "source": [
    "class Decoder(krs.layers.Layer):\n",
    "    def __init__(self, num_layers, d_model, num_heads, dff, target_vocab_size, maximum_position_encoding, rate=d_out_rate):\n",
    "        super(Decoder, self).__init__()\n",
    "\n",
    "        self.d_model = d_model\n",
    "        self.num_layers = num_layers\n",
    "\n",
    "        self.embedding = embeddings_decoder\n",
    "        self.pos_encoding = positional_encoding(maximum_position_encoding, d_model)\n",
    "\n",
    "        self.dec_layers = [DecoderLayer(d_model, num_heads, dff, rate) for _ in range(num_layers)] # a list of decoder layers\n",
    "        self.dropout = krs.layers.Dropout(rate)\n",
    "    \n",
    "    def call(self, x, enc_output, training, look_ahead_mask, padding_mask):\n",
    "        seq_len = tf.shape(x)[1]\n",
    "        attention_weights = {}\n",
    "\n",
    "        x = self.embedding(x)\n",
    "        x *= tf.math.sqrt(tf.cast(self.d_model, tf.float32))\n",
    "        x += self.pos_encoding[:, :seq_len, :]\n",
    "\n",
    "        x = self.dropout(x, training=training)\n",
    "\n",
    "        for i in range(self.num_layers):\n",
    "            x, block1, block2 = self.dec_layers[i](x, enc_output, training, look_ahead_mask, padding_mask) # enc_output is fed into it\n",
    "\n",
    "            attention_weights['decoder_layer{}_block1'.format(i+1)] = block1\n",
    "            attention_weights['decoder_layer{}_block2'.format(i+1)] = block2\n",
    "    \n",
    "        return x, attention_weights"
   ]
  },
  {
   "cell_type": "code",
   "execution_count": 34,
   "metadata": {},
   "outputs": [],
   "source": [
    "class Transformer(krs.Model):\n",
    "    def __init__(self, num_layers, d_model, num_heads, dff, input_vocab_size,\n",
    "                                     target_vocab_size, pe_input, pe_target, rate=d_out_rate):\n",
    "        super(Transformer, self).__init__()\n",
    "\n",
    "        self.encoder = Encoder(num_layers, d_model, num_heads, dff, input_vocab_size, pe_input, rate)\n",
    "\n",
    "        self.decoder = Decoder(num_layers, d_model, num_heads, dff, target_vocab_size, pe_target, rate)\n",
    "\n",
    "        self.final_layer = krs.layers.Dense(target_vocab_size, kernel_regularizer=krs.regularizers.l2(l=lmbda_l2))\n",
    "        \n",
    "        \n",
    "    # training argument is used in dropout inputs\n",
    "    def call(self, inp, tar, training, enc_padding_mask, look_ahead_mask, dec_padding_mask):\n",
    "        enc_output = self.encoder(inp, training, enc_padding_mask)\n",
    "       \n",
    "        dec_output, attention_weights = self.decoder(tar, enc_output, training, look_ahead_mask, dec_padding_mask)\n",
    "\n",
    "        final_output = self.final_layer(dec_output)\n",
    "\n",
    "        return final_output, attention_weights"
   ]
  },
  {
   "cell_type": "code",
   "execution_count": 35,
   "metadata": {},
   "outputs": [],
   "source": [
    "transformer = Transformer(\n",
    "    num_layers, \n",
    "    d_model, \n",
    "    num_heads, \n",
    "    dff,\n",
    "    encoder_vocab_size, \n",
    "    decoder_vocab_size, \n",
    "    pe_input=max_len_news,\n",
    "    pe_target=max_len_summary,\n",
    ")"
   ]
  },
  {
   "cell_type": "code",
   "execution_count": 36,
   "metadata": {},
   "outputs": [],
   "source": [
    "# Padding mask for masking \"pad\" sequences so \n",
    "# they won't affect the loss\n",
    "def create_padding_mask(seq):\n",
    "    seq = tf.cast(tf.math.equal(seq, 0), tf.float32)\n",
    "    return seq[:, tf.newaxis, tf.newaxis, :]\n",
    "\n",
    "# Lookahead mask for masking future words from\n",
    "# contributing in prediction of current words in self attention\n",
    "def create_look_ahead_mask(size):\n",
    "    mask = 1 - tf.linalg.band_part(tf.ones((size, size)), -1, 0)\n",
    "    return mask"
   ]
  },
  {
   "cell_type": "code",
   "execution_count": 37,
   "metadata": {},
   "outputs": [],
   "source": [
    "# this function is use in training step\n",
    "def create_masks(inp, tar):\n",
    "    enc_padding_mask = create_padding_mask(inp)\n",
    "    dec_padding_mask = create_padding_mask(inp)\n",
    "\n",
    "    look_ahead_mask = create_look_ahead_mask(tf.shape(tar)[1])\n",
    "    dec_target_padding_mask = create_padding_mask(tar)\n",
    "        \n",
    "    combined_mask = tf.maximum(dec_target_padding_mask, look_ahead_mask)\n",
    "  \n",
    "    return enc_padding_mask, combined_mask, dec_padding_mask"
   ]
  },
  {
   "cell_type": "code",
   "execution_count": 38,
   "metadata": {},
   "outputs": [],
   "source": [
    "lr_schedule = krs.optimizers.schedules.ExponentialDecay(\n",
    "    initial_learning_rate=init_lr, # originally was 1e-5\n",
    "    decay_steps=4000, # approximately 5 epochs\n",
    "    decay_rate=0.95) # originally was 0.9"
   ]
  },
  {
   "cell_type": "code",
   "execution_count": 39,
   "metadata": {},
   "outputs": [],
   "source": [
    "optimizer2 = Adam(lr_schedule , beta_1=0.9, beta_2=0.98, epsilon=1e-9) # changed to init\n",
    "loss_object = SparseCategoricalCrossentropy(from_logits=True, reduction='none') # added softmax changed from_logits to false"
   ]
  },
  {
   "cell_type": "code",
   "execution_count": 40,
   "metadata": {},
   "outputs": [],
   "source": [
    "def loss_function(real, pred, l2= False):\n",
    " \n",
    "    if l2:\n",
    "        lambda_ = 0.0001\n",
    "        l2_norms = [tf.nn.l2_loss(v) for v in transformer.trainable_variables]\n",
    "        l2_norm = tf.reduce_sum(l2_norms)\n",
    "        l2_value = lambda_ * l2_norm\n",
    "        loss_ = loss_object(real, pred) + l2_value\n",
    "    else:\n",
    "        loss_ = loss_object(real, pred) \n",
    "    \n",
    "    mask = tf.math.logical_not(tf.math.equal(real, 0))\n",
    "    mask = tf.cast(mask, dtype=loss_.dtype)\n",
    "    loss_ *= mask\n",
    "    \n",
    "    return tf.reduce_sum(loss_)/tf.reduce_sum(mask)"
   ]
  },
  {
   "cell_type": "code",
   "execution_count": 41,
   "metadata": {},
   "outputs": [],
   "source": [
    "checkpoint_path4 =\"checkpoints4\"\n",
    "\n",
    "ckpt4 = tf.train.Checkpoint(transformer=transformer, optimizer=optimizer2)\n",
    "\n",
    "ckpt_manager4 = tf.train.CheckpointManager(ckpt4, checkpoint_path4, max_to_keep=100)\n",
    "\n",
    "# if ckpt_manager4.latest_checkpoint:\n",
    "#     ckpt4.restore(ckpt_manager4.latest_checkpoint)\n",
    "#     print ('Latest checkpoint restored!!')"
   ]
  },
  {
   "cell_type": "code",
   "execution_count": 42,
   "metadata": {},
   "outputs": [],
   "source": [
    "def evaluate(input_document):\n",
    "    input_document = document_tokenizer.texts_to_sequences([input_document])\n",
    "    input_document = krs.preprocessing.sequence.pad_sequences(input_document, maxlen=max_len_news, \n",
    "                                                                           padding='post', truncating='post')\n",
    "    \n",
    "    encoder_input = tf.expand_dims(input_document[0], 0)\n",
    "\n",
    "    decoder_input = [summary_tokenizer.word_index[start_token]]\n",
    "    output = tf.expand_dims(decoder_input, 0)\n",
    "    \n",
    "    for i in range(max_len_summary):\n",
    "        enc_padding_mask, combined_mask, dec_padding_mask = create_masks(encoder_input, output)\n",
    "\n",
    "        predictions, attention_weights = transformer(\n",
    "            encoder_input, \n",
    "            output,\n",
    "            False,\n",
    "            enc_padding_mask,\n",
    "            combined_mask,\n",
    "            dec_padding_mask\n",
    "        )\n",
    "\n",
    "        predictions = predictions[: ,-1:, :]\n",
    "        predicted_id = tf.cast(tf.argmax(predictions, axis=-1), tf.int32)\n",
    "        # stop prediciting if it reached end_token\n",
    "        if predicted_id == summary_tokenizer.word_index[end_token]:\n",
    "            return tf.squeeze(output, axis=0), attention_weights\n",
    "\n",
    "        output = tf.concat([output, predicted_id], axis=-1)\n",
    "    return tf.squeeze(output, axis=0), attention_weights\n",
    "\n",
    "def summarize(input_document):\n",
    "    # not considering attention weights for now, can be used to plot attention heatmaps in the future\n",
    "    summarized = evaluate(input_document=input_document)[0].numpy()\n",
    "    summarized = np.expand_dims(summarized[1:], 0)  # remove start_token\n",
    "    return summary_tokenizer.sequences_to_texts(summarized)[0]  # since there is just one translated document"
   ]
  },
  {
   "cell_type": "code",
   "execution_count": 43,
   "metadata": {},
   "outputs": [],
   "source": [
    "def validate():\n",
    "    print('validation started ...')\n",
    "    val_loss.reset_states()\n",
    "    for (batch, (inp, tar)) in enumerate(dataset_val):    \n",
    "        tar_inp = tar[:, :-1] # <startseq> hi im moein\n",
    "        tar_real = tar[:, 1:] # hi im moein <endseq>\n",
    "\n",
    "        enc_padding_mask, combined_mask, dec_padding_mask = create_masks(inp, tar_inp)\n",
    "\n",
    "        # Operations are recorded if they are executed within this context manager\n",
    "        # and at least one of their inputs is being \"watched\". Trainable variables are automatically watched\n",
    "        predictions, _ = transformer(\n",
    "            inp, tar_inp, \n",
    "            False, \n",
    "            enc_padding_mask, \n",
    "            combined_mask, \n",
    "            dec_padding_mask\n",
    "        )\n",
    "        loss = loss_function(tar_real, predictions)\n",
    "        val_loss(loss)\n",
    "    print('\\n* Validation loss: {} '.format(val_loss.result()) )\n",
    "    return val_loss.result()\n",
    "# validate()"
   ]
  },
  {
   "cell_type": "code",
   "execution_count": 44,
   "metadata": {},
   "outputs": [],
   "source": [
    "class CustomModel(tf.Module):\n",
    "    @tf.function # Compiles a function into a callable TensorFlow graph\n",
    "    def train_step(inp, tar):\n",
    "        tar_inp = tar[:, :-1] # <startseq> hi im moein\n",
    "        tar_real = tar[:, 1:] # hi im moein <endseq>\n",
    "\n",
    "        enc_padding_mask, combined_mask, dec_padding_mask = create_masks(inp, tar_inp)\n",
    "\n",
    "        # Operations are recorded if they are executed within this context manager\n",
    "        # and at least one of their inputs is being \"watched\". Trainable variables are automatically watched\n",
    "        with tf.GradientTape() as tape:\n",
    "            predictions, _ = transformer(\n",
    "                inp, tar_inp, \n",
    "                True, \n",
    "                enc_padding_mask, \n",
    "                combined_mask, \n",
    "                dec_padding_mask\n",
    "            )\n",
    "            loss = loss_function(tar_real, predictions)\n",
    "\n",
    "        gradients = tape.gradient(loss, transformer.trainable_variables)    \n",
    "        optimizer2.apply_gradients(zip(gradients, transformer.trainable_variables))\n",
    "\n",
    "        # mean the loss with new computed  loss of the step\n",
    "        train_loss(loss)"
   ]
  },
  {
   "cell_type": "code",
   "execution_count": 45,
   "metadata": {},
   "outputs": [],
   "source": [
    "history={'val':[],'train':[]}\n",
    "EPOCHS = 10\n",
    "not_progressing = 0\n",
    "# Computes the (weighted) mean of the given loss values.\n",
    "train_loss = krs.metrics.Mean(name='train_loss')\n",
    "val_loss = krs.metrics.Mean(name='val_loss')"
   ]
  },
  {
   "cell_type": "code",
   "execution_count": 46,
   "metadata": {},
   "outputs": [
    {
     "data": {
      "text/plain": [
       "{'lmbda_l2': 0.1,\n",
       " 'd_out_rate': 0.1,\n",
       " 'num_layers': 4,\n",
       " 'd_model': 50,\n",
       " 'dff': 512,\n",
       " 'num_heads': 5,\n",
       " 'init_lr': 0.001}"
      ]
     },
     "execution_count": 46,
     "metadata": {},
     "output_type": "execute_result"
    }
   ],
   "source": [
    "params = {\n",
    "'lmbda_l2' : lmbda_l2,\n",
    "'d_out_rate' :d_out_rate,\n",
    "'num_layers' : num_layers ,\n",
    "'d_model' : d_model  ,\n",
    "'dff' : dff ,\n",
    "'num_heads' : num_heads,\n",
    "'init_lr':init_lr}\n",
    "params"
   ]
  },
  {
   "cell_type": "code",
   "execution_count": 47,
   "metadata": {},
   "outputs": [],
   "source": [
    "ep = 1\n",
    "best_val_loss = np.inf\n",
    "i1,i2,i3,i4 = np.random.randint(len(summaries_val)),np.random.randint(len(summaries_val)),np.random.randint(len(summaries_val)),np.random.randint(len(summaries_val))"
   ]
  },
  {
   "cell_type": "code",
   "execution_count": 48,
   "metadata": {},
   "outputs": [],
   "source": [
    "# os.environ['CUDA_VISIBLE_DEVICES'] = '-1'"
   ]
  },
  {
   "cell_type": "code",
   "execution_count": 49,
   "metadata": {},
   "outputs": [
    {
     "name": "stdout",
     "output_type": "stream",
     "text": [
      "GPU found\n"
     ]
    }
   ],
   "source": [
    "import os\n",
    "import tensorflow as tf\n",
    "\n",
    "os.environ['CUDA_VISIBLE_DEVICES'] = '-1'\n",
    "\n",
    "if tf.test.gpu_device_name():\n",
    "    print('GPU found')\n",
    "    \n",
    "else:\n",
    "    print(\"No GPU found\")\n",
    "\n",
    "# No GPU found"
   ]
  },
  {
   "cell_type": "code",
   "execution_count": 50,
   "metadata": {},
   "outputs": [
    {
     "name": "stdout",
     "output_type": "stream",
     "text": [
      "{'lmbda_l2': 0.1, 'd_out_rate': 0.1, 'num_layers': 4, 'd_model': 50, 'dff': 512, 'num_heads': 5, 'init_lr': 0.001}\n",
      "########################################\n",
      "Epoch 1 Batch 0 Loss 10.2772\n",
      "Epoch 1 Batch 150 Loss 7.7776\n",
      "Epoch 1 Batch 300 Loss 7.3796\n",
      "Epoch 1 Batch 450 Loss 7.1550\n",
      "Epoch 1 Batch 600 Loss 6.9830\n",
      "Epoch 1 Batch 750 Loss 6.8484\n",
      "Epoch 1 Batch 900 Loss 6.7413\n",
      "Epoch 1 Batch 1050 Loss 6.6498\n",
      "Epoch 1 Batch 1200 Loss 6.5712\n",
      "Epoch 1 Batch 1350 Loss 6.5016\n",
      "Epoch 1 Batch 1500 Loss 6.4411\n",
      "Epoch 1 Batch 1650 Loss 6.3853\n",
      "Epoch 1 Batch 1800 Loss 6.3360\n",
      "Epoch 1 Batch 1950 Loss 6.2905\n",
      "Epoch 1 Batch 2100 Loss 6.2487\n",
      "Epoch 1 Batch 2250 Loss 6.2092\n",
      "Epoch 1 Batch 2400 Loss 6.1744\n",
      "Epoch 1 Batch 2550 Loss 6.1418\n",
      "Epoch 1 Batch 2700 Loss 6.1117\n",
      "Epoch 1 Batch 2850 Loss 6.0828\n",
      "Epoch 1 Batch 3000 Loss 6.0546\n",
      "Epoch 1 Batch 3150 Loss 6.0295\n",
      "Epoch 1 Batch 3300 Loss 6.0044\n",
      "Epoch 1 Batch 3450 Loss 5.9815\n",
      "Epoch 1 Batch 3600 Loss 5.9586\n",
      "Epoch 1 Batch 3750 Loss 5.9373\n",
      "Epoch 1 Batch 3900 Loss 5.9174\n",
      "Epoch 1 Batch 4050 Loss 5.8978\n",
      "Epoch 1 Batch 4200 Loss 5.8799\n",
      "Epoch 1 Batch 4350 Loss 5.8628\n",
      "Epoch 1 Batch 4500 Loss 5.8472\n",
      "Epoch 1 Batch 4650 Loss 5.8317\n",
      "Epoch 1 Batch 4800 Loss 5.8163\n",
      "Epoch 1 Batch 4950 Loss 5.8016\n",
      "Epoch 1 Batch 5100 Loss 5.7879\n",
      "Epoch 1 Batch 5250 Loss 5.7750\n",
      "Epoch 1 Batch 5400 Loss 5.7624\n",
      "Epoch 1 Batch 5550 Loss 5.7502\n",
      "Epoch 1 Batch 5700 Loss 5.7377\n",
      "Epoch 1 Batch 5850 Loss 5.7262\n",
      "Epoch 1 Batch 6000 Loss 5.7150\n",
      "Epoch 1 Batch 6150 Loss 5.7044\n",
      "Epoch 1 Batch 6300 Loss 5.6933\n",
      "Epoch 1 Batch 6450 Loss 5.6830\n",
      "Epoch 1 Batch 6600 Loss 5.6723\n",
      "Epoch 1 Batch 6750 Loss 5.6621\n",
      "Epoch 1 Batch 6900 Loss 5.6529\n",
      "Epoch 1 Batch 7050 Loss 5.6433\n",
      "Epoch 1 Batch 7200 Loss 5.6342\n",
      "Epoch 1 Batch 7350 Loss 5.6253\n",
      "Epoch 1 Batch 7500 Loss 5.6161\n",
      "Epoch 1 Batch 7650 Loss 5.6081\n",
      "Epoch 1 Batch 7800 Loss 5.5999\n",
      "Epoch 1 Batch 7950 Loss 5.5919\n",
      "Epoch 1 Batch 8100 Loss 5.5842\n",
      "Epoch 1 Batch 8250 Loss 5.5774\n",
      "Epoch 1 Batch 8400 Loss 5.5699\n",
      "Epoch 1 Batch 8550 Loss 5.5627\n",
      "Epoch 1 Batch 8700 Loss 5.5554\n",
      "Epoch 1 Batch 8850 Loss 5.5485\n",
      "Epoch 1 Batch 9000 Loss 5.5415\n",
      "\n",
      "the number of people in england are being asked to be able to be able to be able to get a new year\n",
      "a council has been warned that the road is to be closed after a fire in a bid to tackle the road\n",
      "the first of the most famous film has been announced in the uk\n",
      "the scottish government has announced plans to build a new nuclear plant in the north sea\n",
      "\n",
      "validation started ...\n",
      "\n",
      "* Validation loss: 5.060018539428711 \n",
      "\n",
      "* Train Loss 5.5370\n",
      "\n",
      "Saving checkpoint for epoch 1 at checkpoints4\\ckpt-1\n"
     ]
    },
    {
     "data": {
      "image/png": "[encoded data removed]",
      "text/plain": [
       "<Figure size 432x288 with 1 Axes>"
      ]
     },
     "metadata": {
      "needs_background": "light"
     },
     "output_type": "display_data"
    },
    {
     "name": "stdout",
     "output_type": "stream",
     "text": [
      "smallest val loss: (1, 5.0600185)\n",
      "Current Lr:  0.000889859\n",
      "\n",
      "Time taken for this epoch: 2425.74 secs\n",
      "\n",
      "========================================\n",
      "Epoch 2 Batch 0 Loss 5.0723\n",
      "Epoch 2 Batch 150 Loss 5.1359\n",
      "Epoch 2 Batch 300 Loss 5.1191\n",
      "Epoch 2 Batch 450 Loss 5.1266\n",
      "Epoch 2 Batch 600 Loss 5.1230\n",
      "Epoch 2 Batch 750 Loss 5.1266\n",
      "Epoch 2 Batch 900 Loss 5.1278\n",
      "Epoch 2 Batch 1050 Loss 5.1233\n",
      "Epoch 2 Batch 1200 Loss 5.1237\n",
      "Epoch 2 Batch 1350 Loss 5.1209\n",
      "Epoch 2 Batch 1500 Loss 5.1202\n",
      "Epoch 2 Batch 1650 Loss 5.1178\n",
      "Epoch 2 Batch 1800 Loss 5.1171\n",
      "Epoch 2 Batch 1950 Loss 5.1177\n",
      "Epoch 2 Batch 2100 Loss 5.1160\n",
      "Epoch 2 Batch 2250 Loss 5.1149\n",
      "Epoch 2 Batch 2400 Loss 5.1133\n",
      "Epoch 2 Batch 2550 Loss 5.1110\n",
      "Epoch 2 Batch 2700 Loss 5.1096\n",
      "Epoch 2 Batch 2850 Loss 5.1068\n",
      "Epoch 2 Batch 3000 Loss 5.1062\n",
      "Epoch 2 Batch 3150 Loss 5.1043\n",
      "Epoch 2 Batch 3300 Loss 5.1032\n",
      "Epoch 2 Batch 3450 Loss 5.1022\n",
      "Epoch 2 Batch 3600 Loss 5.1005\n",
      "Epoch 2 Batch 3750 Loss 5.0997\n",
      "Epoch 2 Batch 3900 Loss 5.0991\n",
      "Epoch 2 Batch 4050 Loss 5.0980\n",
      "Epoch 2 Batch 4200 Loss 5.0960\n",
      "Epoch 2 Batch 4350 Loss 5.0957\n",
      "Epoch 2 Batch 4500 Loss 5.0949\n",
      "Epoch 2 Batch 4650 Loss 5.0941\n",
      "Epoch 2 Batch 4800 Loss 5.0933\n",
      "Epoch 2 Batch 4950 Loss 5.0926\n",
      "Epoch 2 Batch 5100 Loss 5.0920\n",
      "Epoch 2 Batch 5250 Loss 5.0916\n",
      "Epoch 2 Batch 5400 Loss 5.0913\n",
      "Epoch 2 Batch 5550 Loss 5.0910\n",
      "Epoch 2 Batch 5700 Loss 5.0900\n",
      "Epoch 2 Batch 5850 Loss 5.0889\n",
      "Epoch 2 Batch 6000 Loss 5.0886\n",
      "Epoch 2 Batch 6150 Loss 5.0885\n",
      "Epoch 2 Batch 6300 Loss 5.0882\n",
      "Epoch 2 Batch 6450 Loss 5.0874\n",
      "Epoch 2 Batch 6600 Loss 5.0868\n",
      "Epoch 2 Batch 6750 Loss 5.0862\n",
      "Epoch 2 Batch 6900 Loss 5.0856\n",
      "Epoch 2 Batch 7050 Loss 5.0851\n",
      "Epoch 2 Batch 7200 Loss 5.0845\n",
      "Epoch 2 Batch 7350 Loss 5.0840\n",
      "Epoch 2 Batch 7500 Loss 5.0835\n",
      "Epoch 2 Batch 7650 Loss 5.0830\n",
      "Epoch 2 Batch 7800 Loss 5.0830\n",
      "Epoch 2 Batch 7950 Loss 5.0832\n",
      "Epoch 2 Batch 8100 Loss 5.0829\n",
      "Epoch 2 Batch 8250 Loss 5.0821\n",
      "Epoch 2 Batch 8400 Loss 5.0820\n",
      "Epoch 2 Batch 8550 Loss 5.0814\n",
      "Epoch 2 Batch 8700 Loss 5.0807\n",
      "Epoch 2 Batch 8850 Loss 5.0800\n",
      "Epoch 2 Batch 9000 Loss 5.0792\n",
      "\n",
      "the coronavirus pandemic is the first person to be the first person in the uk as the first minister has said\n",
      "a large blaze in a road in the west yorkshire has been closed for the first time\n",
      "the us film film has been named the first film film film film film film film the film of the film film film film film film film\n",
      "a new <UNK> <UNK> site in the north east of scotland has been approved by the government\n",
      "\n",
      "validation started ...\n",
      "\n",
      "* Validation loss: 4.970518589019775 \n",
      "\n",
      "* Train Loss 5.0790\n"
     ]
    },
    {
     "data": {
      "image/png": "[encoded data removed]",
      "text/plain": [
       "<Figure size 432x288 with 1 Axes>"
      ]
     },
     "metadata": {
      "needs_background": "light"
     },
     "output_type": "display_data"
    },
    {
     "name": "stdout",
     "output_type": "stream",
     "text": [
      "smallest val loss: (2, 4.9705186)\n",
      "Current Lr:  0.00079184904\n",
      "\n",
      "Time taken for this epoch: 2379.15 secs\n",
      "\n",
      "========================================\n",
      "Epoch 3 Batch 0 Loss 5.4419\n",
      "Epoch 3 Batch 150 Loss 5.0745\n",
      "Epoch 3 Batch 300 Loss 5.0705\n",
      "Epoch 3 Batch 450 Loss 5.0593\n",
      "Epoch 3 Batch 600 Loss 5.0567\n",
      "Epoch 3 Batch 750 Loss 5.0563\n",
      "Epoch 3 Batch 900 Loss 5.0553\n",
      "Epoch 3 Batch 1050 Loss 5.0555\n",
      "Epoch 3 Batch 1200 Loss 5.0576\n",
      "Epoch 3 Batch 1350 Loss 5.0570\n",
      "Epoch 3 Batch 1500 Loss 5.0569\n",
      "Epoch 3 Batch 1650 Loss 5.0545\n",
      "Epoch 3 Batch 1800 Loss 5.0528\n",
      "Epoch 3 Batch 1950 Loss 5.0533\n",
      "Epoch 3 Batch 2100 Loss 5.0539\n",
      "Epoch 3 Batch 2250 Loss 5.0532\n",
      "Epoch 3 Batch 2400 Loss 5.0531\n",
      "Epoch 3 Batch 2550 Loss 5.0526\n",
      "Epoch 3 Batch 2700 Loss 5.0513\n",
      "Epoch 3 Batch 2850 Loss 5.0514\n",
      "Epoch 3 Batch 3000 Loss 5.0504\n",
      "Epoch 3 Batch 3150 Loss 5.0499\n",
      "Epoch 3 Batch 3300 Loss 5.0485\n",
      "Epoch 3 Batch 3450 Loss 5.0483\n",
      "Epoch 3 Batch 3600 Loss 5.0486\n",
      "Epoch 3 Batch 3750 Loss 5.0490\n",
      "Epoch 3 Batch 3900 Loss 5.0484\n",
      "Epoch 3 Batch 4050 Loss 5.0484\n",
      "Epoch 3 Batch 4200 Loss 5.0482\n",
      "Epoch 3 Batch 4350 Loss 5.0479\n",
      "Epoch 3 Batch 4500 Loss 5.0483\n",
      "Epoch 3 Batch 4650 Loss 5.0481\n",
      "Epoch 3 Batch 4800 Loss 5.0476\n",
      "Epoch 3 Batch 4950 Loss 5.0473\n",
      "Epoch 3 Batch 5100 Loss 5.0464\n",
      "Epoch 3 Batch 5250 Loss 5.0465\n",
      "Epoch 3 Batch 5400 Loss 5.0461\n",
      "Epoch 3 Batch 5550 Loss 5.0458\n",
      "Epoch 3 Batch 5700 Loss 5.0457\n",
      "Epoch 3 Batch 5850 Loss 5.0453\n",
      "Epoch 3 Batch 6000 Loss 5.0451\n",
      "Epoch 3 Batch 6150 Loss 5.0447\n",
      "Epoch 3 Batch 6300 Loss 5.0442\n",
      "Epoch 3 Batch 6450 Loss 5.0439\n",
      "Epoch 3 Batch 6600 Loss 5.0434\n",
      "Epoch 3 Batch 6750 Loss 5.0427\n",
      "Epoch 3 Batch 6900 Loss 5.0425\n",
      "Epoch 3 Batch 7050 Loss 5.0420\n",
      "Epoch 3 Batch 7200 Loss 5.0415\n",
      "Epoch 3 Batch 7350 Loss 5.0412\n",
      "Epoch 3 Batch 7500 Loss 5.0409\n",
      "Epoch 3 Batch 7650 Loss 5.0408\n",
      "Epoch 3 Batch 7800 Loss 5.0401\n",
      "Epoch 3 Batch 7950 Loss 5.0393\n",
      "Epoch 3 Batch 8100 Loss 5.0388\n",
      "Epoch 3 Batch 8250 Loss 5.0385\n",
      "Epoch 3 Batch 8400 Loss 5.0384\n",
      "Epoch 3 Batch 8550 Loss 5.0375\n",
      "Epoch 3 Batch 8700 Loss 5.0369\n",
      "Epoch 3 Batch 8850 Loss 5.0361\n",
      "Epoch 3 Batch 9000 Loss 5.0356\n",
      "\n",
      "the coronavirus pandemic is the first minister has said it is not to be a very very very difficult of the coronavirus pandemic\n",
      "a flood road has been closed after a large fire broke into the river thames\n",
      "the us film star of the <UNK> <UNK> <UNK> has been named as the first film of the new york film film\n",
      "the government has announced plans to build a <UNK> wind farm in northern ireland\n",
      "\n",
      "validation started ...\n",
      "\n",
      "* Validation loss: 4.895841598510742 \n",
      "\n",
      "* Train Loss 5.0351\n",
      "\n",
      "Saving checkpoint for epoch 3 at checkpoints4\\ckpt-2\n"
     ]
    },
    {
     "data": {
      "image/png": "[encoded data removed]",
      "text/plain": [
       "<Figure size 432x288 with 1 Axes>"
      ]
     },
     "metadata": {
      "needs_background": "light"
     },
     "output_type": "display_data"
    },
    {
     "name": "stdout",
     "output_type": "stream",
     "text": [
      "smallest val loss: (3, 4.8958416)\n",
      "Current Lr:  0.00070463395\n",
      "\n",
      "Time taken for this epoch: 2389.97 secs\n",
      "\n",
      "========================================\n",
      "Epoch 4 Batch 0 Loss 5.1332\n",
      "Epoch 4 Batch 150 Loss 5.0022\n",
      "Epoch 4 Batch 300 Loss 4.9872\n",
      "Epoch 4 Batch 450 Loss 4.9884\n",
      "Epoch 4 Batch 600 Loss 4.9933\n",
      "Epoch 4 Batch 750 Loss 4.9888\n",
      "Epoch 4 Batch 900 Loss 4.9897\n",
      "Epoch 4 Batch 1050 Loss 4.9934\n",
      "Epoch 4 Batch 1200 Loss 4.9955\n",
      "Epoch 4 Batch 1350 Loss 4.9968\n",
      "Epoch 4 Batch 1500 Loss 4.9948\n",
      "Epoch 4 Batch 1650 Loss 4.9931\n",
      "Epoch 4 Batch 1800 Loss 4.9903\n",
      "Epoch 4 Batch 1950 Loss 4.9925\n",
      "Epoch 4 Batch 2100 Loss 4.9935\n",
      "Epoch 4 Batch 2250 Loss 4.9916\n",
      "Epoch 4 Batch 2400 Loss 4.9903\n",
      "Epoch 4 Batch 2550 Loss 4.9892\n",
      "Epoch 4 Batch 2700 Loss 4.9903\n",
      "Epoch 4 Batch 2850 Loss 4.9898\n",
      "Epoch 4 Batch 3000 Loss 4.9884\n",
      "Epoch 4 Batch 3150 Loss 4.9879\n",
      "Epoch 4 Batch 3300 Loss 4.9880\n",
      "Epoch 4 Batch 3450 Loss 4.9867\n",
      "Epoch 4 Batch 3600 Loss 4.9869\n",
      "Epoch 4 Batch 3750 Loss 4.9862\n",
      "Epoch 4 Batch 3900 Loss 4.9861\n",
      "Epoch 4 Batch 4050 Loss 4.9857\n",
      "Epoch 4 Batch 4200 Loss 4.9850\n",
      "Epoch 4 Batch 4350 Loss 4.9843\n",
      "Epoch 4 Batch 4500 Loss 4.9835\n",
      "Epoch 4 Batch 4650 Loss 4.9827\n",
      "Epoch 4 Batch 4800 Loss 4.9824\n",
      "Epoch 4 Batch 4950 Loss 4.9819\n",
      "Epoch 4 Batch 5100 Loss 4.9819\n",
      "Epoch 4 Batch 5250 Loss 4.9818\n",
      "Epoch 4 Batch 5400 Loss 4.9816\n",
      "Epoch 4 Batch 5550 Loss 4.9818\n",
      "Epoch 4 Batch 5700 Loss 4.9820\n",
      "Epoch 4 Batch 5850 Loss 4.9825\n",
      "Epoch 4 Batch 6000 Loss 4.9822\n",
      "Epoch 4 Batch 6150 Loss 4.9822\n",
      "Epoch 4 Batch 6300 Loss 4.9820\n",
      "Epoch 4 Batch 6450 Loss 4.9819\n",
      "Epoch 4 Batch 6600 Loss 4.9816\n",
      "Epoch 4 Batch 6750 Loss 4.9810\n",
      "Epoch 4 Batch 6900 Loss 4.9802\n",
      "Epoch 4 Batch 7050 Loss 4.9795\n",
      "Epoch 4 Batch 7200 Loss 4.9792\n",
      "Epoch 4 Batch 7350 Loss 4.9792\n",
      "Epoch 4 Batch 7500 Loss 4.9786\n",
      "Epoch 4 Batch 7650 Loss 4.9782\n",
      "Epoch 4 Batch 7800 Loss 4.9778\n",
      "Epoch 4 Batch 7950 Loss 4.9774\n",
      "Epoch 4 Batch 8100 Loss 4.9769\n",
      "Epoch 4 Batch 8250 Loss 4.9764\n",
      "Epoch 4 Batch 8400 Loss 4.9758\n",
      "Epoch 4 Batch 8550 Loss 4.9753\n",
      "Epoch 4 Batch 8700 Loss 4.9747\n",
      "Epoch 4 Batch 8850 Loss 4.9741\n",
      "Epoch 4 Batch 9000 Loss 4.9738\n",
      "\n",
      "the coronavirus pandemic is the first minister has been told to be the first minister to discuss the coronavirus pandemic\n",
      "a man has been arrested after a woman was hit by a river in a river\n",
      "the new film of the <UNK> film of the <UNK> film awards has been announced\n",
      "the government has approved plans for a new <UNK> energy mine in northern ireland\n",
      "\n",
      "validation started ...\n",
      "\n",
      "* Validation loss: 4.837660789489746 \n",
      "\n",
      "* Train Loss 4.9735\n"
     ]
    },
    {
     "data": {
      "image/png": "[encoded data removed]",
      "text/plain": [
       "<Figure size 432x288 with 1 Axes>"
      ]
     },
     "metadata": {
      "needs_background": "light"
     },
     "output_type": "display_data"
    },
    {
     "name": "stdout",
     "output_type": "stream",
     "text": [
      "smallest val loss: (4, 4.837661)\n",
      "Current Lr:  0.00062702486\n",
      "\n",
      "Time taken for this epoch: 2374.62 secs\n",
      "\n",
      "========================================\n",
      "Epoch 5 Batch 0 Loss 5.1330\n",
      "Epoch 5 Batch 150 Loss 4.9424\n",
      "Epoch 5 Batch 300 Loss 4.9357\n",
      "Epoch 5 Batch 450 Loss 4.9371\n",
      "Epoch 5 Batch 600 Loss 4.9410\n",
      "Epoch 5 Batch 750 Loss 4.9353\n",
      "Epoch 5 Batch 900 Loss 4.9377\n",
      "Epoch 5 Batch 1050 Loss 4.9349\n",
      "Epoch 5 Batch 1200 Loss 4.9371\n",
      "Epoch 5 Batch 1350 Loss 4.9382\n",
      "Epoch 5 Batch 1500 Loss 4.9360\n",
      "Epoch 5 Batch 1650 Loss 4.9369\n",
      "Epoch 5 Batch 1800 Loss 4.9386\n",
      "Epoch 5 Batch 1950 Loss 4.9386\n",
      "Epoch 5 Batch 2100 Loss 4.9388\n",
      "Epoch 5 Batch 2250 Loss 4.9355\n",
      "Epoch 5 Batch 2400 Loss 4.9369\n",
      "Epoch 5 Batch 2550 Loss 4.9363\n",
      "Epoch 5 Batch 2700 Loss 4.9359\n",
      "Epoch 5 Batch 2850 Loss 4.9350\n",
      "Epoch 5 Batch 3000 Loss 4.9340\n",
      "Epoch 5 Batch 3150 Loss 4.9349\n",
      "Epoch 5 Batch 3300 Loss 4.9354\n",
      "Epoch 5 Batch 3450 Loss 4.9345\n",
      "Epoch 5 Batch 3600 Loss 4.9347\n",
      "Epoch 5 Batch 3750 Loss 4.9352\n",
      "Epoch 5 Batch 3900 Loss 4.9355\n",
      "Epoch 5 Batch 4050 Loss 4.9356\n",
      "Epoch 5 Batch 4200 Loss 4.9353\n",
      "Epoch 5 Batch 4350 Loss 4.9351\n",
      "Epoch 5 Batch 4500 Loss 4.9356\n",
      "Epoch 5 Batch 4650 Loss 4.9345\n",
      "Epoch 5 Batch 4800 Loss 4.9345\n",
      "Epoch 5 Batch 4950 Loss 4.9339\n",
      "Epoch 5 Batch 5100 Loss 4.9333\n",
      "Epoch 5 Batch 5250 Loss 4.9327\n",
      "Epoch 5 Batch 5400 Loss 4.9337\n",
      "Epoch 5 Batch 5550 Loss 4.9335\n",
      "Epoch 5 Batch 5700 Loss 4.9339\n",
      "Epoch 5 Batch 5850 Loss 4.9333\n",
      "Epoch 5 Batch 6000 Loss 4.9336\n",
      "Epoch 5 Batch 6150 Loss 4.9331\n",
      "Epoch 5 Batch 6300 Loss 4.9326\n",
      "Epoch 5 Batch 6450 Loss 4.9327\n",
      "Epoch 5 Batch 6600 Loss 4.9330\n",
      "Epoch 5 Batch 6750 Loss 4.9322\n",
      "Epoch 5 Batch 6900 Loss 4.9323\n",
      "Epoch 5 Batch 7050 Loss 4.9318\n",
      "Epoch 5 Batch 7200 Loss 4.9315\n",
      "Epoch 5 Batch 7350 Loss 4.9317\n",
      "Epoch 5 Batch 7500 Loss 4.9311\n",
      "Epoch 5 Batch 7650 Loss 4.9309\n",
      "Epoch 5 Batch 7800 Loss 4.9306\n",
      "Epoch 5 Batch 7950 Loss 4.9301\n",
      "Epoch 5 Batch 8100 Loss 4.9300\n",
      "Epoch 5 Batch 8250 Loss 4.9291\n",
      "Epoch 5 Batch 8400 Loss 4.9289\n",
      "Epoch 5 Batch 8550 Loss 4.9283\n",
      "Epoch 5 Batch 8700 Loss 4.9277\n",
      "Epoch 5 Batch 8850 Loss 4.9275\n",
      "Epoch 5 Batch 9000 Loss 4.9269\n",
      "\n",
      "the uks biggest business is to be able to get the coronavirus pandemic\n",
      "a flood warning has been issued to the river thames in the north east of england and cornwall\n",
      "the former actress of the <UNK> <UNK> <UNK> has been announced as the first person to be the first person of the bbc\n",
      "the government has announced plans to build a new wind farm in the republic of ireland\n",
      "\n",
      "validation started ...\n",
      "\n",
      "* Validation loss: 4.794108867645264 \n",
      "\n",
      "* Train Loss 4.9269\n",
      "\n",
      "Saving checkpoint for epoch 5 at checkpoints4\\ckpt-3\n"
     ]
    },
    {
     "data": {
      "image/png": "[encoded data removed]",
      "text/plain": [
       "<Figure size 432x288 with 1 Axes>"
      ]
     },
     "metadata": {
      "needs_background": "light"
     },
     "output_type": "display_data"
    },
    {
     "name": "stdout",
     "output_type": "stream",
     "text": [
      "smallest val loss: (5, 4.794109)\n",
      "Current Lr:  0.0005579637\n",
      "\n",
      "Time taken for this epoch: 2390.54 secs\n",
      "\n",
      "========================================\n",
      "Epoch 6 Batch 0 Loss 4.8667\n",
      "Epoch 6 Batch 150 Loss 4.9173\n",
      "Epoch 6 Batch 300 Loss 4.9042\n",
      "Epoch 6 Batch 450 Loss 4.9050\n",
      "Epoch 6 Batch 600 Loss 4.9027\n",
      "Epoch 6 Batch 750 Loss 4.9019\n",
      "Epoch 6 Batch 900 Loss 4.8986\n",
      "Epoch 6 Batch 1050 Loss 4.8991\n",
      "Epoch 6 Batch 1200 Loss 4.9014\n",
      "Epoch 6 Batch 1350 Loss 4.9028\n",
      "Epoch 6 Batch 1500 Loss 4.9010\n",
      "Epoch 6 Batch 1650 Loss 4.9032\n",
      "Epoch 6 Batch 1800 Loss 4.9008\n",
      "Epoch 6 Batch 1950 Loss 4.9010\n",
      "Epoch 6 Batch 2100 Loss 4.9008\n",
      "Epoch 6 Batch 2250 Loss 4.8994\n",
      "Epoch 6 Batch 2400 Loss 4.8997\n",
      "Epoch 6 Batch 2550 Loss 4.8997\n",
      "Epoch 6 Batch 2700 Loss 4.9001\n",
      "Epoch 6 Batch 2850 Loss 4.9003\n",
      "Epoch 6 Batch 3000 Loss 4.9008\n",
      "Epoch 6 Batch 3150 Loss 4.9011\n",
      "Epoch 6 Batch 3300 Loss 4.9004\n",
      "Epoch 6 Batch 3450 Loss 4.9000\n",
      "Epoch 6 Batch 3600 Loss 4.8997\n",
      "Epoch 6 Batch 3750 Loss 4.8998\n",
      "Epoch 6 Batch 3900 Loss 4.8988\n",
      "Epoch 6 Batch 4050 Loss 4.8988\n",
      "Epoch 6 Batch 4200 Loss 4.8986\n",
      "Epoch 6 Batch 4350 Loss 4.8978\n",
      "Epoch 6 Batch 4500 Loss 4.8981\n",
      "Epoch 6 Batch 4650 Loss 4.8984\n",
      "Epoch 6 Batch 4800 Loss 4.8988\n",
      "Epoch 6 Batch 4950 Loss 4.8984\n",
      "Epoch 6 Batch 5100 Loss 4.8982\n",
      "Epoch 6 Batch 5250 Loss 4.8987\n",
      "Epoch 6 Batch 5400 Loss 4.8988\n",
      "Epoch 6 Batch 5550 Loss 4.8987\n",
      "Epoch 6 Batch 5700 Loss 4.8989\n",
      "Epoch 6 Batch 5850 Loss 4.8994\n",
      "Epoch 6 Batch 6000 Loss 4.8990\n",
      "Epoch 6 Batch 6150 Loss 4.8994\n",
      "Epoch 6 Batch 6300 Loss 4.8991\n",
      "Epoch 6 Batch 6450 Loss 4.8994\n",
      "Epoch 6 Batch 6600 Loss 4.8992\n",
      "Epoch 6 Batch 6750 Loss 4.8983\n",
      "Epoch 6 Batch 6900 Loss 4.8973\n",
      "Epoch 6 Batch 7050 Loss 4.8975\n",
      "Epoch 6 Batch 7200 Loss 4.8967\n",
      "Epoch 6 Batch 7350 Loss 4.8969\n",
      "Epoch 6 Batch 7500 Loss 4.8970\n",
      "Epoch 6 Batch 7650 Loss 4.8966\n",
      "Epoch 6 Batch 7800 Loss 4.8963\n",
      "Epoch 6 Batch 7950 Loss 4.8958\n",
      "Epoch 6 Batch 8100 Loss 4.8955\n",
      "Epoch 6 Batch 8250 Loss 4.8948\n",
      "Epoch 6 Batch 8400 Loss 4.8947\n",
      "Epoch 6 Batch 8550 Loss 4.8946\n",
      "Epoch 6 Batch 8700 Loss 4.8945\n",
      "Epoch 6 Batch 8850 Loss 4.8942\n",
      "Epoch 6 Batch 9000 Loss 4.8936\n",
      "\n",
      "the coronavirus pandemic is the most of the most different and the most of the uk and the uk is the most likely to be a new lockdown\n",
      "a flood warning has been issued to a flood warning about flooding in the north east sussex\n",
      "the <UNK> of the <UNK> <UNK> <UNK> has been named as the first of the new york film of the <UNK>\n",
      "a <UNK> wind farm in northern ireland has been given a <UNK> <UNK> from the county council\n",
      "\n",
      "validation started ...\n",
      "\n",
      "* Validation loss: 4.759713649749756 \n",
      "\n",
      "* Train Loss 4.8935\n"
     ]
    },
    {
     "data": {
      "image/png": "[encoded data removed]",
      "text/plain": [
       "<Figure size 432x288 with 1 Axes>"
      ]
     },
     "metadata": {
      "needs_background": "light"
     },
     "output_type": "display_data"
    },
    {
     "name": "stdout",
     "output_type": "stream",
     "text": [
      "smallest val loss: (6, 4.7597136)\n",
      "Current Lr:  0.000496509\n",
      "\n",
      "Time taken for this epoch: 2378.07 secs\n",
      "\n",
      "========================================\n",
      "Epoch 7 Batch 0 Loss 4.9181\n",
      "Epoch 7 Batch 150 Loss 4.8833\n",
      "Epoch 7 Batch 300 Loss 4.8629\n",
      "Epoch 7 Batch 450 Loss 4.8689\n",
      "Epoch 7 Batch 600 Loss 4.8699\n",
      "Epoch 7 Batch 750 Loss 4.8679\n",
      "Epoch 7 Batch 900 Loss 4.8714\n",
      "Epoch 7 Batch 1050 Loss 4.8701\n",
      "Epoch 7 Batch 1200 Loss 4.8796\n",
      "Epoch 7 Batch 1350 Loss 4.8769\n",
      "Epoch 7 Batch 1500 Loss 4.8788\n",
      "Epoch 7 Batch 1650 Loss 4.8736\n",
      "Epoch 7 Batch 1800 Loss 4.8722\n",
      "Epoch 7 Batch 1950 Loss 4.8753\n",
      "Epoch 7 Batch 2100 Loss 4.8756\n",
      "Epoch 7 Batch 2250 Loss 4.8738\n",
      "Epoch 7 Batch 2400 Loss 4.8734\n",
      "Epoch 7 Batch 2550 Loss 4.8747\n",
      "Epoch 7 Batch 2700 Loss 4.8741\n",
      "Epoch 7 Batch 2850 Loss 4.8734\n",
      "Epoch 7 Batch 3000 Loss 4.8737\n",
      "Epoch 7 Batch 3150 Loss 4.8742\n",
      "Epoch 7 Batch 3300 Loss 4.8731\n",
      "Epoch 7 Batch 3450 Loss 4.8726\n",
      "Epoch 7 Batch 3600 Loss 4.8736\n",
      "Epoch 7 Batch 3750 Loss 4.8739\n",
      "Epoch 7 Batch 3900 Loss 4.8732\n",
      "Epoch 7 Batch 4050 Loss 4.8733\n",
      "Epoch 7 Batch 4200 Loss 4.8724\n",
      "Epoch 7 Batch 4350 Loss 4.8718\n",
      "Epoch 7 Batch 4500 Loss 4.8719\n",
      "Epoch 7 Batch 4650 Loss 4.8715\n",
      "Epoch 7 Batch 4800 Loss 4.8709\n",
      "Epoch 7 Batch 4950 Loss 4.8714\n",
      "Epoch 7 Batch 5100 Loss 4.8706\n",
      "Epoch 7 Batch 5250 Loss 4.8699\n",
      "Epoch 7 Batch 5400 Loss 4.8698\n",
      "Epoch 7 Batch 5550 Loss 4.8696\n",
      "Epoch 7 Batch 5700 Loss 4.8700\n",
      "Epoch 7 Batch 5850 Loss 4.8705\n",
      "Epoch 7 Batch 6000 Loss 4.8704\n",
      "Epoch 7 Batch 6150 Loss 4.8707\n",
      "Epoch 7 Batch 6300 Loss 4.8705\n",
      "Epoch 7 Batch 6450 Loss 4.8708\n",
      "Epoch 7 Batch 6600 Loss 4.8708\n",
      "Epoch 7 Batch 6750 Loss 4.8708\n",
      "Epoch 7 Batch 6900 Loss 4.8708\n",
      "Epoch 7 Batch 7050 Loss 4.8711\n",
      "Epoch 7 Batch 7200 Loss 4.8711\n",
      "Epoch 7 Batch 7350 Loss 4.8701\n",
      "Epoch 7 Batch 7500 Loss 4.8697\n",
      "Epoch 7 Batch 7650 Loss 4.8700\n",
      "Epoch 7 Batch 7800 Loss 4.8698\n",
      "Epoch 7 Batch 7950 Loss 4.8693\n",
      "Epoch 7 Batch 8100 Loss 4.8692\n",
      "Epoch 7 Batch 8250 Loss 4.8690\n",
      "Epoch 7 Batch 8400 Loss 4.8686\n",
      "Epoch 7 Batch 8550 Loss 4.8686\n",
      "Epoch 7 Batch 8700 Loss 4.8675\n",
      "Epoch 7 Batch 8850 Loss 4.8672\n",
      "Epoch 7 Batch 9000 Loss 4.8667\n",
      "\n",
      "the government has announced that it will be a new <UNK> <UNK> <UNK> in the uk\n",
      "a flood warning has been issued to a warning of flooding in the west of england\n",
      "the winner of the oscars awards has been announced as the first film of the <UNK> film festival\n",
      "a <UNK> energy company has been bought by the government to help the <UNK> of the <UNK> wind farm\n",
      "\n",
      "validation started ...\n",
      "\n",
      "* Validation loss: 4.731228828430176 \n",
      "\n",
      "* Train Loss 4.8662\n"
     ]
    },
    {
     "data": {
      "image/png": "[encoded data removed]",
      "text/plain": [
       "<Figure size 432x288 with 1 Axes>"
      ]
     },
     "metadata": {
      "needs_background": "light"
     },
     "output_type": "display_data"
    },
    {
     "name": "stdout",
     "output_type": "stream",
     "text": [
      "smallest val loss: (7, 4.731229)\n",
      "Current Lr:  0.000441823\n",
      "\n",
      "Time taken for this epoch: 2406.19 secs\n",
      "\n",
      "========================================\n",
      "Epoch 8 Batch 0 Loss 4.6570\n",
      "Epoch 8 Batch 150 Loss 4.8626\n",
      "Epoch 8 Batch 300 Loss 4.8686\n",
      "Epoch 8 Batch 450 Loss 4.8522\n",
      "Epoch 8 Batch 600 Loss 4.8466\n",
      "Epoch 8 Batch 750 Loss 4.8501\n",
      "Epoch 8 Batch 900 Loss 4.8529\n",
      "Epoch 8 Batch 1050 Loss 4.8509\n",
      "Epoch 8 Batch 1200 Loss 4.8525\n",
      "Epoch 8 Batch 1350 Loss 4.8532\n",
      "Epoch 8 Batch 1500 Loss 4.8499\n",
      "Epoch 8 Batch 1650 Loss 4.8487\n",
      "Epoch 8 Batch 1800 Loss 4.8487\n",
      "Epoch 8 Batch 1950 Loss 4.8473\n",
      "Epoch 8 Batch 2100 Loss 4.8491\n",
      "Epoch 8 Batch 2250 Loss 4.8505\n",
      "Epoch 8 Batch 2400 Loss 4.8499\n",
      "Epoch 8 Batch 2550 Loss 4.8502\n",
      "Epoch 8 Batch 2700 Loss 4.8488\n",
      "Epoch 8 Batch 2850 Loss 4.8460\n",
      "Epoch 8 Batch 3000 Loss 4.8445\n",
      "Epoch 8 Batch 3150 Loss 4.8450\n",
      "Epoch 8 Batch 3300 Loss 4.8473\n",
      "Epoch 8 Batch 3450 Loss 4.8467\n",
      "Epoch 8 Batch 3600 Loss 4.8470\n",
      "Epoch 8 Batch 3750 Loss 4.8475\n",
      "Epoch 8 Batch 3900 Loss 4.8479\n",
      "Epoch 8 Batch 4050 Loss 4.8475\n",
      "Epoch 8 Batch 4200 Loss 4.8479\n",
      "Epoch 8 Batch 4350 Loss 4.8471\n",
      "Epoch 8 Batch 4500 Loss 4.8468\n",
      "Epoch 8 Batch 4650 Loss 4.8472\n",
      "Epoch 8 Batch 4800 Loss 4.8464\n",
      "Epoch 8 Batch 4950 Loss 4.8465\n",
      "Epoch 8 Batch 5100 Loss 4.8455\n",
      "Epoch 8 Batch 5250 Loss 4.8463\n",
      "Epoch 8 Batch 5400 Loss 4.8470\n",
      "Epoch 8 Batch 5550 Loss 4.8476\n",
      "Epoch 8 Batch 5700 Loss 4.8475\n",
      "Epoch 8 Batch 5850 Loss 4.8477\n",
      "Epoch 8 Batch 6000 Loss 4.8481\n",
      "Epoch 8 Batch 6150 Loss 4.8479\n",
      "Epoch 8 Batch 6300 Loss 4.8471\n",
      "Epoch 8 Batch 6450 Loss 4.8462\n",
      "Epoch 8 Batch 6600 Loss 4.8463\n",
      "Epoch 8 Batch 6750 Loss 4.8463\n",
      "Epoch 8 Batch 6900 Loss 4.8469\n",
      "Epoch 8 Batch 7050 Loss 4.8470\n",
      "Epoch 8 Batch 7200 Loss 4.8465\n",
      "Epoch 8 Batch 7350 Loss 4.8464\n",
      "Epoch 8 Batch 7500 Loss 4.8462\n",
      "Epoch 8 Batch 7650 Loss 4.8459\n",
      "Epoch 8 Batch 7800 Loss 4.8458\n",
      "Epoch 8 Batch 7950 Loss 4.8451\n",
      "Epoch 8 Batch 8100 Loss 4.8454\n",
      "Epoch 8 Batch 8250 Loss 4.8452\n",
      "Epoch 8 Batch 8400 Loss 4.8450\n",
      "Epoch 8 Batch 8550 Loss 4.8439\n",
      "Epoch 8 Batch 8700 Loss 4.8437\n",
      "Epoch 8 Batch 8850 Loss 4.8433\n",
      "Epoch 8 Batch 9000 Loss 4.8430\n",
      "\n",
      "the coronavirus pandemic is the most important of the uk and the uk and the uk is the most important to be able to reopen\n",
      "a flood warning has been launched on the river thames after a storm caused flooding\n",
      "actress <UNK> <UNK> has been named the first film for the first time in years\n",
      "a <UNK> energy company has been given to help the <UNK> of the <UNK> energy company\n",
      "\n",
      "validation started ...\n",
      "\n",
      "* Validation loss: 4.7091779708862305 \n",
      "\n",
      "* Train Loss 4.8430\n"
     ]
    },
    {
     "data": {
      "image/png": "[encoded data removed]",
      "text/plain": [
       "<Figure size 432x288 with 1 Axes>"
      ]
     },
     "metadata": {
      "needs_background": "light"
     },
     "output_type": "display_data"
    },
    {
     "name": "stdout",
     "output_type": "stream",
     "text": [
      "smallest val loss: (8, 4.709178)\n",
      "Current Lr:  0.00039316015\n",
      "\n",
      "Time taken for this epoch: 2507.25 secs\n",
      "\n",
      "========================================\n",
      "Epoch 9 Batch 0 Loss 4.7757\n",
      "Epoch 9 Batch 150 Loss 4.8133\n",
      "Epoch 9 Batch 300 Loss 4.8354\n",
      "Epoch 9 Batch 450 Loss 4.8301\n",
      "Epoch 9 Batch 600 Loss 4.8267\n",
      "Epoch 9 Batch 750 Loss 4.8233\n",
      "Epoch 9 Batch 900 Loss 4.8260\n",
      "Epoch 9 Batch 1050 Loss 4.8258\n",
      "Epoch 9 Batch 1200 Loss 4.8297\n",
      "Epoch 9 Batch 1350 Loss 4.8325\n",
      "Epoch 9 Batch 1500 Loss 4.8314\n",
      "Epoch 9 Batch 1650 Loss 4.8306\n",
      "Epoch 9 Batch 1800 Loss 4.8292\n",
      "Epoch 9 Batch 1950 Loss 4.8284\n",
      "Epoch 9 Batch 2100 Loss 4.8283\n",
      "Epoch 9 Batch 2250 Loss 4.8272\n",
      "Epoch 9 Batch 2400 Loss 4.8253\n",
      "Epoch 9 Batch 2550 Loss 4.8241\n",
      "Epoch 9 Batch 2700 Loss 4.8246\n",
      "Epoch 9 Batch 2850 Loss 4.8252\n",
      "Epoch 9 Batch 3000 Loss 4.8255\n",
      "Epoch 9 Batch 3150 Loss 4.8256\n",
      "Epoch 9 Batch 3300 Loss 4.8265\n",
      "Epoch 9 Batch 3450 Loss 4.8265\n",
      "Epoch 9 Batch 3600 Loss 4.8260\n",
      "Epoch 9 Batch 3750 Loss 4.8268\n",
      "Epoch 9 Batch 3900 Loss 4.8260\n",
      "Epoch 9 Batch 4050 Loss 4.8259\n",
      "Epoch 9 Batch 4200 Loss 4.8250\n",
      "Epoch 9 Batch 4350 Loss 4.8246\n",
      "Epoch 9 Batch 4500 Loss 4.8247\n",
      "Epoch 9 Batch 4650 Loss 4.8245\n",
      "Epoch 9 Batch 4800 Loss 4.8247\n",
      "Epoch 9 Batch 4950 Loss 4.8243\n",
      "Epoch 9 Batch 5100 Loss 4.8244\n",
      "Epoch 9 Batch 5250 Loss 4.8254\n",
      "Epoch 9 Batch 5400 Loss 4.8253\n",
      "Epoch 9 Batch 5550 Loss 4.8259\n",
      "Epoch 9 Batch 5700 Loss 4.8257\n",
      "Epoch 9 Batch 5850 Loss 4.8259\n",
      "Epoch 9 Batch 6000 Loss 4.8260\n",
      "Epoch 9 Batch 6150 Loss 4.8263\n",
      "Epoch 9 Batch 6300 Loss 4.8265\n",
      "Epoch 9 Batch 6450 Loss 4.8267\n",
      "Epoch 9 Batch 6600 Loss 4.8266\n",
      "Epoch 9 Batch 6750 Loss 4.8261\n",
      "Epoch 9 Batch 6900 Loss 4.8260\n",
      "Epoch 9 Batch 7050 Loss 4.8259\n",
      "Epoch 9 Batch 7200 Loss 4.8255\n",
      "Epoch 9 Batch 7350 Loss 4.8253\n",
      "Epoch 9 Batch 7500 Loss 4.8252\n",
      "Epoch 9 Batch 7650 Loss 4.8246\n",
      "Epoch 9 Batch 7800 Loss 4.8246\n",
      "Epoch 9 Batch 7950 Loss 4.8246\n",
      "Epoch 9 Batch 8100 Loss 4.8247\n",
      "Epoch 9 Batch 8250 Loss 4.8242\n",
      "Epoch 9 Batch 8400 Loss 4.8237\n",
      "Epoch 9 Batch 8550 Loss 4.8234\n",
      "Epoch 9 Batch 8700 Loss 4.8229\n",
      "Epoch 9 Batch 8850 Loss 4.8224\n",
      "Epoch 9 Batch 9000 Loss 4.8223\n",
      "\n",
      "the uks biggest food industry is to be closed for the first time in years\n",
      "a flood warning has been issued to a flood warning of flooding in the north east of england\n",
      "the us film festival is to be honoured with the first film of the film of the film festival\n",
      "the company behind the <UNK> energy company has announced it is to create a new <UNK> <UNK> <UNK>\n",
      "\n",
      "validation started ...\n",
      "\n",
      "* Validation loss: 4.6910529136657715 \n",
      "\n",
      "* Train Loss 4.8222\n",
      "\n",
      "Saving checkpoint for epoch 9 at checkpoints4\\ckpt-4\n"
     ]
    },
    {
     "data": {
      "image/png": "[encoded data removed]",
      "text/plain": [
       "<Figure size 432x288 with 1 Axes>"
      ]
     },
     "metadata": {
      "needs_background": "light"
     },
     "output_type": "display_data"
    },
    {
     "name": "stdout",
     "output_type": "stream",
     "text": [
      "smallest val loss: (9, 4.691053)\n",
      "Current Lr:  0.00034985712\n",
      "\n",
      "Time taken for this epoch: 2401.28 secs\n",
      "\n",
      "========================================\n",
      "Epoch 10 Batch 0 Loss 4.7530\n",
      "Epoch 10 Batch 150 Loss 4.7934\n",
      "Epoch 10 Batch 300 Loss 4.7893\n",
      "Epoch 10 Batch 450 Loss 4.7890\n",
      "Epoch 10 Batch 600 Loss 4.7971\n",
      "Epoch 10 Batch 750 Loss 4.7984\n",
      "Epoch 10 Batch 900 Loss 4.8006\n",
      "Epoch 10 Batch 1050 Loss 4.8031\n",
      "Epoch 10 Batch 1200 Loss 4.8001\n",
      "Epoch 10 Batch 1350 Loss 4.8019\n",
      "Epoch 10 Batch 1500 Loss 4.8047\n",
      "Epoch 10 Batch 1650 Loss 4.8054\n",
      "Epoch 10 Batch 1800 Loss 4.8071\n",
      "Epoch 10 Batch 1950 Loss 4.8083\n",
      "Epoch 10 Batch 2100 Loss 4.8102\n",
      "Epoch 10 Batch 2250 Loss 4.8085\n",
      "Epoch 10 Batch 2400 Loss 4.8075\n",
      "Epoch 10 Batch 2550 Loss 4.8071\n",
      "Epoch 10 Batch 2700 Loss 4.8069\n",
      "Epoch 10 Batch 2850 Loss 4.8061\n",
      "Epoch 10 Batch 3000 Loss 4.8053\n",
      "Epoch 10 Batch 3150 Loss 4.8061\n",
      "Epoch 10 Batch 3300 Loss 4.8061\n",
      "Epoch 10 Batch 3450 Loss 4.8071\n",
      "Epoch 10 Batch 3600 Loss 4.8054\n",
      "Epoch 10 Batch 3750 Loss 4.8053\n",
      "Epoch 10 Batch 3900 Loss 4.8051\n",
      "Epoch 10 Batch 4050 Loss 4.8045\n",
      "Epoch 10 Batch 4200 Loss 4.8042\n",
      "Epoch 10 Batch 4350 Loss 4.8046\n",
      "Epoch 10 Batch 4500 Loss 4.8052\n",
      "Epoch 10 Batch 4650 Loss 4.8059\n",
      "Epoch 10 Batch 4800 Loss 4.8057\n",
      "Epoch 10 Batch 4950 Loss 4.8059\n",
      "Epoch 10 Batch 5100 Loss 4.8070\n",
      "Epoch 10 Batch 5250 Loss 4.8071\n",
      "Epoch 10 Batch 5400 Loss 4.8072\n",
      "Epoch 10 Batch 5550 Loss 4.8069\n",
      "Epoch 10 Batch 5700 Loss 4.8071\n",
      "Epoch 10 Batch 5850 Loss 4.8069\n",
      "Epoch 10 Batch 6000 Loss 4.8072\n",
      "Epoch 10 Batch 6150 Loss 4.8070\n",
      "Epoch 10 Batch 6300 Loss 4.8072\n",
      "Epoch 10 Batch 6450 Loss 4.8074\n",
      "Epoch 10 Batch 6600 Loss 4.8077\n",
      "Epoch 10 Batch 6750 Loss 4.8072\n",
      "Epoch 10 Batch 6900 Loss 4.8073\n",
      "Epoch 10 Batch 7050 Loss 4.8070\n",
      "Epoch 10 Batch 7200 Loss 4.8068\n",
      "Epoch 10 Batch 7350 Loss 4.8072\n",
      "Epoch 10 Batch 7500 Loss 4.8071\n",
      "Epoch 10 Batch 7650 Loss 4.8067\n",
      "Epoch 10 Batch 7800 Loss 4.8069\n",
      "Epoch 10 Batch 7950 Loss 4.8066\n",
      "Epoch 10 Batch 8100 Loss 4.8063\n",
      "Epoch 10 Batch 8250 Loss 4.8059\n",
      "Epoch 10 Batch 8400 Loss 4.8057\n",
      "Epoch 10 Batch 8550 Loss 4.8054\n",
      "Epoch 10 Batch 8700 Loss 4.8050\n",
      "Epoch 10 Batch 8850 Loss 4.8048\n",
      "Epoch 10 Batch 9000 Loss 4.8049\n",
      "\n",
      "the coronavirus pandemic is the first of the uks biggest business in the uk to be closed for the first time\n",
      "a woman has been killed in a storm on the <UNK> in cornwall\n",
      "actress <UNK> <UNK> has been named as the first film of the oscars for her first time\n",
      "the northern ireland government has announced plans to build a new <UNK> wind farm in belfast\n",
      "\n",
      "validation started ...\n",
      "\n",
      "* Validation loss: 4.678481578826904 \n",
      "\n",
      "* Train Loss 4.8046\n"
     ]
    },
    {
     "data": {
      "image/png": "[encoded data removed]",
      "text/plain": [
       "<Figure size 432x288 with 1 Axes>"
      ]
     },
     "metadata": {
      "needs_background": "light"
     },
     "output_type": "display_data"
    },
    {
     "name": "stdout",
     "output_type": "stream",
     "text": [
      "smallest val loss: (10, 4.6784816)\n",
      "Current Lr:  0.00031132347\n",
      "\n",
      "Time taken for this epoch: 2405.90 secs\n",
      "\n",
      "========================================\n"
     ]
    }
   ],
   "source": [
    "print(params)\n",
    "print('#'*40)\n",
    "\n",
    "for epoch in range(ep,EPOCHS+1):\n",
    "    ep = epoch\n",
    "    start = time.time()\n",
    "\n",
    "    train_loss.reset_states()\n",
    "  \n",
    "    for (batch, (inp, tar)) in enumerate(dataset):\n",
    "        \n",
    "        CustomModel.train_step(inp, tar)\n",
    "    \n",
    "        if batch % 150 == 0:\n",
    "            print ('Epoch {} Batch {} Loss {:.4f}'.format(epoch , batch, train_loss.result()))\n",
    "                  \n",
    "    print()\n",
    "    print(summarize(clean_words(longreview_val['text'][i1])))\n",
    "    print(summarize(clean_words(longreview_val['text'][i2])))\n",
    "    print(summarize(clean_words(longreview_val['text'][i3])))\n",
    "    print(summarize(clean_words(longreview_val['text'][i4])))\n",
    "    print()\n",
    "\n",
    "    val_loss_ = validate().numpy()\n",
    "    history['val'].append((epoch,val_loss_))\n",
    "    print ('\\n* Train Loss {:.4f}'.format(train_loss.result()))\n",
    "    history['train'].append((epoch,train_loss.result().numpy()))\n",
    "\n",
    "\n",
    "    if best_val_loss-val_loss_ > 0.1:\n",
    "        ckpt_save_path4 = ckpt_manager4.save()\n",
    "        print ('\\nSaving checkpoint for epoch {} at {}'.format(epoch, ckpt_save_path4))  \n",
    "        best_val_loss = val_loss_\n",
    "\n",
    "    hist(history)\n",
    "    print('Current Lr: ',optimizer2._decayed_lr('float32').numpy())\n",
    "    print ('\\nTime taken for this epoch: {:.2f} secs\\n'.format(time.time() - start))\n",
    "    print('='*40)\n",
    "    \n",
    "    train_l=train_loss.result()\n",
    "\n",
    "    wandb.log({'epochs': epoch,\n",
    "                   'loss': np.mean(train_l),\n",
    "                   'val_loss': np.mean(val_loss_)})"
   ]
  },
  {
   "cell_type": "code",
   "execution_count": 51,
   "metadata": {},
   "outputs": [
    {
     "data": {
      "image/png": "[encoded data removed]",
      "text/plain": [
       "<Figure size 432x288 with 1 Axes>"
      ]
     },
     "metadata": {
      "needs_background": "light"
     },
     "output_type": "display_data"
    },
    {
     "name": "stdout",
     "output_type": "stream",
     "text": [
      "smallest val loss: (10, 4.6784816)\n"
     ]
    },
    {
     "data": {
      "text/plain": [
       "{'lmbda_l2': 0.1,\n",
       " 'd_out_rate': 0.1,\n",
       " 'num_layers': 4,\n",
       " 'd_model': 50,\n",
       " 'dff': 512,\n",
       " 'num_heads': 5,\n",
       " 'init_lr': 0.001}"
      ]
     },
     "execution_count": 51,
     "metadata": {},
     "output_type": "execute_result"
    }
   ],
   "source": [
    "hist(history)\n",
    "params"
   ]
  },
  {
   "cell_type": "code",
   "execution_count": 52,
   "metadata": {},
   "outputs": [
    {
     "name": "stderr",
     "output_type": "stream",
     "text": [
      "WARNING:absl:Found untraced functions such as train_step while saving (showing 1 of 1). These functions will not be directly callable after loading.\n"
     ]
    },
    {
     "name": "stdout",
     "output_type": "stream",
     "text": [
      "INFO:tensorflow:Assets written to: export1\\assets\n"
     ]
    },
    {
     "name": "stderr",
     "output_type": "stream",
     "text": [
      "INFO:tensorflow:Assets written to: export1\\assets\n"
     ]
    }
   ],
   "source": [
    "model=CustomModel()\n",
    "tf.saved_model.save(model, 'export1')"
   ]
  },
  {
   "cell_type": "code",
   "execution_count": 53,
   "metadata": {},
   "outputs": [
    {
     "name": "stdout",
     "output_type": "stream",
     "text": [
      "by katie prescottbusiness correspondent he has run the michelinstarred pied a terre in central london for  years it took just days to close the restaurants doors when the coronavirus lockdown was introduced now like many other businesses mr moore wants clarity about what restrictions might be in place when his restaurant can start serving again next week the government will release a series of papers outlining how it intends to get the uk economy up and running again once the pandemic passes research by business groups show that companies overwhelmingly want to get back to work as soon as possible and want information on how to do so for mr moore that means finding out things like will there be a quota on the number of people i can let in per square foot will there be rules about distances between tables reopening will not be a quick process his staff are on furlough he will have to reconnect with his suppliers and write a new pareddown menu that does not require too many chefs in the kitchen and there is concern about when customers might feel confident to eat out again meanwhile other businesses are facing their own challenges sociallydistanced haircuts if socialdistancing in a restaurant sounds difficult in some industries it is nigh on impossible hairdresser robert eaton is expecting a flood of customers desperate for post lockdown haircuts and beauty treatments when he reopens his leeds salons like so many he is thinking about how to do this safely we have ordered disposable gowns disposable towels hand sanitiser and we have been thinking about how we can isolate areas of the salons he says most importantly we need to work on client confidence removing the number of chairs in the salon will cut the number of customers so he is planning to extend his opening hours to compensate mr eaton thinks they will be able to offer nail and waxing treatments safely but not massages or facials he also expects customers will be opting for more natural and less highmaintenance looks with few requests for colour which will all have an effect on the salongs revenue eye exams optometrists have similar concerns about how to work with their patients safely bhavin shah of central vision opticians is planning to do part of his consultations by phone and use new digital imaging equipment so examinations can be performed at distance the company is going to space out appointment times to give them opportunity to disinfect surfaces equipment and spectacle frames that have been touched by customers nonetheless he says i believe it will take at least a year to start to become even close to some normality and another year to rebuild the thriving business that we used to have just one month ago he is also worried about when  and if  customers will decide to come back so far if we can keep at least half of our normal customers coming through we will be able to manage our cash flow if there is a second wave of infections in the country and a new lockdown i will have to hope that another round of government grants would carry us through offices open last tamzen isacsson chief executive of the management consultancies association has been working with the department for business innovation and skills on getting offices back to work after the lockdown she says that officebased companies will the last to open their doors particularly in places where hotdesking is used she argues that home working will become more commonplace and in some cases will cause major shifts for firms social distancing will mean that companies will lose large amounts of office space as much as two thirds and they will have to think differently about where their staff work but many firms are reporting problems with the mental health of their teams caused by selfisolation ms isacsson says we should not underestimate staff not wanting to go back to office and those who are very fearful about returning to work it needs to be carefully managed as people should not be put under pressure not quite business as usual some companies not on the lockdown list are already starting to go back to work shower manufacturer roman stopped work at the start of april as all of its customers closed it is now bringing in a quarter of its staff this week to fulfil demand as the house builders also reopen their sites and need showers in their supply chains managing director david osborne says he is expecting a busy few weeks ahead then a lull until october their high speed assembly lines makes social distancing on the factory floor straightforward that is more complicated is how their sales force interact with customers\n",
      "\n",
      "the coronavirus pandemic is the first of the uks biggest business in the uk to be closed for the first time\n"
     ]
    }
   ],
   "source": [
    "print(clean_words(longreview_val['text'][i1]))\n",
    "print()\n",
    "print(summarize(clean_words(longreview_val['text'][i1])))"
   ]
  },
  {
   "cell_type": "code",
   "execution_count": 54,
   "metadata": {},
   "outputs": [
    {
     "name": "stdout",
     "output_type": "stream",
     "text": [
      "the environment agency issued its severe warning for portreath following heavy rainfall across the south west the environment agency said evacuation plans had been drawn up for portreath there are still flood warnings and flood alerts in place across cornwall devon somerset dorset and wiltshire paul gainey from the environment agency said staff were initially unable to unblock a drainage gate in portreath which meant the water built up and built up in the road near the tunnel he said the agency had anticipated flooding in up to  homes in portreath and that the police had drawn up evacuation plans however a mechanical claw device was used to unblock the screen by  gmt on saturday causing the water to drain and no one was evacuated in cornwall two properties were also flooded in angarrack and three properties in blackwater new warnings warnings of flooding for cornwall devon and somerset have now all been downgraded from a medium risk to a low risk however new flood warnings have been issued for dorchester areas around the river avon in wiltshire and along the river exe between tiverton and exeter mr gainey warned that flood alerts were likely to be issued for north cornwall on sunday and that drivers should avoid travelling in the strong gale force winds in devon and cornwall\n",
      "\n",
      "a woman has been killed in a storm on the <UNK> in cornwall\n"
     ]
    }
   ],
   "source": [
    "print(clean_words(longreview_val['text'][i2]))\n",
    "print()\n",
    "print(summarize(clean_words(longreview_val['text'][i2])))"
   ]
  },
  {
   "cell_type": "code",
   "execution_count": 55,
   "metadata": {},
   "outputs": [
    {
     "ename": "AttributeError",
     "evalue": "'CustomModel' object has no attribute 'summary'",
     "output_type": "error",
     "traceback": [
      "\u001b[1;31m---------------------------------------------------------------------------\u001b[0m",
      "\u001b[1;31mAttributeError\u001b[0m                            Traceback (most recent call last)",
      "Input \u001b[1;32mIn [55]\u001b[0m, in \u001b[0;36m<cell line: 1>\u001b[1;34m()\u001b[0m\n\u001b[1;32m----> 1\u001b[0m \u001b[43mmodel\u001b[49m\u001b[38;5;241;43m.\u001b[39;49m\u001b[43msummary\u001b[49m()\n",
      "\u001b[1;31mAttributeError\u001b[0m: 'CustomModel' object has no attribute 'summary'"
     ]
    }
   ],
   "source": [
    "model.summary()"
   ]
  },
  {
   "cell_type": "code",
   "execution_count": null,
   "metadata": {},
   "outputs": [],
   "source": []
  }
 ],
 "metadata": {
  "kernelspec": {
   "display_name": "Python 3 (ipykernel)",
   "language": "python",
   "name": "python3"
  },
  "language_info": {
   "codemirror_mode": {
    "name": "ipython",
    "version": 3
   },
   "file_extension": ".py",
   "mimetype": "text/x-python",
   "name": "python",
   "nbconvert_exporter": "python",
   "pygments_lexer": "ipython3",
   "version": "3.9.9"
  },
  "vscode": {
   "interpreter": {
    "hash": "47fc60e441dc98ecd008b2ca5d87d6dc55e62c2682b5775c0729f78d2bc82c4b"
   }
  }
 },
 "nbformat": 4,
 "nbformat_minor": 2
}
