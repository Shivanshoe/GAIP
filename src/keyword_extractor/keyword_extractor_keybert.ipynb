{
 "cells": [
  {
   "cell_type": "code",
   "execution_count": null,
   "id": "000bd07f",
   "metadata": {},
   "outputs": [],
   "source": [
    "import os\n",
    "import pandas as pd\n",
    "from keybert import KeyBERT\n",
    "import glob #glob module has several functions that can help in listing files under a specified folder"
   ]
  },
  {
   "cell_type": "code",
   "execution_count": null,
   "id": "95d5d9d4",
   "metadata": {},
   "outputs": [],
   "source": [
    "files=glob.glob(r\"enter_filepath\\Dave2D\\*.txt\") # selects all txt files in the folder\n",
    "#method returns a list of files or folders that matches the path specified in the pathname argument"
   ]
  },
  {
   "cell_type": "code",
   "execution_count": null,
   "id": "befe8dbe",
   "metadata": {},
   "outputs": [],
   "source": [
    "#REMOVE IRRELEVANT WORDS\n",
    "for i in range(len(files)):\n",
    "    try:\n",
    "        print(files[i])\n",
    "        \n",
    "        with open(files[i], 'r') as file:\n",
    "            text = file.read() #read the txt files\n",
    "\n",
    "        with open(files[i], 'w') as file:      #delete irrelevant text\n",
    "            new_text = text.replace('[Music]', '')\n",
    "            new_text = text.replace('[Applause]', '')\n",
    "            new_text = text.replace('[Laughter]', '')\n",
    "            # write it\n",
    "            file.write(new_text)\n",
    "    except:\n",
    "        continue"
   ]
  },
  {
   "cell_type": "code",
   "execution_count": null,
   "id": "aa50abbc",
   "metadata": {},
   "outputs": [],
   "source": [
    "#extract keywords using keybert\n",
    "l=[]\n",
    "for i in range(len(files)):\n",
    "    try:\n",
    "        with open(files[i],\"r\") as f:\n",
    "            data = f.readlines()\n",
    "        kw_model=KeyBERT()\n",
    "        keywords=kw_model.extract_keywords(data)\n",
    "        l.append(kw_model.extract_keywords(data, keyphrase_ngram_range=(1,1), top_n=10, use_maxsum=True, nr_candidates=20))         \n",
    "    except:\n",
    "        continue"
   ]
  },
  {
   "cell_type": "code",
   "execution_count": null,
   "id": "1ed53c21",
   "metadata": {},
   "outputs": [],
   "source": [
    "print(l)"
   ]
  },
  {
   "cell_type": "code",
   "execution_count": null,
   "id": "d5d84764",
   "metadata": {},
   "outputs": [],
   "source": [
    "hashtag=[]\n",
    "for i in range(len(l)):\n",
    "    for j in range(10):\n",
    "        hashtag.append(\"#\"+l[i][0][j][0])"
   ]
  },
  {
   "cell_type": "code",
   "execution_count": null,
   "id": "3ea3eb0a",
   "metadata": {},
   "outputs": [],
   "source": [
    "print(\"Hashtags generated:\")\n",
    "print(hashtag)"
   ]
  },
  {
   "cell_type": "code",
   "execution_count": null,
   "id": "541ae084",
   "metadata": {},
   "outputs": [],
   "source": [
    "with open(r\"enter_filepath\\Dave2D\\hashtags.txt\", 'w') as f:\n",
    "    for i in hashtag:\n",
    "        f.write(str(i) + '\\n')"
   ]
  }
 ],
 "metadata": {
  "kernelspec": {
   "display_name": "Python 3.9.9 64-bit",
   "language": "python",
   "name": "python3"
  },
  "language_info": {
   "codemirror_mode": {
    "name": "ipython",
    "version": 3
   },
   "file_extension": ".py",
   "mimetype": "text/x-python",
   "name": "python",
   "nbconvert_exporter": "python",
   "pygments_lexer": "ipython3",
   "version": "3.9.9"
  },
  "vscode": {
   "interpreter": {
    "hash": "c1fb64ce72ee418b906114904f2c5455677304d704cd042ec95fedfd82a35843"
   }
  }
 },
 "nbformat": 4,
 "nbformat_minor": 5
}
