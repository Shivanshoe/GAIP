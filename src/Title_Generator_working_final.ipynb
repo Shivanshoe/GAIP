{
 "cells": [
  {
   "cell_type": "code",
   "execution_count": 1,
   "id": "d6c20ae3",
   "metadata": {
    "gather": {
     "logged": 1657973341953
    },
    "id": "d6c20ae3"
   },
   "outputs": [],
   "source": [
    "import pandas as pd\n",
    "import string\n",
    "import numpy as np\n",
    "import json\n",
    "import os\n",
    "\n",
    "import keras\n",
    "from keras_preprocessing.sequence import pad_sequences\n",
    "from keras.layers import Embedding, LSTM, Dense, Dropout\n",
    "from keras.preprocessing.text import Tokenizer\n",
    "from keras.callbacks import EarlyStopping\n",
    "from keras.models import Sequential\n",
    "from keras.utils import np_utils\n",
    "# import keras.utils as ku\n",
    "\n",
    "import tensorflow as tf\n",
    "tf.random.set_seed(2)\n",
    "from numpy.random import seed\n",
    "seed(1)"
   ]
  },
  {
   "cell_type": "code",
   "execution_count": 2,
   "id": "ef6dbf9c",
   "metadata": {},
   "outputs": [
    {
     "name": "stdout",
     "output_type": "stream",
     "text": [
      "No GPU found\n"
     ]
    }
   ],
   "source": [
    "import os\n",
    "import tensorflow as tf\n",
    "\n",
    "os.environ['CUDA_VISIBLE_DEVICES'] = '-1'\n",
    "\n",
    "if tf.test.gpu_device_name():\n",
    "    print('GPU found')\n",
    "else:\n",
    "    print(\"No GPU found\")"
   ]
  },
  {
   "cell_type": "code",
   "execution_count": 3,
   "id": "60fbe436",
   "metadata": {},
   "outputs": [],
   "source": [
    "# print(\"GPU:\", len(tf.config.experimental.list_physical_devices('GPU')))\n"
   ]
  },
  {
   "cell_type": "code",
   "execution_count": 4,
   "id": "958fc70f",
   "metadata": {},
   "outputs": [
    {
     "data": {
      "text/plain": [
       "'2.9.1'"
      ]
     },
     "execution_count": 4,
     "metadata": {},
     "output_type": "execute_result"
    }
   ],
   "source": [
    "import tensorflow as tf \n",
    "tf.__version__"
   ]
  },
  {
   "cell_type": "code",
   "execution_count": 5,
   "id": "decb9f61",
   "metadata": {},
   "outputs": [],
   "source": [
    "# physical_devices = tf.config.list_physical_devices('GPU')\n",
    "# try:\n",
    "#   tf.config.experimental.set_memory_growth(physical_devices[0], True)\n",
    "# except:\n",
    "#   # Invalid device or cannot modify virtual devices once initialized.\n",
    "#   pass\n",
    "#config = tf.ConfigProto(device_count = {'GPU':0})\n",
    "#sess = tf.Session(config=config)"
   ]
  },
  {
   "cell_type": "code",
   "execution_count": 6,
   "id": "fe8f192e",
   "metadata": {},
   "outputs": [],
   "source": [
    "# gpus = tf.config.list_physical_devices('GPU')\n",
    "# if gpus:\n",
    "#   try:\n",
    "#     # Currently, memory growth needs to be the same across GPUs\n",
    "#     for gpu in gpus:\n",
    "#       tf.config.experimental.set_memory_growth(gpu, True)\n",
    "#     logical_gpus = tf.config.list_logical_devices('GPU')\n",
    "#     print(len(gpus), \"Physical GPUs,\", len(logical_gpus), \"Logical GPUs\")\n",
    "#   except RuntimeError as e:\n",
    "#     # Memory growth must be set before GPUs have been initialized\n",
    "#     print(e)"
   ]
  },
  {
   "cell_type": "code",
   "execution_count": 7,
   "id": "TVxebTjK5n_B",
   "metadata": {
    "colab": {
     "base_uri": "https://localhost:8080/"
    },
    "id": "TVxebTjK5n_B",
    "outputId": "ebc47476-86bb-411b-e17c-7ebf0bde105a"
   },
   "outputs": [
    {
     "name": "stderr",
     "output_type": "stream",
     "text": [
      "C:\\Users\\shiva\\AppData\\Local\\Temp\\ipykernel_12272\\4022661005.py:5: DtypeWarning: Columns (3,6,7,8,9,11,12) have mixed types. Specify dtype option on import or set low_memory=False.\n",
      "  df4 = pd.read_csv (\"USvideos.csv\")\n"
     ]
    }
   ],
   "source": [
    "#load all the datasets \n",
    "df1 = pd.read_csv(\"CAvideos.csv\")\n",
    "df2 = pd.read_csv(\"GBvideos.csv\")\n",
    "df3 = pd.read_csv(\"INvideos.csv\")\n",
    "df4 = pd.read_csv (\"USvideos.csv\")\n",
    "\n",
    "\n",
    "#load the datasets containing the category names\n",
    "data1 = json.load(open('CAvideos_id.json'))\n",
    "data2 = json.load(open('GBvideos_id.json'))\n",
    "data3 = json.load(open('INvideos_id.json'))\n",
    "data4 = json.load(open('USvideos_id.json'))"
   ]
  },
  {
   "cell_type": "code",
   "execution_count": 8,
   "id": "37a7e111",
   "metadata": {
    "gather": {
     "logged": 1657973342120
    },
    "id": "37a7e111"
   },
   "outputs": [
    {
     "name": "stdout",
     "output_type": "stream",
     "text": [
      "(675356, 15)\n",
      "(112370, 15)\n"
     ]
    }
   ],
   "source": [
    "def category_extractor(data):\n",
    "    i_d = [data['items'][i]['id'] for i in range(len(data['items']))]\n",
    "    title = [data['items'][i]['snippet'][\"title\"] for i in range(len(data['items']))]\n",
    "    i_d = list(map(int, i_d))\n",
    "    category = zip(i_d, title)\n",
    "    category = dict(category)\n",
    "    return category\n",
    "\n",
    "#create a new category column by mapping the category names to their id\n",
    "df1['category_title'] = df1['category_id'].map(category_extractor(data1))\n",
    "df2['category_title'] = df2['category_id'].map(category_extractor(data2))\n",
    "df3['category_title'] = df3['category_id'].map(category_extractor(data3))\n",
    "df4['category_title'] = df4['category_id'].map(category_extractor(data4))\n",
    "\n",
    "\n",
    "#join the dataframes\n",
    "df = pd.concat([df1, df2, df3, df4], ignore_index=True)\n",
    "print(df.shape)\n",
    "#drop rows based on duplicate videos\n",
    "df = df.drop_duplicates('video_id')\n",
    "\n",
    "#collect only titles of entertainment videos\n",
    "#feel free to use any category of video that you want\n",
    "entertainment = df[df['category_title'] == 'Entertainment']['title']\n",
    "entertainment = entertainment.tolist()\n",
    "print(df.shape)\n",
    "\n",
    "\n",
    "\n",
    "#remove punctuations and convert text to lowercase\n",
    "def clean_text(text):\n",
    "    text = ''.join(e for e in text if e not in string.punctuation).lower()\n",
    "    \n",
    "    text = text.encode('utf8').decode('ascii', 'ignore')\n",
    "    return text\n",
    "\n",
    "corpus = [clean_text(e) for e in entertainment]"
   ]
  },
  {
   "cell_type": "code",
   "execution_count": 9,
   "id": "bdfa96b7",
   "metadata": {
    "gather": {
     "logged": 1657973342142
    },
    "id": "bdfa96b7"
   },
   "outputs": [],
   "source": [
    "tokenizer = Tokenizer()\n",
    "def get_sequence_of_tokens(corpus):\n",
    "  #get tokens\n",
    "  tokenizer.fit_on_texts(corpus)\n",
    "  total_words = len(tokenizer.word_index) + 1\n",
    " \n",
    "  #convert to sequence of tokens\n",
    "  input_sequences = []\n",
    "  for line in corpus:\n",
    "      token_list = tokenizer.texts_to_sequences([line])[0]\n",
    "      for i in range(1, len(token_list)):\n",
    "          n_gram_sequence = token_list[:i+1]\n",
    "          input_sequences.append(n_gram_sequence)\n",
    " \n",
    "  return input_sequences, total_words\n",
    "inp_sequences, total_words = get_sequence_of_tokens(corpus)"
   ]
  },
  {
   "cell_type": "code",
   "execution_count": 10,
   "id": "0aa32786",
   "metadata": {
    "colab": {
     "base_uri": "https://localhost:8080/",
     "height": 201
    },
    "gather": {
     "logged": 1657973342158
    },
    "id": "0aa32786",
    "outputId": "dfdef1e7-d54a-4d2f-bb97-a507ccb29278"
   },
   "outputs": [],
   "source": [
    "def generate_padded_sequences(input_sequences):\n",
    "  max_sequence_len = max([len(x) for x in input_sequences])\n",
    "  input_sequences = np.array(pad_sequences(input_sequences,  maxlen=max_sequence_len, padding='pre'))\n",
    "  predictors, label = input_sequences[:,:-1], input_sequences[:, -1]\n",
    "  label = keras.utils.np_utils.to_categorical(label, num_classes = total_words)\n",
    "  return predictors, label, max_sequence_len\n",
    "predictors, label, max_sequence_len = generate_padded_sequences(inp_sequences)"
   ]
  },
  {
   "cell_type": "code",
   "execution_count": 11,
   "id": "c8f1d88c",
   "metadata": {
    "gather": {
     "logged": 1657973342171
    },
    "id": "c8f1d88c"
   },
   "outputs": [
    {
     "name": "stdout",
     "output_type": "stream",
     "text": [
      "Epoch 1/100\n",
      "8202/8204 [============================>.] - ETA: 0s - loss: 7.7791\n",
      "Epoch 1: saving model to cp.ckpt\n",
      "8204/8204 [==============================] - 190s 23ms/step - loss: 7.7789\n",
      "Epoch 2/100\n",
      "8203/8204 [============================>.] - ETA: 0s - loss: 6.6891\n",
      "Epoch 2: saving model to cp.ckpt\n",
      "8204/8204 [==============================] - 191s 23ms/step - loss: 6.6891\n",
      "Epoch 3/100\n",
      "8203/8204 [============================>.] - ETA: 0s - loss: 6.0692\n",
      "Epoch 3: saving model to cp.ckpt\n",
      "8204/8204 [==============================] - 188s 23ms/step - loss: 6.0692\n",
      "Epoch 4/100\n",
      "8203/8204 [============================>.] - ETA: 0s - loss: 5.6214\n",
      "Epoch 4: saving model to cp.ckpt\n",
      "8204/8204 [==============================] - 187s 23ms/step - loss: 5.6214\n",
      "Epoch 5/100\n",
      "8202/8204 [============================>.] - ETA: 0s - loss: 5.2774\n",
      "Epoch 5: saving model to cp.ckpt\n",
      "8204/8204 [==============================] - 196s 24ms/step - loss: 5.2774\n",
      "Epoch 6/100\n",
      "8202/8204 [============================>.] - ETA: 0s - loss: 5.0100\n",
      "Epoch 6: saving model to cp.ckpt\n",
      "8204/8204 [==============================] - 190s 23ms/step - loss: 5.0101\n",
      "Epoch 7/100\n",
      "8203/8204 [============================>.] - ETA: 0s - loss: 4.7943\n",
      "Epoch 7: saving model to cp.ckpt\n",
      "8204/8204 [==============================] - 189s 23ms/step - loss: 4.7943\n",
      "Epoch 8/100\n",
      "8202/8204 [============================>.] - ETA: 0s - loss: 4.6155\n",
      "Epoch 8: saving model to cp.ckpt\n",
      "8204/8204 [==============================] - 197s 24ms/step - loss: 4.6156\n",
      "Epoch 9/100\n",
      "8203/8204 [============================>.] - ETA: 0s - loss: 4.4725\n",
      "Epoch 9: saving model to cp.ckpt\n",
      "8204/8204 [==============================] - 191s 23ms/step - loss: 4.4725\n",
      "Epoch 10/100\n",
      "8202/8204 [============================>.] - ETA: 0s - loss: 4.3508\n",
      "Epoch 10: saving model to cp.ckpt\n",
      "8204/8204 [==============================] - 193s 23ms/step - loss: 4.3509\n",
      "Epoch 11/100\n",
      "8204/8204 [==============================] - ETA: 0s - loss: 4.2428\n",
      "Epoch 11: saving model to cp.ckpt\n",
      "8204/8204 [==============================] - 198s 24ms/step - loss: 4.2428\n",
      "Epoch 12/100\n",
      "8202/8204 [============================>.] - ETA: 0s - loss: 4.1512\n",
      "Epoch 12: saving model to cp.ckpt\n",
      "8204/8204 [==============================] - 187s 23ms/step - loss: 4.1512\n",
      "Epoch 13/100\n",
      "8203/8204 [============================>.] - ETA: 0s - loss: 4.0717\n",
      "Epoch 13: saving model to cp.ckpt\n",
      "8204/8204 [==============================] - 194s 24ms/step - loss: 4.0717\n",
      "Epoch 14/100\n",
      "8202/8204 [============================>.] - ETA: 0s - loss: 3.9982\n",
      "Epoch 14: saving model to cp.ckpt\n",
      "8204/8204 [==============================] - 198s 24ms/step - loss: 3.9981\n",
      "Epoch 15/100\n",
      "8204/8204 [==============================] - ETA: 0s - loss: 3.9328\n",
      "Epoch 15: saving model to cp.ckpt\n",
      "8204/8204 [==============================] - 191s 23ms/step - loss: 3.9328\n",
      "Epoch 16/100\n",
      "8203/8204 [============================>.] - ETA: 0s - loss: 3.8717\n",
      "Epoch 16: saving model to cp.ckpt\n",
      "8204/8204 [==============================] - 193s 24ms/step - loss: 3.8718\n",
      "Epoch 17/100\n",
      "8204/8204 [==============================] - ETA: 0s - loss: 3.8154\n",
      "Epoch 17: saving model to cp.ckpt\n",
      "8204/8204 [==============================] - 199s 24ms/step - loss: 3.8154\n",
      "Epoch 18/100\n",
      "8203/8204 [============================>.] - ETA: 0s - loss: 3.7648\n",
      "Epoch 18: saving model to cp.ckpt\n",
      "8204/8204 [==============================] - 193s 24ms/step - loss: 3.7648\n",
      "Epoch 19/100\n",
      "8202/8204 [============================>.] - ETA: 0s - loss: 3.7200\n",
      "Epoch 19: saving model to cp.ckpt\n",
      "8204/8204 [==============================] - 195s 24ms/step - loss: 3.7199\n",
      "Epoch 20/100\n",
      "8204/8204 [==============================] - ETA: 0s - loss: 3.6751\n",
      "Epoch 20: saving model to cp.ckpt\n",
      "8204/8204 [==============================] - 199s 24ms/step - loss: 3.6751\n",
      "Epoch 21/100\n",
      "8202/8204 [============================>.] - ETA: 0s - loss: 3.6343\n",
      "Epoch 21: saving model to cp.ckpt\n",
      "8204/8204 [==============================] - 195s 24ms/step - loss: 3.6344\n",
      "Epoch 22/100\n",
      "8203/8204 [============================>.] - ETA: 0s - loss: 3.5987\n",
      "Epoch 22: saving model to cp.ckpt\n",
      "8204/8204 [==============================] - 196s 24ms/step - loss: 3.5987\n",
      "Epoch 23/100\n",
      "8202/8204 [============================>.] - ETA: 0s - loss: 3.5706\n",
      "Epoch 23: saving model to cp.ckpt\n",
      "8204/8204 [==============================] - 203s 25ms/step - loss: 3.5707\n",
      "Epoch 24/100\n",
      "8204/8204 [==============================] - ETA: 0s - loss: 3.5455\n",
      "Epoch 24: saving model to cp.ckpt\n",
      "8204/8204 [==============================] - 195s 24ms/step - loss: 3.5455\n",
      "Epoch 25/100\n",
      "8202/8204 [============================>.] - ETA: 0s - loss: 3.5147\n",
      "Epoch 25: saving model to cp.ckpt\n",
      "8204/8204 [==============================] - 200s 24ms/step - loss: 3.5148\n",
      "Epoch 26/100\n",
      "8203/8204 [============================>.] - ETA: 0s - loss: 3.4892\n",
      "Epoch 26: saving model to cp.ckpt\n",
      "8204/8204 [==============================] - 199s 24ms/step - loss: 3.4892\n",
      "Epoch 27/100\n",
      "8204/8204 [==============================] - ETA: 0s - loss: 3.4630\n",
      "Epoch 27: saving model to cp.ckpt\n",
      "8204/8204 [==============================] - 191s 23ms/step - loss: 3.4630\n",
      "Epoch 28/100\n",
      "8202/8204 [============================>.] - ETA: 0s - loss: 3.4354\n",
      "Epoch 28: saving model to cp.ckpt\n",
      "8204/8204 [==============================] - 189s 23ms/step - loss: 3.4355\n",
      "Epoch 29/100\n",
      "8204/8204 [==============================] - ETA: 0s - loss: 3.4149\n",
      "Epoch 29: saving model to cp.ckpt\n",
      "8204/8204 [==============================] - 189s 23ms/step - loss: 3.4149\n",
      "Epoch 30/100\n",
      "8203/8204 [============================>.] - ETA: 0s - loss: 3.3908\n",
      "Epoch 30: saving model to cp.ckpt\n",
      "8204/8204 [==============================] - 192s 23ms/step - loss: 3.3908\n",
      "Epoch 31/100\n",
      "8203/8204 [============================>.] - ETA: 0s - loss: 3.3714\n",
      "Epoch 31: saving model to cp.ckpt\n",
      "8204/8204 [==============================] - 192s 23ms/step - loss: 3.3714\n",
      "Epoch 32/100\n",
      "8203/8204 [============================>.] - ETA: 0s - loss: 3.3517\n",
      "Epoch 32: saving model to cp.ckpt\n",
      "8204/8204 [==============================] - 190s 23ms/step - loss: 3.3517\n",
      "Epoch 33/100\n",
      "8202/8204 [============================>.] - ETA: 0s - loss: 3.3352\n",
      "Epoch 33: saving model to cp.ckpt\n",
      "8204/8204 [==============================] - 192s 23ms/step - loss: 3.3353\n",
      "Epoch 34/100\n",
      "8203/8204 [============================>.] - ETA: 0s - loss: 3.3176\n",
      "Epoch 34: saving model to cp.ckpt\n",
      "8204/8204 [==============================] - 193s 24ms/step - loss: 3.3176\n",
      "Epoch 35/100\n",
      "8204/8204 [==============================] - ETA: 0s - loss: 3.3010\n",
      "Epoch 35: saving model to cp.ckpt\n",
      "8204/8204 [==============================] - 192s 23ms/step - loss: 3.3010\n",
      "Epoch 36/100\n",
      "8202/8204 [============================>.] - ETA: 0s - loss: 3.2838\n",
      "Epoch 36: saving model to cp.ckpt\n",
      "8204/8204 [==============================] - 190s 23ms/step - loss: 3.2838\n",
      "Epoch 37/100\n",
      "8204/8204 [==============================] - ETA: 0s - loss: 3.2645\n",
      "Epoch 37: saving model to cp.ckpt\n",
      "8204/8204 [==============================] - 191s 23ms/step - loss: 3.2645\n",
      "Epoch 38/100\n",
      "8202/8204 [============================>.] - ETA: 0s - loss: 3.2544\n",
      "Epoch 38: saving model to cp.ckpt\n",
      "8204/8204 [==============================] - 194s 24ms/step - loss: 3.2544\n",
      "Epoch 39/100\n",
      "8204/8204 [==============================] - ETA: 0s - loss: 3.2387\n",
      "Epoch 39: saving model to cp.ckpt\n",
      "8204/8204 [==============================] - 196s 24ms/step - loss: 3.2387\n",
      "Epoch 40/100\n",
      "8203/8204 [============================>.] - ETA: 0s - loss: 3.2289\n",
      "Epoch 40: saving model to cp.ckpt\n",
      "8204/8204 [==============================] - 196s 24ms/step - loss: 3.2289\n",
      "Epoch 41/100\n",
      "8204/8204 [==============================] - ETA: 0s - loss: 3.2173\n",
      "Epoch 41: saving model to cp.ckpt\n",
      "8204/8204 [==============================] - 190s 23ms/step - loss: 3.2173\n",
      "Epoch 42/100\n",
      "8204/8204 [==============================] - ETA: 0s - loss: 3.2066\n",
      "Epoch 42: saving model to cp.ckpt\n",
      "8204/8204 [==============================] - 193s 24ms/step - loss: 3.2066\n",
      "Epoch 43/100\n",
      "8203/8204 [============================>.] - ETA: 0s - loss: 3.1960\n",
      "Epoch 43: saving model to cp.ckpt\n",
      "8204/8204 [==============================] - 189s 23ms/step - loss: 3.1960\n",
      "Epoch 44/100\n",
      "8203/8204 [============================>.] - ETA: 0s - loss: 3.1897\n",
      "Epoch 44: saving model to cp.ckpt\n",
      "8204/8204 [==============================] - 186s 23ms/step - loss: 3.1897\n",
      "Epoch 45/100\n",
      "8204/8204 [==============================] - ETA: 0s - loss: 3.1725\n",
      "Epoch 45: saving model to cp.ckpt\n",
      "8204/8204 [==============================] - 186s 23ms/step - loss: 3.1725\n",
      "Epoch 46/100\n",
      "8203/8204 [============================>.] - ETA: 0s - loss: 3.1657\n",
      "Epoch 46: saving model to cp.ckpt\n",
      "8204/8204 [==============================] - 181s 22ms/step - loss: 3.1658\n",
      "Epoch 47/100\n",
      "8202/8204 [============================>.] - ETA: 0s - loss: 3.1600\n",
      "Epoch 47: saving model to cp.ckpt\n",
      "8204/8204 [==============================] - 188s 23ms/step - loss: 3.1600\n",
      "Epoch 48/100\n",
      "8202/8204 [============================>.] - ETA: 0s - loss: 3.1563\n",
      "Epoch 48: saving model to cp.ckpt\n",
      "8204/8204 [==============================] - 186s 23ms/step - loss: 3.1564\n",
      "Epoch 49/100\n",
      "8202/8204 [============================>.] - ETA: 0s - loss: 3.1474\n",
      "Epoch 49: saving model to cp.ckpt\n",
      "8204/8204 [==============================] - 186s 23ms/step - loss: 3.1474\n",
      "Epoch 50/100\n",
      "8203/8204 [============================>.] - ETA: 0s - loss: 3.1404\n",
      "Epoch 50: saving model to cp.ckpt\n",
      "8204/8204 [==============================] - 185s 23ms/step - loss: 3.1404\n",
      "Epoch 51/100\n",
      "8202/8204 [============================>.] - ETA: 0s - loss: 3.1324\n",
      "Epoch 51: saving model to cp.ckpt\n",
      "8204/8204 [==============================] - 184s 22ms/step - loss: 3.1324\n",
      "Epoch 52/100\n",
      "8204/8204 [==============================] - ETA: 0s - loss: 3.1309\n",
      "Epoch 52: saving model to cp.ckpt\n",
      "8204/8204 [==============================] - 186s 23ms/step - loss: 3.1309\n",
      "Epoch 53/100\n",
      "8203/8204 [============================>.] - ETA: 0s - loss: 3.1273\n",
      "Epoch 53: saving model to cp.ckpt\n",
      "8204/8204 [==============================] - 185s 23ms/step - loss: 3.1273\n",
      "Epoch 54/100\n",
      "8204/8204 [==============================] - ETA: 0s - loss: 3.1201\n",
      "Epoch 54: saving model to cp.ckpt\n",
      "8204/8204 [==============================] - 185s 23ms/step - loss: 3.1201\n",
      "Epoch 55/100\n",
      "8204/8204 [==============================] - ETA: 0s - loss: 3.1192\n",
      "Epoch 55: saving model to cp.ckpt\n",
      "8204/8204 [==============================] - 185s 23ms/step - loss: 3.1192\n",
      "Epoch 56/100\n",
      "8202/8204 [============================>.] - ETA: 0s - loss: 3.1144\n",
      "Epoch 56: saving model to cp.ckpt\n",
      "8204/8204 [==============================] - 181s 22ms/step - loss: 3.1145\n",
      "Epoch 57/100\n",
      "8203/8204 [============================>.] - ETA: 0s - loss: 3.1090\n",
      "Epoch 57: saving model to cp.ckpt\n",
      "8204/8204 [==============================] - 185s 23ms/step - loss: 3.1090\n",
      "Epoch 58/100\n",
      "8204/8204 [==============================] - ETA: 0s - loss: 3.1022\n",
      "Epoch 58: saving model to cp.ckpt\n",
      "8204/8204 [==============================] - 185s 23ms/step - loss: 3.1022\n",
      "Epoch 59/100\n",
      "8204/8204 [==============================] - ETA: 0s - loss: 3.1034\n",
      "Epoch 59: saving model to cp.ckpt\n",
      "8204/8204 [==============================] - 185s 23ms/step - loss: 3.1034\n",
      "Epoch 60/100\n",
      "8202/8204 [============================>.] - ETA: 0s - loss: 3.0980\n",
      "Epoch 60: saving model to cp.ckpt\n",
      "8204/8204 [==============================] - 187s 23ms/step - loss: 3.0982\n",
      "Epoch 61/100\n",
      "8204/8204 [==============================] - ETA: 0s - loss: 3.0947\n",
      "Epoch 61: saving model to cp.ckpt\n",
      "8204/8204 [==============================] - 185s 22ms/step - loss: 3.0947\n",
      "Epoch 62/100\n",
      "8202/8204 [============================>.] - ETA: 0s - loss: 3.0920\n",
      "Epoch 62: saving model to cp.ckpt\n",
      "8204/8204 [==============================] - 186s 23ms/step - loss: 3.0921\n",
      "Epoch 63/100\n",
      "8202/8204 [============================>.] - ETA: 0s - loss: 3.0877\n",
      "Epoch 63: saving model to cp.ckpt\n",
      "8204/8204 [==============================] - 187s 23ms/step - loss: 3.0879\n",
      "Epoch 64/100\n",
      "8203/8204 [============================>.] - ETA: 0s - loss: 3.0884\n",
      "Epoch 64: saving model to cp.ckpt\n",
      "8204/8204 [==============================] - 187s 23ms/step - loss: 3.0884\n",
      "Epoch 65/100\n",
      "8202/8204 [============================>.] - ETA: 0s - loss: 3.0813\n",
      "Epoch 65: saving model to cp.ckpt\n",
      "8204/8204 [==============================] - 187s 23ms/step - loss: 3.0813\n",
      "Epoch 66/100\n",
      "8204/8204 [==============================] - ETA: 0s - loss: 3.0837\n",
      "Epoch 66: saving model to cp.ckpt\n",
      "8204/8204 [==============================] - 185s 23ms/step - loss: 3.0837\n",
      "Epoch 67/100\n",
      "8202/8204 [============================>.] - ETA: 0s - loss: 3.0767\n",
      "Epoch 67: saving model to cp.ckpt\n",
      "8204/8204 [==============================] - 184s 22ms/step - loss: 3.0768\n",
      "Epoch 68/100\n",
      "8204/8204 [==============================] - ETA: 0s - loss: 3.0752\n",
      "Epoch 68: saving model to cp.ckpt\n",
      "8204/8204 [==============================] - 188s 23ms/step - loss: 3.0752\n",
      "Epoch 69/100\n",
      "8203/8204 [============================>.] - ETA: 0s - loss: 3.0711\n",
      "Epoch 69: saving model to cp.ckpt\n",
      "8204/8204 [==============================] - 189s 23ms/step - loss: 3.0711\n",
      "Epoch 70/100\n",
      "8204/8204 [==============================] - ETA: 0s - loss: 3.0690\n",
      "Epoch 70: saving model to cp.ckpt\n",
      "8204/8204 [==============================] - 190s 23ms/step - loss: 3.0690\n",
      "Epoch 71/100\n",
      "8203/8204 [============================>.] - ETA: 0s - loss: 3.0623\n",
      "Epoch 71: saving model to cp.ckpt\n",
      "8204/8204 [==============================] - 188s 23ms/step - loss: 3.0624\n",
      "Epoch 72/100\n",
      "8202/8204 [============================>.] - ETA: 0s - loss: 3.0615\n",
      "Epoch 72: saving model to cp.ckpt\n",
      "8204/8204 [==============================] - 186s 23ms/step - loss: 3.0615\n",
      "Epoch 73/100\n",
      "8202/8204 [============================>.] - ETA: 0s - loss: 3.0616\n",
      "Epoch 73: saving model to cp.ckpt\n",
      "8204/8204 [==============================] - 189s 23ms/step - loss: 3.0616\n",
      "Epoch 74/100\n",
      "8203/8204 [============================>.] - ETA: 0s - loss: 3.0616\n",
      "Epoch 74: saving model to cp.ckpt\n",
      "8204/8204 [==============================] - 190s 23ms/step - loss: 3.0616\n",
      "Epoch 75/100\n",
      "8202/8204 [============================>.] - ETA: 0s - loss: 3.0576\n",
      "Epoch 75: saving model to cp.ckpt\n",
      "8204/8204 [==============================] - 191s 23ms/step - loss: 3.0577\n",
      "Epoch 76/100\n",
      "8204/8204 [==============================] - ETA: 0s - loss: 3.0538\n",
      "Epoch 76: saving model to cp.ckpt\n",
      "8204/8204 [==============================] - 189s 23ms/step - loss: 3.0538\n",
      "Epoch 77/100\n",
      "8202/8204 [============================>.] - ETA: 0s - loss: 3.0493\n",
      "Epoch 77: saving model to cp.ckpt\n",
      "8204/8204 [==============================] - 188s 23ms/step - loss: 3.0493\n",
      "Epoch 78/100\n",
      "8204/8204 [==============================] - ETA: 0s - loss: 3.0494\n",
      "Epoch 78: saving model to cp.ckpt\n",
      "8204/8204 [==============================] - 192s 23ms/step - loss: 3.0494\n",
      "Epoch 79/100\n",
      "8204/8204 [==============================] - ETA: 0s - loss: 3.0533\n",
      "Epoch 79: saving model to cp.ckpt\n",
      "8204/8204 [==============================] - 191s 23ms/step - loss: 3.0533\n",
      "Epoch 80/100\n",
      "8204/8204 [==============================] - ETA: 0s - loss: 3.0462\n",
      "Epoch 80: saving model to cp.ckpt\n",
      "8204/8204 [==============================] - 193s 23ms/step - loss: 3.0462\n",
      "Epoch 81/100\n",
      "8202/8204 [============================>.] - ETA: 0s - loss: 3.0442\n",
      "Epoch 81: saving model to cp.ckpt\n",
      "8204/8204 [==============================] - 191s 23ms/step - loss: 3.0443\n",
      "Epoch 82/100\n",
      "8204/8204 [==============================] - ETA: 0s - loss: 3.0398\n",
      "Epoch 82: saving model to cp.ckpt\n",
      "8204/8204 [==============================] - 190s 23ms/step - loss: 3.0398\n",
      "Epoch 83/100\n",
      "8204/8204 [==============================] - ETA: 0s - loss: 3.0362\n",
      "Epoch 83: saving model to cp.ckpt\n",
      "8204/8204 [==============================] - 195s 24ms/step - loss: 3.0362\n",
      "Epoch 84/100\n",
      "8204/8204 [==============================] - ETA: 0s - loss: 3.0407\n",
      "Epoch 84: saving model to cp.ckpt\n",
      "8204/8204 [==============================] - 195s 24ms/step - loss: 3.0407\n",
      "Epoch 85/100\n",
      "8202/8204 [============================>.] - ETA: 0s - loss: 3.0345\n",
      "Epoch 85: saving model to cp.ckpt\n",
      "8204/8204 [==============================] - 195s 24ms/step - loss: 3.0344\n",
      "Epoch 86/100\n",
      "8202/8204 [============================>.] - ETA: 0s - loss: 3.0359\n",
      "Epoch 86: saving model to cp.ckpt\n",
      "8204/8204 [==============================] - 190s 23ms/step - loss: 3.0359\n",
      "Epoch 87/100\n"
     ]
    },
    {
     "name": "stdout",
     "output_type": "stream",
     "text": [
      "8204/8204 [==============================] - ETA: 0s - loss: 3.0316\n",
      "Epoch 87: saving model to cp.ckpt\n",
      "8204/8204 [==============================] - 193s 24ms/step - loss: 3.0316\n",
      "Epoch 88/100\n",
      "8202/8204 [============================>.] - ETA: 0s - loss: 3.0295\n",
      "Epoch 88: saving model to cp.ckpt\n",
      "8204/8204 [==============================] - 196s 24ms/step - loss: 3.0295\n",
      "Epoch 89/100\n",
      "8204/8204 [==============================] - ETA: 0s - loss: 3.0294\n",
      "Epoch 89: saving model to cp.ckpt\n",
      "8204/8204 [==============================] - 196s 24ms/step - loss: 3.0294\n",
      "Epoch 90/100\n",
      "8204/8204 [==============================] - ETA: 0s - loss: 3.0281\n",
      "Epoch 90: saving model to cp.ckpt\n",
      "8204/8204 [==============================] - 196s 24ms/step - loss: 3.0281\n",
      "Epoch 91/100\n",
      "8204/8204 [==============================] - ETA: 0s - loss: 3.0239\n",
      "Epoch 91: saving model to cp.ckpt\n",
      "8204/8204 [==============================] - 194s 24ms/step - loss: 3.0239\n",
      "Epoch 92/100\n",
      "8203/8204 [============================>.] - ETA: 0s - loss: 3.0229\n",
      "Epoch 92: saving model to cp.ckpt\n",
      "8204/8204 [==============================] - 198s 24ms/step - loss: 3.0229\n",
      "Epoch 93/100\n",
      "8203/8204 [============================>.] - ETA: 0s - loss: 3.0208\n",
      "Epoch 93: saving model to cp.ckpt\n",
      "8204/8204 [==============================] - 199s 24ms/step - loss: 3.0208\n",
      "Epoch 94/100\n",
      "8204/8204 [==============================] - ETA: 0s - loss: 3.0161\n",
      "Epoch 94: saving model to cp.ckpt\n",
      "8204/8204 [==============================] - 197s 24ms/step - loss: 3.0161\n",
      "Epoch 95/100\n",
      "8204/8204 [==============================] - ETA: 0s - loss: 3.0152\n",
      "Epoch 95: saving model to cp.ckpt\n",
      "8204/8204 [==============================] - 198s 24ms/step - loss: 3.0152\n",
      "Epoch 96/100\n",
      "8202/8204 [============================>.] - ETA: 0s - loss: 3.0120\n",
      "Epoch 96: saving model to cp.ckpt\n",
      "8204/8204 [==============================] - 195s 24ms/step - loss: 3.0121\n",
      "Epoch 97/100\n",
      "8204/8204 [==============================] - ETA: 0s - loss: 3.0137\n",
      "Epoch 97: saving model to cp.ckpt\n",
      "8204/8204 [==============================] - 199s 24ms/step - loss: 3.0137\n",
      "Epoch 98/100\n",
      "8204/8204 [==============================] - ETA: 0s - loss: 3.0154\n",
      "Epoch 98: saving model to cp.ckpt\n",
      "8204/8204 [==============================] - 198s 24ms/step - loss: 3.0154\n",
      "Epoch 99/100\n",
      "8204/8204 [==============================] - ETA: 0s - loss: 3.0118\n",
      "Epoch 99: saving model to cp.ckpt\n",
      "8204/8204 [==============================] - 200s 24ms/step - loss: 3.0118\n",
      "Epoch 100/100\n",
      "8203/8204 [============================>.] - ETA: 0s - loss: 3.0125\n",
      "Epoch 100: saving model to cp.ckpt\n",
      "8204/8204 [==============================] - 198s 24ms/step - loss: 3.0126\n"
     ]
    },
    {
     "data": {
      "text/plain": [
       "<keras.callbacks.History at 0x14ef896d6d0>"
      ]
     },
     "execution_count": 11,
     "metadata": {},
     "output_type": "execute_result"
    }
   ],
   "source": [
    "def create_model(max_sequence_len, total_words):\n",
    "  input_len = max_sequence_len - 1\n",
    "  model = Sequential()\n",
    " \n",
    "  # Add Input Embedding Layer\n",
    "  model.add(Embedding(total_words, 10, input_length=input_len))\n",
    " \n",
    "  # Add Hidden Layer 1 — LSTM Layer\n",
    "  model.add(LSTM(100))\n",
    "  model.add(Dropout(0.1))\n",
    " \n",
    "  # Add Output Layer\n",
    "  model.add(Dense(total_words, activation='softmax'))\n",
    "  model.compile(loss='categorical_crossentropy', optimizer='adam')\n",
    " \n",
    "  return model\n",
    "model = create_model(max_sequence_len, total_words)\n",
    "\n",
    "checkpoint_path = \"cp.ckpt\"\n",
    "checkpoint_dir = os.path.dirname(checkpoint_path)\n",
    "\n",
    "# Create a callback that saves the model's weights\n",
    "cp_callback = tf.keras.callbacks.ModelCheckpoint(filepath=checkpoint_path,\n",
    "                                                 save_weights_only=True,\n",
    "                                                 verbose=1)\n",
    "\n",
    "model.fit(predictors, label, epochs=100, verbose=1,callbacks=[cp_callback])"
   ]
  },
  {
   "cell_type": "code",
   "execution_count": 12,
   "id": "c0448da2",
   "metadata": {
    "gather": {
     "logged": 1657973342188
    },
    "id": "c0448da2"
   },
   "outputs": [],
   "source": [
    "def generate_text(seed_text, next_words, model, max_sequence_len):\n",
    "    for _ in range(next_words):\n",
    "        token_list = tokenizer.texts_to_sequences([seed_text])[0]\n",
    "        token_list = pad_sequences([token_list], maxlen=max_sequence_len-1,  padding='pre')\n",
    "        predict_x = model.predict(token_list, verbose=0)\n",
    "        predicted = np.argmax(predict_x,axis=1)\n",
    "\n",
    "        output_word = \"\"\n",
    "        for word,index in tokenizer.word_index.items():\n",
    "            if index == predicted:\n",
    "                output_word = word\n",
    "                break\n",
    "        seed_text += \" \"+output_word\n",
    "    return seed_text.title()"
   ]
  },
  {
   "cell_type": "code",
   "execution_count": 13,
   "id": "93958e7b",
   "metadata": {},
   "outputs": [],
   "source": [
    "model.save('backup_model.h5')"
   ]
  },
  {
   "cell_type": "code",
   "execution_count": 14,
   "id": "45a193f2",
   "metadata": {
    "id": "45a193f2"
   },
   "outputs": [
    {
     "data": {
      "text/plain": [
       "'2.9.1'"
      ]
     },
     "execution_count": 14,
     "metadata": {},
     "output_type": "execute_result"
    }
   ],
   "source": [
    "tf.__version__"
   ]
  },
  {
   "cell_type": "code",
   "execution_count": 15,
   "id": "5129ae07",
   "metadata": {
    "gather": {
     "logged": 1657973342205
    },
    "id": "5129ae07"
   },
   "outputs": [
    {
     "name": "stdout",
     "output_type": "stream",
     "text": [
      "Spiderman No Way Home Official Trailer\n"
     ]
    }
   ],
   "source": [
    "print(generate_text(\"spiderman\", 5, model, max_sequence_len))"
   ]
  },
  {
   "cell_type": "code",
   "execution_count": 21,
   "id": "18233e83",
   "metadata": {
    "id": "18233e83"
   },
   "outputs": [
    {
     "name": "stdout",
     "output_type": "stream",
     "text": [
      "Superman Meets Water Top 7 Best\n"
     ]
    }
   ],
   "source": [
    "print(generate_text(\"superman\", 5, model, max_sequence_len))"
   ]
  },
  {
   "cell_type": "code",
   "execution_count": 17,
   "id": "bc68a3ae",
   "metadata": {
    "id": "bc68a3ae"
   },
   "outputs": [
    {
     "name": "stdout",
     "output_type": "stream",
     "text": [
      " Diaries Episode 1 The Slow\n"
     ]
    }
   ],
   "source": [
    "print(generate_text(\"\", 5, model, max_sequence_len))"
   ]
  },
  {
   "cell_type": "code",
   "execution_count": 18,
   "id": "728220d0",
   "metadata": {
    "id": "728220d0"
   },
   "outputs": [
    {
     "data": {
      "text/plain": [
       "(112370, 15)"
      ]
     },
     "execution_count": 18,
     "metadata": {},
     "output_type": "execute_result"
    }
   ],
   "source": [
    "df.shape"
   ]
  },
  {
   "cell_type": "code",
   "execution_count": 22,
   "id": "8b85e5bc",
   "metadata": {},
   "outputs": [
    {
     "name": "stdout",
     "output_type": "stream",
     "text": [
      "Johnny Depp Talks To Kanye West\n"
     ]
    }
   ],
   "source": [
    "print(generate_text(\"Johnny\", 5, model, max_sequence_len))"
   ]
  },
  {
   "cell_type": "code",
   "execution_count": 26,
   "id": "f81f74b1",
   "metadata": {},
   "outputs": [
    {
     "name": "stdout",
     "output_type": "stream",
     "text": [
      "Will Smith On The Internet\n"
     ]
    }
   ],
   "source": [
    "print(generate_text(\"Will\", 4, model, max_sequence_len))"
   ]
  },
  {
   "cell_type": "code",
   "execution_count": 27,
   "id": "f1b3a3ea",
   "metadata": {},
   "outputs": [
    {
     "name": "stdout",
     "output_type": "stream",
     "text": [
      "Slapped Diaries Episode 1 The Slow\n"
     ]
    }
   ],
   "source": [
    "print(generate_text(\"slapped\", 5, model, max_sequence_len))"
   ]
  },
  {
   "cell_type": "code",
   "execution_count": 28,
   "id": "fefaa833",
   "metadata": {},
   "outputs": [
    {
     "name": "stdout",
     "output_type": "stream",
     "text": [
      "27\n"
     ]
    }
   ],
   "source": [
    "print(max_sequence_len)"
   ]
  },
  {
   "cell_type": "code",
   "execution_count": 29,
   "id": "fc30c060",
   "metadata": {},
   "outputs": [
    {
     "name": "stdout",
     "output_type": "stream",
     "text": [
      "Pikachu Jam On Trump Jones Gq\n"
     ]
    }
   ],
   "source": [
    "print(generate_text(\"Pikachu\", 5, model, max_sequence_len))"
   ]
  },
  {
   "cell_type": "code",
   "execution_count": 30,
   "id": "01e1da94",
   "metadata": {},
   "outputs": [
    {
     "name": "stdout",
     "output_type": "stream",
     "text": [
      "Pika Diaries Episode 1 The Slow\n"
     ]
    }
   ],
   "source": [
    "print(generate_text(\"pika\", 5, model, max_sequence_len))"
   ]
  },
  {
   "cell_type": "code",
   "execution_count": 31,
   "id": "05468bb2",
   "metadata": {},
   "outputs": [
    {
     "name": "stdout",
     "output_type": "stream",
     "text": [
      "Ryan Reynolds Doesnt Know Anything About\n"
     ]
    }
   ],
   "source": [
    "print(generate_text(\"Ryan\", 5, model, max_sequence_len))"
   ]
  },
  {
   "cell_type": "code",
   "execution_count": 32,
   "id": "a62625a1",
   "metadata": {},
   "outputs": [
    {
     "name": "stdout",
     "output_type": "stream",
     "text": [
      "Amber Rock For The First Time\n"
     ]
    }
   ],
   "source": [
    "print(generate_text(\"Amber\", 5, model, max_sequence_len))"
   ]
  },
  {
   "cell_type": "code",
   "execution_count": 33,
   "id": "7567b320",
   "metadata": {},
   "outputs": [
    {
     "name": "stdout",
     "output_type": "stream",
     "text": [
      "Tom Holland Zendaya Jacob Batalon And\n"
     ]
    }
   ],
   "source": [
    "print(generate_text(\"Tom\", 5, model, max_sequence_len))"
   ]
  },
  {
   "cell_type": "code",
   "execution_count": 34,
   "id": "ca274561",
   "metadata": {},
   "outputs": [
    {
     "name": "stdout",
     "output_type": "stream",
     "text": [
      "Zendaya Is A Good Face In\n"
     ]
    }
   ],
   "source": [
    "print(generate_text(\"Zendaya\", 5, model, max_sequence_len))"
   ]
  },
  {
   "cell_type": "code",
   "execution_count": 35,
   "id": "d28225ec",
   "metadata": {},
   "outputs": [
    {
     "name": "stdout",
     "output_type": "stream",
     "text": [
      "Marvel Studios Avengers Infinity War Trailer\n"
     ]
    }
   ],
   "source": [
    "print(generate_text(\"Marvel\", 5, model, max_sequence_len))"
   ]
  },
  {
   "cell_type": "code",
   "execution_count": 36,
   "id": "371cfd4c",
   "metadata": {},
   "outputs": [
    {
     "name": "stdout",
     "output_type": "stream",
     "text": [
      "Robert A Big Boy The Worst\n"
     ]
    }
   ],
   "source": [
    "print(generate_text(\"Robert\", 5, model, max_sequence_len))"
   ]
  },
  {
   "cell_type": "code",
   "execution_count": 37,
   "id": "e1fb4b7a",
   "metadata": {},
   "outputs": [
    {
     "name": "stdout",
     "output_type": "stream",
     "text": [
      "Battle Of Van First Impressions Friendship\n"
     ]
    }
   ],
   "source": [
    "print(generate_text(\"Battle\", 5, model, max_sequence_len))"
   ]
  },
  {
   "cell_type": "code",
   "execution_count": 38,
   "id": "d22cd7fe",
   "metadata": {},
   "outputs": [
    {
     "name": "stdout",
     "output_type": "stream",
     "text": [
      "Friends With Benefits Episode 2 Telugu\n"
     ]
    }
   ],
   "source": [
    "print(generate_text(\"Friends\", 5, model, max_sequence_len))"
   ]
  },
  {
   "cell_type": "code",
   "execution_count": null,
   "id": "5c33b437",
   "metadata": {},
   "outputs": [],
   "source": []
  }
 ],
 "metadata": {
  "accelerator": "GPU",
  "colab": {
   "collapsed_sections": [],
   "name": "Title_Generator_working_final.ipynb",
   "provenance": []
  },
  "gpuClass": "standard",
  "kernel_info": {
   "name": "python3"
  },
  "kernelspec": {
   "display_name": "Python 3 (ipykernel)",
   "language": "python",
   "name": "python3"
  },
  "language_info": {
   "codemirror_mode": {
    "name": "ipython",
    "version": 3
   },
   "file_extension": ".py",
   "mimetype": "text/x-python",
   "name": "python",
   "nbconvert_exporter": "python",
   "pygments_lexer": "ipython3",
   "version": "3.9.9"
  },
  "microsoft": {
   "host": {
    "AzureML": {
     "notebookHasBeenCompleted": true
    }
   }
  },
  "nteract": {
   "version": "nteract-front-end@1.0.0"
  },
  "vscode": {
   "interpreter": {
    "hash": "58fd46123afbb8e09dd8848284f6fb137e9823f0fb6664d4fe8484cf7524d59a"
   }
  }
 },
 "nbformat": 4,
 "nbformat_minor": 5
}
