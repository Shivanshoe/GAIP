{
  "nbformat": 4,
  "nbformat_minor": 0,
  "metadata": {
    "colab": {
      "name": "COE FOR COMPILATION.ipynb",
      "provenance": []
    },
    "kernelspec": {
      "name": "python3",
      "display_name": "Python 3"
    },
    "language_info": {
      "name": "python"
    }
  },
  "cells": [
    {
      "cell_type": "code",
      "execution_count": 1,
      "metadata": {
        "id": "cnAUbIFp7hF1"
      },
      "outputs": [],
      "source": [
        "import os\n",
        "import pandas as pd"
      ]
    },
    {
      "cell_type": "code",
      "source": [
        "path = os.getcwd()\n",
        "files = os.listdir(path)\n",
        "files"
      ],
      "metadata": {
        "colab": {
          "base_uri": "https://localhost:8080/"
        },
        "id": "oCdc4Qt78j5v",
        "outputId": "e6d8dfae-5219-4d33-d0d9-e5f3a4f11681"
      },
      "execution_count": 2,
      "outputs": [
        {
          "output_type": "execute_result",
          "data": {
            "text/plain": [
              "['.config',\n",
              " 'All_Video_Details_Optimum Tech.csv',\n",
              " 'All_Video_Details_Mrwhosetheboss.csv',\n",
              " 'All_Video_Details_Tech YES City.csv',\n",
              " 'All_Video_Details_Tech Ingredients.csv',\n",
              " 'All_Video_Details_Beebom.csv',\n",
              " 'All_Video_Details_Dave2D.csv',\n",
              " 'All_Video_Details_The Tech Chap.csv',\n",
              " 'All_Video_Details_Sam Beckman.csv',\n",
              " 'All_Video_Details_Quantum Tech HD.csv',\n",
              " 'All_Video_Details_Beyond Science.csv',\n",
              " 'All_Video_Details_Tech With Tim.csv',\n",
              " 'All_Video_Details_Science Insider.csv',\n",
              " 'All_Video_Details_Tech Guide.csv',\n",
              " 'All_Video_Details_SmarterEveryDay.csv',\n",
              " 'All_Video_Details_Kurzgesagt – In a Nutshell.csv',\n",
              " 'sample_data']"
            ]
          },
          "metadata": {},
          "execution_count": 2
        }
      ]
    },
    {
      "cell_type": "code",
      "source": [
        "files_csv = [f for f in files if f[-3:] == 'csv']\n",
        "files_csv"
      ],
      "metadata": {
        "colab": {
          "base_uri": "https://localhost:8080/"
        },
        "id": "b5W9mSA58mpv",
        "outputId": "ca542ee4-da1d-48af-a7e7-6397a9153d31"
      },
      "execution_count": 3,
      "outputs": [
        {
          "output_type": "execute_result",
          "data": {
            "text/plain": [
              "['All_Video_Details_Optimum Tech.csv',\n",
              " 'All_Video_Details_Mrwhosetheboss.csv',\n",
              " 'All_Video_Details_Tech YES City.csv',\n",
              " 'All_Video_Details_Tech Ingredients.csv',\n",
              " 'All_Video_Details_Beebom.csv',\n",
              " 'All_Video_Details_Dave2D.csv',\n",
              " 'All_Video_Details_The Tech Chap.csv',\n",
              " 'All_Video_Details_Sam Beckman.csv',\n",
              " 'All_Video_Details_Quantum Tech HD.csv',\n",
              " 'All_Video_Details_Beyond Science.csv',\n",
              " 'All_Video_Details_Tech With Tim.csv',\n",
              " 'All_Video_Details_Science Insider.csv',\n",
              " 'All_Video_Details_Tech Guide.csv',\n",
              " 'All_Video_Details_SmarterEveryDay.csv',\n",
              " 'All_Video_Details_Kurzgesagt – In a Nutshell.csv']"
            ]
          },
          "metadata": {},
          "execution_count": 3
        }
      ]
    },
    {
      "cell_type": "code",
      "source": [
        "df = pd.DataFrame()\n",
        "for f in files_csv:\n",
        "    data = pd.read_csv(f)\n",
        "    df = df.append(data, ignore_index = True)"
      ],
      "metadata": {
        "id": "zPr2uKVk8pEZ"
      },
      "execution_count": 4,
      "outputs": []
    },
    {
      "cell_type": "code",
      "source": [
        "df = df.drop(columns = ['Unnamed: 0'] )"
      ],
      "metadata": {
        "id": "KUpCQn2o8u9E"
      },
      "execution_count": 5,
      "outputs": []
    },
    {
      "cell_type": "code",
      "source": [
        "df.to_csv('all_technsci_videos.csv')"
      ],
      "metadata": {
        "id": "nroO6Lz_8y6K"
      },
      "execution_count": 7,
      "outputs": []
    },
    {
      "cell_type": "code",
      "source": [
        ""
      ],
      "metadata": {
        "id": "1FZrSLm3H40M"
      },
      "execution_count": null,
      "outputs": []
    }
  ]
}