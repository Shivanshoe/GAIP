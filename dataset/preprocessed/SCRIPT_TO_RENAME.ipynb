{
 "cells": [
  {
   "cell_type": "code",
   "execution_count": 1,
   "id": "b0cf9b08",
   "metadata": {},
   "outputs": [],
   "source": [
    "import glob, os\n",
    "\n",
    "def rename(dir, pattern, titlePattern):\n",
    "    for pathAndFilename in glob.iglob(os.path.join(dir, pattern)):\n",
    "        title, ext = os.path.splitext(os.path.basename(pathAndFilename))\n",
    "        os.rename(pathAndFilename, \n",
    "                  os.path.join(dir, titlePattern % title + ext))"
   ]
  },
  {
   "cell_type": "code",
   "execution_count": 2,
   "id": "98ee91d8",
   "metadata": {},
   "outputs": [],
   "source": [
    "rename(r\"C:\\Users\\shiva\\Downloads\\GAIP-main\\GAIP-main\\dataset\\scraped\\gaming\\Madd Trevor\", r'*.txt', r'1_%s')"
   ]
  },
  {
   "cell_type": "code",
   "execution_count": 3,
   "id": "20ae6ae1",
   "metadata": {},
   "outputs": [],
   "source": [
    "rename(r\"C:\\Users\\shiva\\Downloads\\GAIP-main\\GAIP-main\\dataset\\scraped\\gaming\\Madd Trevor\", r'*.jpg', r'1_%s')"
   ]
  },
  {
   "cell_type": "code",
   "execution_count": 4,
   "id": "1d402007",
   "metadata": {},
   "outputs": [],
   "source": [
    "rename(r\"C:\\Users\\shiva\\Downloads\\GAIP-main\\GAIP-main\\dataset\\scraped\\gaming\\MKIceAndFire\", r'*.txt', r'2_%s')"
   ]
  },
  {
   "cell_type": "code",
   "execution_count": 5,
   "id": "fe8dc890",
   "metadata": {},
   "outputs": [],
   "source": [
    "rename(r\"C:\\Users\\shiva\\Downloads\\GAIP-main\\GAIP-main\\dataset\\scraped\\gaming\\MKIceAndFire\", r'*.jpg', r'2_%s')"
   ]
  },
  {
   "cell_type": "code",
   "execution_count": 6,
   "id": "c8a4b207",
   "metadata": {},
   "outputs": [],
   "source": [
    "rename(r\"C:\\Users\\shiva\\Downloads\\GAIP-main\\GAIP-main\\dataset\\scraped\\gaming\\Top Apex Plays\", r'*.txt', r'3_%s')"
   ]
  },
  {
   "cell_type": "code",
   "execution_count": 7,
   "id": "cb08c8ed",
   "metadata": {},
   "outputs": [],
   "source": [
    "rename(r\"C:\\Users\\shiva\\Downloads\\GAIP-main\\GAIP-main\\dataset\\scraped\\gaming\\Top Apex Plays\", r'*.jpg', r'3_%s')"
   ]
  },
  {
   "cell_type": "code",
   "execution_count": 8,
   "id": "25e4f989",
   "metadata": {},
   "outputs": [],
   "source": [
    "rename(r\"C:\\Users\\shiva\\Downloads\\GAIP-main\\GAIP-main\\dataset\\scraped\\gaming\\Aculite\", r'*.txt', r'4_%s')"
   ]
  },
  {
   "cell_type": "code",
   "execution_count": 9,
   "id": "16d69a02",
   "metadata": {},
   "outputs": [],
   "source": [
    "rename(r\"C:\\Users\\shiva\\Downloads\\GAIP-main\\GAIP-main\\dataset\\scraped\\gaming\\Aculite\", r'*.jpg', r'4_%s')"
   ]
  },
  {
   "cell_type": "code",
   "execution_count": 10,
   "id": "fde2118f",
   "metadata": {},
   "outputs": [],
   "source": [
    "rename(r\"C:\\Users\\shiva\\Downloads\\GAIP-main\\GAIP-main\\dataset\\scraped\\gaming\\Xpertgamingtech\", r'*.txt', r'5_%s')"
   ]
  },
  {
   "cell_type": "code",
   "execution_count": 11,
   "id": "c22868b3",
   "metadata": {},
   "outputs": [],
   "source": [
    "rename(r\"C:\\Users\\shiva\\Downloads\\GAIP-main\\GAIP-main\\dataset\\scraped\\gaming\\Xpertgamingtech\", r'*.jpg', r'5_%s')"
   ]
  },
  {
   "cell_type": "code",
   "execution_count": 12,
   "id": "252c8e61",
   "metadata": {},
   "outputs": [],
   "source": [
    "rename(r\"C:\\Users\\shiva\\Downloads\\GAIP-main\\GAIP-main\\dataset\\scraped\\gaming\\GameTunes\", r'*.txt', r'6_%s')"
   ]
  },
  {
   "cell_type": "code",
   "execution_count": 13,
   "id": "b5dae99d",
   "metadata": {},
   "outputs": [],
   "source": [
    "rename(r\"C:\\Users\\shiva\\Downloads\\GAIP-main\\GAIP-main\\dataset\\scraped\\gaming\\GameTunes\", r'*.jpg', r'6_%s')"
   ]
  },
  {
   "cell_type": "code",
   "execution_count": 14,
   "id": "0a49f96b",
   "metadata": {},
   "outputs": [],
   "source": [
    "rename(r\"C:\\Users\\shiva\\Downloads\\GAIP-main\\GAIP-main\\dataset\\scraped\\gaming\\Nick930\", r'*.txt', r'7_%s')"
   ]
  },
  {
   "cell_type": "code",
   "execution_count": 15,
   "id": "1501b12a",
   "metadata": {},
   "outputs": [],
   "source": [
    "rename(r\"C:\\Users\\shiva\\Downloads\\GAIP-main\\GAIP-main\\dataset\\scraped\\gaming\\Nick930\", r'*.jpg', r'7_%s')"
   ]
  },
  {
   "cell_type": "code",
   "execution_count": 16,
   "id": "b82ad545",
   "metadata": {},
   "outputs": [],
   "source": [
    "rename(r\"C:\\Users\\shiva\\Downloads\\GAIP-main\\GAIP-main\\dataset\\scraped\\gaming\\hanedafz\", r'*.txt', r'8_%s')"
   ]
  },
  {
   "cell_type": "code",
   "execution_count": 17,
   "id": "af8d8c99",
   "metadata": {},
   "outputs": [],
   "source": [
    "rename(r\"C:\\Users\\shiva\\Downloads\\GAIP-main\\GAIP-main\\dataset\\scraped\\gaming\\hanedafz\", r'*.jpg', r'8_%s')"
   ]
  },
  {
   "cell_type": "code",
   "execution_count": 18,
   "id": "b1a48650",
   "metadata": {},
   "outputs": [],
   "source": [
    "rename(r\"C:\\Users\\shiva\\Downloads\\GAIP-main\\GAIP-main\\dataset\\scraped\\gaming\\Modest Pelican\", r'*.txt', r'9_%s')"
   ]
  },
  {
   "cell_type": "code",
   "execution_count": 19,
   "id": "8a3841d0",
   "metadata": {},
   "outputs": [],
   "source": [
    "rename(r\"C:\\Users\\shiva\\Downloads\\GAIP-main\\GAIP-main\\dataset\\scraped\\gaming\\Modest Pelican\", r'*.jpg', r'9_%s')"
   ]
  },
  {
   "cell_type": "code",
   "execution_count": 20,
   "id": "9b287622",
   "metadata": {},
   "outputs": [],
   "source": [
    "rename(r\"C:\\Users\\shiva\\Downloads\\GAIP-main\\GAIP-main\\dataset\\scraped\\gaming\\Mr. Fruit\", r'*.txt', r'10_%s')"
   ]
  },
  {
   "cell_type": "code",
   "execution_count": 21,
   "id": "12024266",
   "metadata": {},
   "outputs": [],
   "source": [
    "rename(r\"C:\\Users\\shiva\\Downloads\\GAIP-main\\GAIP-main\\dataset\\scraped\\gaming\\Mr. Fruit\", r'*.jpg', r'10_%s')"
   ]
  },
  {
   "cell_type": "code",
   "execution_count": 22,
   "id": "62c68e68",
   "metadata": {},
   "outputs": [],
   "source": [
    "rename(r\"C:\\Users\\shiva\\Downloads\\GAIP-main\\GAIP-main\\dataset\\scraped\\gaming\\GTA Workshop\", r'*.txt', r'11_%s')"
   ]
  },
  {
   "cell_type": "code",
   "execution_count": 23,
   "id": "2b6deae9",
   "metadata": {},
   "outputs": [],
   "source": [
    "rename(r\"C:\\Users\\shiva\\Downloads\\GAIP-main\\GAIP-main\\dataset\\scraped\\gaming\\GTA Workshop\", r'*.jpg', r'11_%s')"
   ]
  },
  {
   "cell_type": "code",
   "execution_count": 24,
   "id": "848a1ce1",
   "metadata": {},
   "outputs": [],
   "source": [
    "rename(r\"C:\\Users\\shiva\\Downloads\\GAIP-main\\GAIP-main\\dataset\\scraped\\gaming\\Android Rakun\", r'*.txt', r'12_%s')"
   ]
  },
  {
   "cell_type": "code",
   "execution_count": 25,
   "id": "a30b6044",
   "metadata": {},
   "outputs": [],
   "source": [
    "rename(r\"C:\\Users\\shiva\\Downloads\\GAIP-main\\GAIP-main\\dataset\\scraped\\gaming\\Android Rakun\", r'*.jpg', r'12_%s')"
   ]
  },
  {
   "cell_type": "code",
   "execution_count": 26,
   "id": "4fc56840",
   "metadata": {},
   "outputs": [],
   "source": [
    "rename(r\"C:\\Users\\shiva\\Downloads\\GAIP-main\\GAIP-main\\dataset\\scraped\\gaming\\GameToons Gaming\", r'*.txt', r'13_%s')"
   ]
  },
  {
   "cell_type": "code",
   "execution_count": 27,
   "id": "bb4c2b55",
   "metadata": {},
   "outputs": [],
   "source": [
    "rename(r\"C:\\Users\\shiva\\Downloads\\GAIP-main\\GAIP-main\\dataset\\scraped\\gaming\\GameToons Gaming\", r'*.jpg', r'13_%s')"
   ]
  },
  {
   "cell_type": "code",
   "execution_count": 28,
   "id": "49d0c979",
   "metadata": {},
   "outputs": [],
   "source": [
    "rename(r\"C:\\Users\\shiva\\Downloads\\GAIP-main\\GAIP-main\\dataset\\scraped\\gaming\\PUBG TV\", r'*.txt', r'14_%s')"
   ]
  },
  {
   "cell_type": "code",
   "execution_count": 29,
   "id": "df7241fd",
   "metadata": {},
   "outputs": [],
   "source": [
    "rename(r\"C:\\Users\\shiva\\Downloads\\GAIP-main\\GAIP-main\\dataset\\scraped\\gaming\\PUBG TV\", r'*.jpg', r'14_%s')"
   ]
  },
  {
   "cell_type": "code",
   "execution_count": 30,
   "id": "0bc89878",
   "metadata": {},
   "outputs": [],
   "source": [
    "rename(r\"C:\\Users\\shiva\\Downloads\\GAIP-main\\GAIP-main\\dataset\\scraped\\gaming\\SquishyMuffinz\", r'*.txt', r'15_%s')"
   ]
  },
  {
   "cell_type": "code",
   "execution_count": 31,
   "id": "cf3e0c85",
   "metadata": {},
   "outputs": [],
   "source": [
    "rename(r\"C:\\Users\\shiva\\Downloads\\GAIP-main\\GAIP-main\\dataset\\scraped\\gaming\\SquishyMuffinz\", r'*.jpg', r'15_%s')"
   ]
  },
  {
   "cell_type": "code",
   "execution_count": 32,
   "id": "10b5df78",
   "metadata": {},
   "outputs": [],
   "source": [
    "rename(r\"C:\\Users\\shiva\\Downloads\\GAIP-main\\GAIP-main\\dataset\\scraped\\gaming\\Tomographic\", r'*.txt', r'16_%s')"
   ]
  },
  {
   "cell_type": "code",
   "execution_count": 33,
   "id": "956fb4f8",
   "metadata": {},
   "outputs": [],
   "source": [
    "rename(r\"C:\\Users\\shiva\\Downloads\\GAIP-main\\GAIP-main\\dataset\\scraped\\gaming\\Tomographic\", r'*.jpg', r'16_%s')"
   ]
  },
  {
   "cell_type": "code",
   "execution_count": 34,
   "id": "4ecde3ea",
   "metadata": {},
   "outputs": [],
   "source": [
    "rename(r\"C:\\Users\\shiva\\Downloads\\GAIP-main\\GAIP-main\\dataset\\scraped\\gaming\\jackfrags\", r'*.txt', r'17_%s')"
   ]
  },
  {
   "cell_type": "code",
   "execution_count": 35,
   "id": "8e8b6d3d",
   "metadata": {},
   "outputs": [],
   "source": [
    "rename(r\"C:\\Users\\shiva\\Downloads\\GAIP-main\\GAIP-main\\dataset\\scraped\\gaming\\jackfrags\", r'*.jpg', r'17_%s')"
   ]
  },
  {
   "cell_type": "code",
   "execution_count": 36,
   "id": "85b1e7ef",
   "metadata": {},
   "outputs": [],
   "source": [
    "rename(r\"C:\\Users\\shiva\\Downloads\\GAIP-main\\GAIP-main\\dataset\\scraped\\gaming\\iTemp Plays\", r'*.txt', r'18_%s')"
   ]
  },
  {
   "cell_type": "code",
   "execution_count": 37,
   "id": "c0fc305e",
   "metadata": {},
   "outputs": [],
   "source": [
    "rename(r\"C:\\Users\\shiva\\Downloads\\GAIP-main\\GAIP-main\\dataset\\scraped\\gaming\\iTemp Plays\", r'*.jpg', r'18_%s')"
   ]
  },
  {
   "cell_type": "code",
   "execution_count": 38,
   "id": "69d02533",
   "metadata": {},
   "outputs": [],
   "source": [
    "rename(r\"C:\\Users\\shiva\\Downloads\\GAIP-main\\GAIP-main\\dataset\\scraped\\gaming\\Spacys\", r'*.txt', r'19_%s')"
   ]
  },
  {
   "cell_type": "code",
   "execution_count": 39,
   "id": "4e2e435e",
   "metadata": {},
   "outputs": [],
   "source": [
    "rename(r\"C:\\Users\\shiva\\Downloads\\GAIP-main\\GAIP-main\\dataset\\scraped\\gaming\\Spacys\", r'*.jpg', r'19_%s')"
   ]
  },
  {
   "cell_type": "code",
   "execution_count": 40,
   "id": "e3f05dd2",
   "metadata": {},
   "outputs": [],
   "source": [
    "rename(r\"C:\\Users\\shiva\\Downloads\\GAIP-main\\GAIP-main\\dataset\\scraped\\gaming\\randomfrankp\", r'*.txt', r'20_%s')"
   ]
  },
  {
   "cell_type": "code",
   "execution_count": 41,
   "id": "477ed8d8",
   "metadata": {},
   "outputs": [],
   "source": [
    "rename(r\"C:\\Users\\shiva\\Downloads\\GAIP-main\\GAIP-main\\dataset\\scraped\\gaming\\randomfrankp\", r'*.jpg', r'20_%s')"
   ]
  },
  {
   "cell_type": "code",
   "execution_count": null,
   "id": "0d28840b",
   "metadata": {},
   "outputs": [],
   "source": []
  },
  {
   "cell_type": "code",
   "execution_count": null,
   "id": "99cafa6e",
   "metadata": {},
   "outputs": [],
   "source": []
  }
 ],
 "metadata": {
  "kernelspec": {
   "display_name": "Python 3 (ipykernel)",
   "language": "python",
   "name": "python3"
  },
  "language_info": {
   "codemirror_mode": {
    "name": "ipython",
    "version": 3
   },
   "file_extension": ".py",
   "mimetype": "text/x-python",
   "name": "python",
   "nbconvert_exporter": "python",
   "pygments_lexer": "ipython3",
   "version": "3.9.7"
  }
 },
 "nbformat": 4,
 "nbformat_minor": 5
}
