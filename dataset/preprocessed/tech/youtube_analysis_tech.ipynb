{
 "cells": [
  {
   "cell_type": "code",
   "execution_count": null,
   "id": "82c754d4",
   "metadata": {},
   "outputs": [],
   "source": [
    "from googleapiclient.discovery import build\n",
    "import numpy as np\n",
    "import pandas as pd\n",
    "\n",
    "import urllib\n",
    "\n",
    "from youtube_transcript_api import YouTubeTranscriptApi\n",
    "import os\n",
    "import shutil"
   ]
  },
  {
   "cell_type": "code",
   "execution_count": null,
   "id": "64a8ce37",
   "metadata": {},
   "outputs": [],
   "source": [
    "api_key = 'enter your api key' #generated youtube api key from googgle console\n",
    "youtube = build('youtube', 'v3', developerKey=api_key)\n",
    "\n",
    "df=pd.read_csv(\"tech_youtube_channel.csv\")\n",
    "df"
   ]
  },
  {
   "cell_type": "code",
   "execution_count": null,
   "id": "3e9710f6",
   "metadata": {},
   "outputs": [],
   "source": [
    "channel_ids=df.squeeze() #converting df to series\n",
    "print(channel_ids)\n",
    "print(type(channel_ids))"
   ]
  },
  {
   "cell_type": "markdown",
   "id": "2d96fcaa",
   "metadata": {},
   "source": [
    "## Function to get channel statistics"
   ]
  },
  {
   "cell_type": "code",
   "execution_count": null,
   "id": "bacbf3f9",
   "metadata": {},
   "outputs": [],
   "source": [
    "def get_channel_stats(youtube, channel_ids):\n",
    "    all_data = []\n",
    "    request = youtube.channels().list(\n",
    "                part='snippet,contentDetails,statistics',\n",
    "                id=','.join(channel_ids))\n",
    "    response = request.execute() \n",
    "    \n",
    "    for i in range(len(response['items'])):\n",
    "        data = dict(Channel_name = response['items'][i]['snippet']['title'],\n",
    "                    Subscribers = response['items'][i]['statistics']['subscriberCount'],\n",
    "                    Views = response['items'][i]['statistics']['viewCount'],\n",
    "                    Total_videos = response['items'][i]['statistics']['videoCount'],\n",
    "                    playlist_id = response['items'][i]['contentDetails']['relatedPlaylists']['uploads'])\n",
    "        all_data.append(data)\n",
    "    \n",
    "    return all_data"
   ]
  },
  {
   "cell_type": "code",
   "execution_count": null,
   "id": "a8a9ab78",
   "metadata": {},
   "outputs": [],
   "source": [
    "channel_statistics = get_channel_stats(youtube, channel_ids)\n",
    "channel_data = pd.DataFrame(channel_statistics)\n",
    "\n",
    "channel_data['Subscribers'] = pd.to_numeric(channel_data['Subscribers']) #converting to numeric values\n",
    "channel_data['Views'] = pd.to_numeric(channel_data['Views']) #converting to numeric values\n",
    "channel_data['Total_videos'] = pd.to_numeric(channel_data['Total_videos']) #converting to numeric values\n",
    "channel_data['channel_ID']=channel_ids\n",
    "channel_data.dtypes"
   ]
  },
  {
   "cell_type": "code",
   "execution_count": null,
   "id": "98ddb122",
   "metadata": {},
   "outputs": [],
   "source": [
    "channel_data.to_csv('All_Tech_Channel_Details.csv')\n",
    "channel_data"
   ]
  },
  {
   "cell_type": "markdown",
   "id": "0aee6e25",
   "metadata": {},
   "source": [
    "## Function to get video ids"
   ]
  },
  {
   "cell_type": "code",
   "execution_count": null,
   "id": "a673bb59",
   "metadata": {},
   "outputs": [],
   "source": [
    "def get_video_ids(youtube, playlist_id):\n",
    "\n",
    "    request = youtube.playlistItems().list(\n",
    "                part='contentDetails',\n",
    "                playlistId = playlist_id,\n",
    "                maxResults = 50)\n",
    "    response = request.execute()\n",
    "\n",
    "    video_ids = []\n",
    "\n",
    "    for i in range(len(response['items'])):\n",
    "        video_ids.append(response['items'][i]['contentDetails']['videoId'])\n",
    "\n",
    "    next_page_token = response.get('nextPageToken')\n",
    "    more_pages = True\n",
    "\n",
    "    while more_pages:\n",
    "        if next_page_token is None:\n",
    "            more_pages = False\n",
    "        else:\n",
    "            request = youtube.playlistItems().list(\n",
    "                        part='contentDetails',\n",
    "                        playlistId = playlist_id,\n",
    "                        maxResults = 50,\n",
    "                        pageToken = next_page_token)\n",
    "            response = request.execute()\n",
    "\n",
    "            for i in range(len(response['items'])):\n",
    "                video_ids.append(response['items'][i]['contentDetails']['videoId'])\n",
    "\n",
    "            next_page_token = response.get('nextPageToken') #to have more than 50 videos(remove the limit)\n",
    "\n",
    "    return video_ids\n",
    "\n",
    "def get_video_details(youtube, video_ids):\n",
    "\n",
    "    all_video_stats = []\n",
    "    \n",
    "    for i in range(0, len(video_ids), 50):\n",
    "        #try:\n",
    "            request = youtube.videos().list(\n",
    "                        part='snippet,statistics',\n",
    "                        id=','.join(video_ids[i:i+50]))\n",
    "            response = request.execute()\n",
    "        \n",
    "            for video in response['items']:\n",
    "                video_stats = dict(Title = video['snippet']['title'],\n",
    "                                Published_date = video['snippet']['publishedAt'],\n",
    "                                Views = video['statistics']['viewCount'],\n",
    "                                Likes = video['statistics']['likeCount'],\n",
    "                                Comments = video['statistics']['commentCount']\n",
    "                                )\n",
    "                all_video_stats.append(video_stats)\n",
    "        #except:\n",
    "           # continue\n",
    "    return all_video_stats"
   ]
  },
  {
   "cell_type": "code",
   "execution_count": null,
   "id": "16a7f31d",
   "metadata": {},
   "outputs": [],
   "source": [
    "for k in range(len(channel_data)):\n",
    "    \n",
    "    playlist_id = channel_data.loc[channel_data['Channel_name']==channel_data.loc[k]['Channel_name'], 'playlist_id'].iloc[0]\n",
    "    \n",
    "    try:\n",
    "        video_ids = get_video_ids(youtube, playlist_id)\n",
    "        video_details = get_video_details(youtube, video_ids)\n",
    "    except:\n",
    "        continue\n",
    "\n",
    "    video_data = pd.DataFrame(video_details)\n",
    "    video_data['Views'] = pd.to_numeric(video_data['Views']) #converting to numeric values\n",
    "    video_data['Likes'] = pd.to_numeric(video_data['Likes']) #converting to numeric values\n",
    "    print(video_data)\n",
    "\n",
    "    video_data['Month'] = pd.to_datetime(video_data['Published_date']).dt.strftime('%b')\n",
    "    video_data['ID']=video_ids\n",
    "    video_data=video_data.loc[(video_data['Published_date'] >= '2020-01-01')] #select all videos on and after 1st Jan 2020 \n",
    "    print(video_data)\n",
    "\n",
    "    thumbnail=video_data['ID'].values.tolist() #thumbnail is the list of 'ID' in video_data dataframe\n",
    "    \n",
    "    path = r\"C:\\Users\\goenk\\Desktop\\data\\tech\\{}\".format(channel_data.loc[k]['Channel_name']) #making different folders for each youtube channel\n",
    "    os.mkdir(path)\n",
    "\n",
    "    #opening each folder to store the thumbnail images, video captions for each video of the channel\n",
    "    \n",
    "    for i in thumbnail: \n",
    "        try:      \n",
    "\n",
    "            video_data.to_csv(\"All_Video_Details.csv\") #channel details csv\n",
    "\n",
    "            videoImage=(\"https://img.youtube.com/vi/{}/sddefault.jpg\".format(i)) #thumbnail photo\n",
    "            urllib.request.urlretrieve(videoImage, r\"C:\\Users\\goenk\\Desktop\\data\\tech\\{}\\{}.jpg\".format(channel_data.loc[k]['Channel_name'],thumbnail.index(i)))  #thumbnail images moved to channel folder     \n",
    "            \n",
    "            srt = YouTubeTranscriptApi.get_transcript(i)  #video caption/transcript/subtitle\n",
    "            text = \"\"\n",
    "            with open(\"{}.txt\".format(thumbnail.index(i)), \"w\") as file:\n",
    "                for j in srt:\n",
    "                    text += j[\"text\"] + \" \"\n",
    "                file.write(text)\n",
    "            \n",
    "            source_folder = r\"C:\\Users\\goenk\\Desktop\\data\\tech\\\\\"\n",
    "            destination_folder = r\"C:\\Users\\goenk\\Desktop\\data\\tech\\{}\\\\\".format(channel_data.loc[k]['Channel_name']) \n",
    "            files_to_move = [\"All_Video_Details.csv\" , \"{}.txt\".format(thumbnail.index(i))]\n",
    "\n",
    "            # iterate files\n",
    "            for file in files_to_move:\n",
    "                # construct full file path\n",
    "                source = source_folder + file\n",
    "                destination = destination_folder + file\n",
    "                shutil.move(source, destination) # move file\n",
    "                print('Moved:', file)\n",
    "\n",
    "            #os.startfile(\"{}.txt\".format(thumbnail.index(i))) #opens the subtitle file while running the code\n",
    "        except:       \n",
    "            print(\"PROBLEM ENCOUNTERED\") \n",
    "            continue"
   ]
  }
 ],
 "metadata": {
  "kernelspec": {
   "display_name": "Python 3 (ipykernel)",
   "language": "python",
   "name": "python3"
  },
  "language_info": {
   "codemirror_mode": {
    "name": "ipython",
    "version": 3
   },
   "file_extension": ".py",
   "mimetype": "text/x-python",
   "name": "python",
   "nbconvert_exporter": "python",
   "pygments_lexer": "ipython3",
   "version": "3.9.9"
  },
  "vscode": {
   "interpreter": {
    "hash": "c1fb64ce72ee418b906114904f2c5455677304d704cd042ec95fedfd82a35843"
   }
  }
 },
 "nbformat": 4,
 "nbformat_minor": 5
}
