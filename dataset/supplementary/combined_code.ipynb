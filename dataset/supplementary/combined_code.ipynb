{
  "nbformat": 4,
  "nbformat_minor": 0,
  "metadata": {
    "colab": {
      "name": "Untitled2.ipynb",
      "provenance": []
    },
    "kernelspec": {
      "name": "python3",
      "display_name": "Python 3"
    },
    "language_info": {
      "name": "python"
    }
  },
  "cells": [
    {
      "cell_type": "code",
      "execution_count": null,
      "metadata": {
        "id": "DgooiwYKQlbO"
      },
      "outputs": [],
      "source": [
        "import pandas as pd\n"
      ]
    },
    {
      "cell_type": "code",
      "source": [
        "df1=pd.read_csv(\"/content/All_Video_Details_Aculite.csv\")\n",
        "df2=pd.read_csv(\"/content/All_Video_Details_Android Rakun.csv\")\n",
        "df3=pd.read_csv(\"/content/All_Video_Details_GTA Workshop.csv\")\n",
        "df4=pd.read_csv(\"/content/All_Video_Details_GameToons Gaming.csv\")\n",
        "df5=pd.read_csv(\"/content/All_Video_Details_GameTunes.csv\")\n",
        "df6=pd.read_csv(\"/content/All_Video_Details_MKIceAndFire.csv\")\n",
        "df7=pd.read_csv(\"/content/All_Video_Details_Madd Trevor.csv\")\n",
        "df8=pd.read_csv(\"/content/All_Video_Details_Modest Pelican.csv\")\n",
        "df9=pd.read_csv(\"/content/All_Video_Details_Mr. Fruit.csv\")\n",
        "df10=pd.read_csv(\"/content/All_Video_Details_Nick930.csv\")\n",
        "df11=pd.read_csv(\"/content/All_Video_Details_PUBG TV.csv\")\n",
        "df12=pd.read_csv(\"/content/All_Video_Details_Spacys.csv\")\n",
        "df13=pd.read_csv(\"/content/All_Video_Details_SquishyMuffinz.csv\")\n",
        "df14=pd.read_csv(\"/content/All_Video_Details_Tomographic.csv\")\n",
        "df15=pd.read_csv(\"/content/All_Video_Details_Top Apex Plays.csv\")\n",
        "df16=pd.read_csv(\"/content/All_Video_Details_Xpertgamingtech.csv\")\n",
        "df17=pd.read_csv(\"/content/All_Video_Details_hanedafz.csv\")\n",
        "df18=pd.read_csv(\"/content/All_Video_Details_iTemp Plays.csv\")\n",
        "df19=pd.read_csv(\"/content/All_Video_Details_jackfrags.csv\")\n",
        "df20=pd.read_csv(\"/content/All_Video_Details_randomfrankp.csv\")\n"
      ],
      "metadata": {
        "id": "qCrCHM-fQsI4"
      },
      "execution_count": null,
      "outputs": []
    },
    {
      "cell_type": "code",
      "source": [
        "df=pd.concat([df1,df2,df3,df4,df5,df6,df7,df8,df9,df10,df11,df12,df13,df14,df15,df16,df17,df18,df19,df20])\n",
        "\n"
      ],
      "metadata": {
        "id": "PlrHwiakStre"
      },
      "execution_count": null,
      "outputs": []
    },
    {
      "cell_type": "code",
      "source": [
        "print(type(df))\n",
        "df.to_csv(\"all_gaming_videos.csv\")"
      ],
      "metadata": {
        "colab": {
          "base_uri": "https://localhost:8080/"
        },
        "id": "GL13Y0aXTezx",
        "outputId": "dfd82199-6f1f-46ee-a914-4eae200b1af4"
      },
      "execution_count": null,
      "outputs": [
        {
          "output_type": "stream",
          "name": "stdout",
          "text": [
            "<class 'pandas.core.frame.DataFrame'>\n"
          ]
        }
      ]
    }
  ]
}